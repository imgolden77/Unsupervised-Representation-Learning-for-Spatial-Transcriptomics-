{
 "cells": [
  {
   "cell_type": "markdown",
   "id": "56fc5a70",
   "metadata": {},
   "source": [
    "## Import necessary packages"
   ]
  },
  {
   "cell_type": "code",
   "execution_count": null,
   "id": "aafcd9dc",
   "metadata": {},
   "outputs": [],
   "source": [
    "import warnings\n",
    "warnings.filterwarnings(\"ignore\")\n",
    "\n",
    "import sys\n",
    "import os\n",
    "\n",
    "sys.path.append(os.path.abspath(\"..\"))\n",
    "\n",
    "import hdf5plugin\n",
    "import numpy as np\n",
    "import anndata as ad\n",
    "from scipy.sparse import csr_matrix\n",
    "from CellPLM.utils import set_seed\n",
    "from CellPLM.pipeline.cell_type_annotation import CellTypeAnnotationPipeline, CellTypeAnnotationDefaultPipelineConfig, CellTypeAnnotationDefaultModelConfig"
   ]
  },
  {
   "cell_type": "markdown",
   "id": "536d3952",
   "metadata": {},
   "source": [
    "## Specify important parameters before getting started"
   ]
  },
  {
   "cell_type": "code",
   "execution_count": 2,
   "id": "874f0469",
   "metadata": {},
   "outputs": [],
   "source": [
    "DATASET = 'MS' # 'hPancreas'\n",
    "PRETRAIN_VERSION = '20230926_85M'\n",
    "DEVICE = 'cuda:3'"
   ]
  },
  {
   "cell_type": "markdown",
   "id": "044a88ad",
   "metadata": {},
   "source": [
    "## Load Downstream Dataset\n",
    "\n",
    "The MS dataset is contributed by [scGPT](https://github.com/bowang-lab/scGPT/blob/main/tutorials/Tutorial_Annotation.ipynb). hPancreas dataset is contributed by [TOSICA](https://github.com/JackieHanLab/TOSICA/blob/main/test/tutorial.ipynb).\n"
   ]
  },
  {
   "cell_type": "code",
   "execution_count": 3,
   "id": "63c4d4d6",
   "metadata": {},
   "outputs": [],
   "source": [
    "set_seed(42)\n",
    "if DATASET == 'hPancreas':\n",
    "    data_train = ad.read_h5ad(f'../data/demo_train.h5ad')\n",
    "    data_test = ad.read_h5ad(f'../data/demo_test.h5ad')\n",
    "    train_num = data_train.shape[0]\n",
    "    data = ad.concat([data_train, data_test])\n",
    "    data.X = csr_matrix(data.X)\n",
    "    data.obs['celltype'] = data.obs['Celltype']\n",
    "\n",
    "elif DATASET == 'MS':\n",
    "    data_train = ad.read_h5ad(f'../data/c_data.h5ad')\n",
    "    data_test = ad.read_h5ad(f'../data/filtered_ms_adata.h5ad')\n",
    "    data_train.var = data_train.var.set_index('index_column')\n",
    "    data_test.var = data_test.var.set_index('index_column')\n",
    "    train_num = data_train.shape[0]\n",
    "    data = ad.concat([data_train, data_test])\n",
    "    data.var_names_make_unique()\n",
    "\n",
    "data.obs['split'] = 'test'\n",
    "tr = np.random.permutation(train_num) #torch.randperm(train_num).numpy()\n",
    "data.obs['split'][tr[:int(train_num*0.9)]] = 'train'\n",
    "data.obs['split'][tr[int(train_num*0.9):train_num]] = 'valid'"
   ]
  },
  {
   "cell_type": "markdown",
   "id": "ff96bc99",
   "metadata": {},
   "source": [
    "## Overwrite parts of the default config\n",
    "These hyperparameters are recommended for general purpose. We did not tune it for individual datasets. You may update them if needed."
   ]
  },
  {
   "cell_type": "code",
   "execution_count": 4,
   "id": "4c6cccb6",
   "metadata": {},
   "outputs": [
    {
     "data": {
      "text/plain": [
       "({'es': 200,\n",
       "  'lr': 0.005,\n",
       "  'wd': 1e-07,\n",
       "  'scheduler': 'plat',\n",
       "  'epochs': 2000,\n",
       "  'max_eval_batch_size': 100000,\n",
       "  'hvg': 3000,\n",
       "  'patience': 25,\n",
       "  'workers': 0,\n",
       "  'device': 'cuda:3'},\n",
       " {'drop_node_rate': 0.3,\n",
       "  'dec_layers': 1,\n",
       "  'model_dropout': 0.5,\n",
       "  'mask_node_rate': 0.75,\n",
       "  'mask_feature_rate': 0.25,\n",
       "  'dec_mod': 'mlp',\n",
       "  'latent_mod': 'ae',\n",
       "  'head_type': 'annotation',\n",
       "  'max_batch_size': 70000,\n",
       "  'out_dim': 18})"
      ]
     },
     "execution_count": 4,
     "metadata": {},
     "output_type": "execute_result"
    }
   ],
   "source": [
    "pipeline_config = CellTypeAnnotationDefaultPipelineConfig.copy()\n",
    "\n",
    "model_config = CellTypeAnnotationDefaultModelConfig.copy()\n",
    "model_config['out_dim'] = data.obs['celltype'].nunique()\n",
    "pipeline_config, model_config"
   ]
  },
  {
   "cell_type": "markdown",
   "id": "5dfe80a4",
   "metadata": {},
   "source": [
    "## Fine-tuning"
   ]
  },
  {
   "cell_type": "markdown",
   "id": "0cd48872",
   "metadata": {},
   "source": [
    "Efficient data setup and fine-tuning can be seamlessly conducted using the CellPLM built-in `pipeline` module.\n",
    "\n",
    "First, initialize a `CellTypeAnnotationPipeline`. This pipeline will automatically load a pretrained model."
   ]
  },
  {
   "cell_type": "code",
   "execution_count": 5,
   "id": "e54b753e",
   "metadata": {},
   "outputs": [
    {
     "data": {
      "text/plain": [
       "OmicsFormer(\n",
       "  (embedder): OmicsEmbeddingLayer(\n",
       "    (act): ReLU()\n",
       "    (norm0): GroupNorm(4, 1024, eps=1e-05, affine=True)\n",
       "    (dropout): Dropout(p=0.5, inplace=False)\n",
       "    (extra_linear): Sequential(\n",
       "      (0): Linear(in_features=1024, out_features=1024, bias=True)\n",
       "      (1): ReLU()\n",
       "      (2): Dropout(p=0.5, inplace=False)\n",
       "      (3): GroupNorm(4, 1024, eps=1e-05, affine=True)\n",
       "    )\n",
       "    (pe_enc): Sinusoidal2dPE(\n",
       "      (pe_enc): Embedding(10000, 1024)\n",
       "    )\n",
       "    (feat_enc): OmicsEmbedder()\n",
       "  )\n",
       "  (mask_model): MaskBuilder()\n",
       "  (encoder): TransformerEncoder(\n",
       "    (layers): ModuleList(\n",
       "      (0): FlowformerLayer(\n",
       "        (self_attn): Flow_Attention(\n",
       "          (query_projection): Linear(in_features=1024, out_features=1024, bias=True)\n",
       "          (key_projection): Linear(in_features=1024, out_features=1024, bias=True)\n",
       "          (value_projection): Linear(in_features=1024, out_features=1024, bias=True)\n",
       "          (out_projection): Linear(in_features=1024, out_features=1024, bias=True)\n",
       "          (dropout): Dropout(p=0.01, inplace=False)\n",
       "        )\n",
       "        (_ff_block): Sequential(\n",
       "          (0): Linear(in_features=1024, out_features=2048, bias=True)\n",
       "          (1): GELU(approximate='none')\n",
       "          (2): Dropout(p=0.5, inplace=False)\n",
       "          (3): Linear(in_features=2048, out_features=1024, bias=True)\n",
       "          (4): Dropout(p=0.5, inplace=False)\n",
       "        )\n",
       "        (dropout1): Dropout(p=0.5, inplace=False)\n",
       "        (norm1): LayerNorm((1024,), eps=1e-05, elementwise_affine=True)\n",
       "        (norm2): LayerNorm((1024,), eps=1e-05, elementwise_affine=True)\n",
       "      )\n",
       "      (1): FlowformerLayer(\n",
       "        (self_attn): Flow_Attention(\n",
       "          (query_projection): Linear(in_features=1024, out_features=1024, bias=True)\n",
       "          (key_projection): Linear(in_features=1024, out_features=1024, bias=True)\n",
       "          (value_projection): Linear(in_features=1024, out_features=1024, bias=True)\n",
       "          (out_projection): Linear(in_features=1024, out_features=1024, bias=True)\n",
       "          (dropout): Dropout(p=0.01, inplace=False)\n",
       "        )\n",
       "        (_ff_block): Sequential(\n",
       "          (0): Linear(in_features=1024, out_features=2048, bias=True)\n",
       "          (1): GELU(approximate='none')\n",
       "          (2): Dropout(p=0.5, inplace=False)\n",
       "          (3): Linear(in_features=2048, out_features=1024, bias=True)\n",
       "          (4): Dropout(p=0.5, inplace=False)\n",
       "        )\n",
       "        (dropout1): Dropout(p=0.5, inplace=False)\n",
       "        (norm1): LayerNorm((1024,), eps=1e-05, elementwise_affine=True)\n",
       "        (norm2): LayerNorm((1024,), eps=1e-05, elementwise_affine=True)\n",
       "      )\n",
       "      (2): FlowformerLayer(\n",
       "        (self_attn): Flow_Attention(\n",
       "          (query_projection): Linear(in_features=1024, out_features=1024, bias=True)\n",
       "          (key_projection): Linear(in_features=1024, out_features=1024, bias=True)\n",
       "          (value_projection): Linear(in_features=1024, out_features=1024, bias=True)\n",
       "          (out_projection): Linear(in_features=1024, out_features=1024, bias=True)\n",
       "          (dropout): Dropout(p=0.01, inplace=False)\n",
       "        )\n",
       "        (_ff_block): Sequential(\n",
       "          (0): Linear(in_features=1024, out_features=2048, bias=True)\n",
       "          (1): GELU(approximate='none')\n",
       "          (2): Dropout(p=0.5, inplace=False)\n",
       "          (3): Linear(in_features=2048, out_features=1024, bias=True)\n",
       "          (4): Dropout(p=0.5, inplace=False)\n",
       "        )\n",
       "        (dropout1): Dropout(p=0.5, inplace=False)\n",
       "        (norm1): LayerNorm((1024,), eps=1e-05, elementwise_affine=True)\n",
       "        (norm2): LayerNorm((1024,), eps=1e-05, elementwise_affine=True)\n",
       "      )\n",
       "      (3): FlowformerLayer(\n",
       "        (self_attn): Flow_Attention(\n",
       "          (query_projection): Linear(in_features=1024, out_features=1024, bias=True)\n",
       "          (key_projection): Linear(in_features=1024, out_features=1024, bias=True)\n",
       "          (value_projection): Linear(in_features=1024, out_features=1024, bias=True)\n",
       "          (out_projection): Linear(in_features=1024, out_features=1024, bias=True)\n",
       "          (dropout): Dropout(p=0.01, inplace=False)\n",
       "        )\n",
       "        (_ff_block): Sequential(\n",
       "          (0): Linear(in_features=1024, out_features=2048, bias=True)\n",
       "          (1): GELU(approximate='none')\n",
       "          (2): Dropout(p=0.5, inplace=False)\n",
       "          (3): Linear(in_features=2048, out_features=1024, bias=True)\n",
       "          (4): Dropout(p=0.5, inplace=False)\n",
       "        )\n",
       "        (dropout1): Dropout(p=0.5, inplace=False)\n",
       "        (norm1): LayerNorm((1024,), eps=1e-05, elementwise_affine=True)\n",
       "        (norm2): LayerNorm((1024,), eps=1e-05, elementwise_affine=True)\n",
       "      )\n",
       "    )\n",
       "  )\n",
       "  (latent): LatentModel(\n",
       "    (layers): ModuleList(\n",
       "      (0): PlaceholderLayer()\n",
       "      (1): MergeLatentLayer(\n",
       "        (lat_2lat): Sequential(\n",
       "          (0): Linear(in_features=1024, out_features=512, bias=True)\n",
       "        )\n",
       "      )\n",
       "    )\n",
       "  )\n",
       "  (head): AnnotationHead(\n",
       "    (ce_loss): CrossEntropyLoss()\n",
       "    (mlp): Sequential(\n",
       "      (0): Dropout(p=0.5, inplace=False)\n",
       "      (1): Linear(in_features=512, out_features=18, bias=True)\n",
       "    )\n",
       "  )\n",
       "  (pre_latent_norm): PreLatentNorm(\n",
       "    (norm): LayerNorm((1024,), eps=1e-05, elementwise_affine=True)\n",
       "  )\n",
       ")"
      ]
     },
     "execution_count": 5,
     "metadata": {},
     "output_type": "execute_result"
    }
   ],
   "source": [
    "pipeline = CellTypeAnnotationPipeline(pretrain_prefix=PRETRAIN_VERSION, # Specify the pretrain checkpoint to load\n",
    "                                      overwrite_config=model_config,  # This is for overwriting part of the pretrain config\n",
    "                                      pretrain_directory='../ckpt')\n",
    "pipeline.model"
   ]
  },
  {
   "cell_type": "markdown",
   "id": "12d7d4a9",
   "metadata": {},
   "source": [
    "Next, employ the `fit` function to fine-tune the model on your downstream dataset. This dataset should be in the form of an AnnData object, where `.X` is a csr_matrix, and `.obs` includes information for train-test splitting and cell type labels.\n",
    "\n",
    "Typically, a dataset containing approximately 20,000 cells can be trained in under 10 minutes using a V100 GPU card, with an expected GPU memory consumption of around 8GB."
   ]
  },
  {
   "cell_type": "code",
   "execution_count": 6,
   "id": "69b0b9cb",
   "metadata": {
    "scrolled": true
   },
   "outputs": [
    {
     "name": "stdout",
     "output_type": "stream",
     "text": [
      "After filtering, 2763 genes remain.\n"
     ]
    },
    {
     "name": "stderr",
     "output_type": "stream",
     "text": [
      "  0%|                                                                                                                                                                                | 1/2000 [00:01<59:35,  1.79s/it]"
     ]
    },
    {
     "name": "stdout",
     "output_type": "stream",
     "text": [
      "Epoch 0 | Train loss: 2.9064 | Valid loss: 2.8302\n",
      "Train ACC: 0.0858 | Valid ACC: 0.0625 | Train f1: 0.0345 | Valid f1: 0.0241 | Train pre: 0.0633 | Valid pre: 0.0149\n"
     ]
    },
    {
     "name": "stderr",
     "output_type": "stream",
     "text": [
      "\r\n",
      "  0%|▏                                                                                                                                                                               | 2/2000 [00:02<41:47,  1.26s/it]"
     ]
    },
    {
     "name": "stdout",
     "output_type": "stream",
     "text": [
      "Epoch 1 | Train loss: 2.8322 | Valid loss: 2.6741\n",
      "Train ACC: 0.0862 | Valid ACC: 0.0625 | Train f1: 0.0390 | Valid f1: 0.0240 | Train pre: 0.0506 | Valid pre: 0.0149\n"
     ]
    },
    {
     "name": "stderr",
     "output_type": "stream",
     "text": [
      "\r\n",
      "  0%|▎                                                                                                                                                                               | 3/2000 [00:03<38:16,  1.15s/it]"
     ]
    },
    {
     "name": "stdout",
     "output_type": "stream",
     "text": [
      "Epoch 2 | Train loss: 2.6981 | Valid loss: 2.4554\n",
      "Train ACC: 0.0597 | Valid ACC: 0.0625 | Train f1: 0.0265 | Valid f1: 0.0240 | Train pre: 0.1116 | Valid pre: 0.0149\n"
     ]
    },
    {
     "name": "stderr",
     "output_type": "stream",
     "text": [
      "\r\n",
      "  0%|▎                                                                                                                                                                               | 4/2000 [00:04<34:35,  1.04s/it]"
     ]
    },
    {
     "name": "stdout",
     "output_type": "stream",
     "text": [
      "Epoch 3 | Train loss: 2.4952 | Valid loss: 2.2452\n",
      "Train ACC: 0.0556 | Valid ACC: 0.0625 | Train f1: 0.0232 | Valid f1: 0.0240 | Train pre: 0.0147 | Valid pre: 0.0149\n"
     ]
    },
    {
     "name": "stderr",
     "output_type": "stream",
     "text": [
      "\r\n",
      "  0%|▍                                                                                                                                                                               | 5/2000 [00:05<33:13,  1.00it/s]"
     ]
    },
    {
     "name": "stdout",
     "output_type": "stream",
     "text": [
      "Epoch 4 | Train loss: 2.2772 | Valid loss: 2.2024\n",
      "Train ACC: 0.0556 | Valid ACC: 0.0625 | Train f1: 0.0229 | Valid f1: 0.0240 | Train pre: 0.0144 | Valid pre: 0.0149\n"
     ]
    },
    {
     "name": "stderr",
     "output_type": "stream",
     "text": [
      "\r\n",
      "  0%|▌                                                                                                                                                                               | 6/2000 [00:06<33:28,  1.01s/it]"
     ]
    },
    {
     "name": "stdout",
     "output_type": "stream",
     "text": [
      "Epoch 5 | Train loss: 2.1498 | Valid loss: 1.8948\n",
      "Train ACC: 0.0556 | Valid ACC: 0.0715 | Train f1: 0.0230 | Valid f1: 0.0383 | Train pre: 0.0145 | Valid pre: 0.0262\n"
     ]
    },
    {
     "name": "stderr",
     "output_type": "stream",
     "text": [
      "\r\n",
      "  0%|▌                                                                                                                                                                               | 7/2000 [00:07<34:24,  1.04s/it]"
     ]
    },
    {
     "name": "stdout",
     "output_type": "stream",
     "text": [
      "Epoch 6 | Train loss: 1.9566 | Valid loss: 1.7495\n",
      "Train ACC: 0.0739 | Valid ACC: 0.1892 | Train f1: 0.0475 | Valid f1: 0.1551 | Train pre: 0.0780 | Valid pre: 0.1505\n"
     ]
    },
    {
     "name": "stderr",
     "output_type": "stream",
     "text": [
      "\r\n",
      "  0%|▋                                                                                                                                                                               | 8/2000 [00:08<32:48,  1.01it/s]"
     ]
    },
    {
     "name": "stdout",
     "output_type": "stream",
     "text": [
      "Epoch 7 | Train loss: 1.9081 | Valid loss: 1.5609\n",
      "Train ACC: 0.1213 | Valid ACC: 0.2922 | Train f1: 0.1066 | Valid f1: 0.2422 | Train pre: 0.1744 | Valid pre: 0.2751\n"
     ]
    },
    {
     "name": "stderr",
     "output_type": "stream",
     "text": [
      "\r\n",
      "  0%|▊                                                                                                                                                                               | 9/2000 [00:09<32:34,  1.02it/s]"
     ]
    },
    {
     "name": "stdout",
     "output_type": "stream",
     "text": [
      "Epoch 8 | Train loss: 1.7001 | Valid loss: 1.8557\n",
      "Train ACC: 0.2007 | Valid ACC: 0.2755 | Train f1: 0.1827 | Valid f1: 0.2147 | Train pre: 0.2001 | Valid pre: 0.2507\n"
     ]
    },
    {
     "name": "stderr",
     "output_type": "stream",
     "text": [
      "\r\n",
      "  0%|▉                                                                                                                                                                              | 10/2000 [00:10<31:43,  1.05it/s]"
     ]
    },
    {
     "name": "stdout",
     "output_type": "stream",
     "text": [
      "Epoch 9 | Train loss: 1.6453 | Valid loss: 1.3194\n",
      "Train ACC: 0.2293 | Valid ACC: 0.3231 | Train f1: 0.1967 | Valid f1: 0.2533 | Train pre: 0.2019 | Valid pre: 0.2606\n"
     ]
    },
    {
     "name": "stderr",
     "output_type": "stream",
     "text": [
      "\r\n",
      "  1%|▉                                                                                                                                                                              | 11/2000 [00:11<31:39,  1.05it/s]"
     ]
    },
    {
     "name": "stdout",
     "output_type": "stream",
     "text": [
      "Epoch 10 | Train loss: 1.3958 | Valid loss: 1.1970\n",
      "Train ACC: 0.2712 | Valid ACC: 0.3481 | Train f1: 0.2371 | Valid f1: 0.2787 | Train pre: 0.2313 | Valid pre: 0.2932\n"
     ]
    },
    {
     "name": "stderr",
     "output_type": "stream",
     "text": [
      "\r\n",
      "  1%|█                                                                                                                                                                              | 12/2000 [00:12<31:15,  1.06it/s]"
     ]
    },
    {
     "name": "stdout",
     "output_type": "stream",
     "text": [
      "Epoch 11 | Train loss: 1.3537 | Valid loss: 1.0831\n",
      "Train ACC: 0.3017 | Valid ACC: 0.3602 | Train f1: 0.2590 | Valid f1: 0.3003 | Train pre: 0.2732 | Valid pre: 0.3307\n"
     ]
    },
    {
     "name": "stderr",
     "output_type": "stream",
     "text": [
      "\r\n",
      "  1%|█▏                                                                                                                                                                             | 13/2000 [00:13<31:29,  1.05it/s]"
     ]
    },
    {
     "name": "stdout",
     "output_type": "stream",
     "text": [
      "Epoch 12 | Train loss: 1.1886 | Valid loss: 1.0366\n",
      "Train ACC: 0.2915 | Valid ACC: 0.4161 | Train f1: 0.2534 | Valid f1: 0.3577 | Train pre: 0.2574 | Valid pre: 0.3352\n"
     ]
    },
    {
     "name": "stderr",
     "output_type": "stream",
     "text": [
      "\r\n",
      "  1%|█▏                                                                                                                                                                             | 14/2000 [00:14<32:21,  1.02it/s]"
     ]
    },
    {
     "name": "stdout",
     "output_type": "stream",
     "text": [
      "Epoch 13 | Train loss: 1.0984 | Valid loss: 0.9317\n",
      "Train ACC: 0.2987 | Valid ACC: 0.4255 | Train f1: 0.2734 | Valid f1: 0.3582 | Train pre: 0.3475 | Valid pre: 0.3943\n"
     ]
    },
    {
     "name": "stderr",
     "output_type": "stream",
     "text": [
      "\r\n",
      "  1%|█▎                                                                                                                                                                             | 15/2000 [00:15<32:27,  1.02it/s]"
     ]
    },
    {
     "name": "stdout",
     "output_type": "stream",
     "text": [
      "Epoch 14 | Train loss: 1.0084 | Valid loss: 0.8238\n",
      "Train ACC: 0.3595 | Valid ACC: 0.5665 | Train f1: 0.3485 | Valid f1: 0.5372 | Train pre: 0.4248 | Valid pre: 0.5466\n"
     ]
    },
    {
     "name": "stderr",
     "output_type": "stream",
     "text": [
      "\r\n",
      "  1%|█▍                                                                                                                                                                             | 16/2000 [00:16<31:45,  1.04it/s]"
     ]
    },
    {
     "name": "stdout",
     "output_type": "stream",
     "text": [
      "Epoch 15 | Train loss: 0.9578 | Valid loss: 0.7737\n",
      "Train ACC: 0.4329 | Valid ACC: 0.6363 | Train f1: 0.4352 | Valid f1: 0.5963 | Train pre: 0.4961 | Valid pre: 0.5938\n"
     ]
    },
    {
     "name": "stderr",
     "output_type": "stream",
     "text": [
      "\r\n",
      "  1%|█▍                                                                                                                                                                             | 17/2000 [00:17<32:17,  1.02it/s]"
     ]
    },
    {
     "name": "stdout",
     "output_type": "stream",
     "text": [
      "Epoch 16 | Train loss: 0.9121 | Valid loss: 0.7387\n",
      "Train ACC: 0.4747 | Valid ACC: 0.6657 | Train f1: 0.4784 | Valid f1: 0.6344 | Train pre: 0.5022 | Valid pre: 0.6740\n"
     ]
    },
    {
     "name": "stderr",
     "output_type": "stream",
     "text": [
      "\r\n",
      "  1%|█▌                                                                                                                                                                             | 18/2000 [00:18<31:54,  1.04it/s]"
     ]
    },
    {
     "name": "stdout",
     "output_type": "stream",
     "text": [
      "Epoch 17 | Train loss: 0.8518 | Valid loss: 0.7445\n",
      "Train ACC: 0.5167 | Valid ACC: 0.6725 | Train f1: 0.5219 | Valid f1: 0.6415 | Train pre: 0.5318 | Valid pre: 0.6843\n"
     ]
    },
    {
     "name": "stderr",
     "output_type": "stream",
     "text": [
      "\r\n",
      "  1%|█▋                                                                                                                                                                             | 19/2000 [00:19<31:24,  1.05it/s]"
     ]
    },
    {
     "name": "stdout",
     "output_type": "stream",
     "text": [
      "Epoch 18 | Train loss: 0.8230 | Valid loss: 0.7006\n",
      "Train ACC: 0.5257 | Valid ACC: 0.6555 | Train f1: 0.5275 | Valid f1: 0.6176 | Train pre: 0.5421 | Valid pre: 0.6142\n"
     ]
    },
    {
     "name": "stderr",
     "output_type": "stream",
     "text": [
      "\r\n",
      "  1%|█▊                                                                                                                                                                             | 20/2000 [00:20<31:58,  1.03it/s]"
     ]
    },
    {
     "name": "stdout",
     "output_type": "stream",
     "text": [
      "Epoch 19 | Train loss: 0.7675 | Valid loss: 0.6538\n",
      "Train ACC: 0.5475 | Valid ACC: 0.6772 | Train f1: 0.5472 | Valid f1: 0.6378 | Train pre: 0.5588 | Valid pre: 0.6312\n"
     ]
    },
    {
     "name": "stderr",
     "output_type": "stream",
     "text": [
      "\r\n",
      "  1%|█▊                                                                                                                                                                             | 21/2000 [00:20<31:23,  1.05it/s]"
     ]
    },
    {
     "name": "stdout",
     "output_type": "stream",
     "text": [
      "Epoch 20 | Train loss: 0.7678 | Valid loss: 0.6462\n",
      "Train ACC: 0.5707 | Valid ACC: 0.6862 | Train f1: 0.5650 | Valid f1: 0.6483 | Train pre: 0.5729 | Valid pre: 0.6906\n"
     ]
    },
    {
     "name": "stderr",
     "output_type": "stream",
     "text": [
      "\r\n",
      "  1%|█▉                                                                                                                                                                             | 22/2000 [00:21<32:18,  1.02it/s]"
     ]
    },
    {
     "name": "stdout",
     "output_type": "stream",
     "text": [
      "Epoch 21 | Train loss: 0.7086 | Valid loss: 0.6464\n",
      "Train ACC: 0.5942 | Valid ACC: 0.6987 | Train f1: 0.5847 | Valid f1: 0.6655 | Train pre: 0.5820 | Valid pre: 0.6937\n"
     ]
    },
    {
     "name": "stderr",
     "output_type": "stream",
     "text": [
      "\r\n",
      "  1%|██                                                                                                                                                                             | 23/2000 [00:22<31:22,  1.05it/s]"
     ]
    },
    {
     "name": "stdout",
     "output_type": "stream",
     "text": [
      "Epoch 22 | Train loss: 0.6748 | Valid loss: 0.5954\n",
      "Train ACC: 0.5985 | Valid ACC: 0.7022 | Train f1: 0.5846 | Valid f1: 0.6612 | Train pre: 0.5876 | Valid pre: 0.6976\n"
     ]
    },
    {
     "name": "stderr",
     "output_type": "stream",
     "text": [
      "\r\n",
      "  1%|██                                                                                                                                                                             | 24/2000 [00:23<31:31,  1.04it/s]"
     ]
    },
    {
     "name": "stdout",
     "output_type": "stream",
     "text": [
      "Epoch 23 | Train loss: 0.6633 | Valid loss: 0.5832\n",
      "Train ACC: 0.6209 | Valid ACC: 0.7156 | Train f1: 0.6078 | Valid f1: 0.6850 | Train pre: 0.6082 | Valid pre: 0.7122\n"
     ]
    },
    {
     "name": "stderr",
     "output_type": "stream",
     "text": [
      "\r\n",
      "  1%|██▏                                                                                                                                                                            | 25/2000 [00:24<32:01,  1.03it/s]"
     ]
    },
    {
     "name": "stdout",
     "output_type": "stream",
     "text": [
      "Epoch 24 | Train loss: 0.6349 | Valid loss: 0.5773\n",
      "Train ACC: 0.6301 | Valid ACC: 0.7142 | Train f1: 0.6238 | Valid f1: 0.6936 | Train pre: 0.6267 | Valid pre: 0.7216\n"
     ]
    },
    {
     "name": "stderr",
     "output_type": "stream",
     "text": [
      "\r\n",
      "  1%|██▎                                                                                                                                                                            | 26/2000 [00:25<31:42,  1.04it/s]"
     ]
    },
    {
     "name": "stdout",
     "output_type": "stream",
     "text": [
      "Epoch 25 | Train loss: 0.6255 | Valid loss: 0.5799\n",
      "Train ACC: 0.6249 | Valid ACC: 0.7186 | Train f1: 0.6251 | Valid f1: 0.6986 | Train pre: 0.6373 | Valid pre: 0.7247\n"
     ]
    },
    {
     "name": "stderr",
     "output_type": "stream",
     "text": [
      "\r\n",
      "  1%|██▎                                                                                                                                                                            | 27/2000 [00:26<32:55,  1.00s/it]"
     ]
    },
    {
     "name": "stdout",
     "output_type": "stream",
     "text": [
      "Epoch 26 | Train loss: 0.5908 | Valid loss: 0.5514\n",
      "Train ACC: 0.6355 | Valid ACC: 0.7218 | Train f1: 0.6345 | Valid f1: 0.6951 | Train pre: 0.6383 | Valid pre: 0.7039\n"
     ]
    },
    {
     "name": "stderr",
     "output_type": "stream",
     "text": [
      "\r\n",
      "  1%|██▍                                                                                                                                                                            | 28/2000 [00:27<32:06,  1.02it/s]"
     ]
    },
    {
     "name": "stdout",
     "output_type": "stream",
     "text": [
      "Epoch 27 | Train loss: 0.5717 | Valid loss: 0.5319\n",
      "Train ACC: 0.6443 | Valid ACC: 0.7403 | Train f1: 0.6383 | Valid f1: 0.7147 | Train pre: 0.6367 | Valid pre: 0.7057\n"
     ]
    },
    {
     "name": "stderr",
     "output_type": "stream",
     "text": [
      "\r\n",
      "  1%|██▌                                                                                                                                                                            | 29/2000 [00:28<30:50,  1.07it/s]"
     ]
    },
    {
     "name": "stdout",
     "output_type": "stream",
     "text": [
      "Epoch 28 | Train loss: 0.5613 | Valid loss: 0.5386\n",
      "Train ACC: 0.6676 | Valid ACC: 0.7486 | Train f1: 0.6544 | Valid f1: 0.7299 | Train pre: 0.6431 | Valid pre: 0.7269\n"
     ]
    },
    {
     "name": "stderr",
     "output_type": "stream",
     "text": [
      "\r\n",
      "  2%|██▋                                                                                                                                                                            | 30/2000 [00:29<30:36,  1.07it/s]"
     ]
    },
    {
     "name": "stdout",
     "output_type": "stream",
     "text": [
      "Epoch 29 | Train loss: 0.5383 | Valid loss: 0.5247\n",
      "Train ACC: 0.6554 | Valid ACC: 0.7441 | Train f1: 0.6482 | Valid f1: 0.7237 | Train pre: 0.6457 | Valid pre: 0.7146\n"
     ]
    },
    {
     "name": "stderr",
     "output_type": "stream",
     "text": [
      "\r\n",
      "  2%|██▋                                                                                                                                                                            | 31/2000 [00:30<30:41,  1.07it/s]"
     ]
    },
    {
     "name": "stdout",
     "output_type": "stream",
     "text": [
      "Epoch 30 | Train loss: 0.5202 | Valid loss: 0.5210\n",
      "Train ACC: 0.6628 | Valid ACC: 0.7298 | Train f1: 0.6574 | Valid f1: 0.7039 | Train pre: 0.6534 | Valid pre: 0.6973\n"
     ]
    },
    {
     "name": "stderr",
     "output_type": "stream",
     "text": [
      "\r\n",
      "  2%|██▊                                                                                                                                                                            | 32/2000 [00:31<30:30,  1.08it/s]"
     ]
    },
    {
     "name": "stdout",
     "output_type": "stream",
     "text": [
      "Epoch 31 | Train loss: 0.5202 | Valid loss: 0.5122\n",
      "Train ACC: 0.6590 | Valid ACC: 0.7398 | Train f1: 0.6535 | Valid f1: 0.7234 | Train pre: 0.6512 | Valid pre: 0.7208\n"
     ]
    },
    {
     "name": "stderr",
     "output_type": "stream",
     "text": [
      "\r\n",
      "  2%|██▉                                                                                                                                                                            | 33/2000 [00:32<30:22,  1.08it/s]"
     ]
    },
    {
     "name": "stdout",
     "output_type": "stream",
     "text": [
      "Epoch 32 | Train loss: 0.5166 | Valid loss: 0.5169\n",
      "Train ACC: 0.6674 | Valid ACC: 0.7262 | Train f1: 0.6661 | Valid f1: 0.7043 | Train pre: 0.6670 | Valid pre: 0.7062\n"
     ]
    },
    {
     "name": "stderr",
     "output_type": "stream",
     "text": [
      "\r\n",
      "  2%|██▉                                                                                                                                                                            | 34/2000 [00:33<29:31,  1.11it/s]"
     ]
    },
    {
     "name": "stdout",
     "output_type": "stream",
     "text": [
      "Epoch 33 | Train loss: 0.4750 | Valid loss: 0.5189\n",
      "Train ACC: 0.6637 | Valid ACC: 0.7248 | Train f1: 0.6656 | Valid f1: 0.6949 | Train pre: 0.6695 | Valid pre: 0.6942\n"
     ]
    },
    {
     "name": "stderr",
     "output_type": "stream",
     "text": [
      "\r\n",
      "  2%|███                                                                                                                                                                            | 35/2000 [00:34<29:40,  1.10it/s]"
     ]
    },
    {
     "name": "stdout",
     "output_type": "stream",
     "text": [
      "Epoch 34 | Train loss: 0.4648 | Valid loss: 0.5162\n",
      "Train ACC: 0.6662 | Valid ACC: 0.7410 | Train f1: 0.6602 | Valid f1: 0.7145 | Train pre: 0.6588 | Valid pre: 0.7039\n"
     ]
    },
    {
     "name": "stderr",
     "output_type": "stream",
     "text": [
      "\r\n",
      "  2%|███▏                                                                                                                                                                           | 36/2000 [00:35<29:54,  1.09it/s]"
     ]
    },
    {
     "name": "stdout",
     "output_type": "stream",
     "text": [
      "Epoch 35 | Train loss: 0.4806 | Valid loss: 0.4970\n",
      "Train ACC: 0.6883 | Valid ACC: 0.7523 | Train f1: 0.6771 | Valid f1: 0.7293 | Train pre: 0.6686 | Valid pre: 0.7247\n"
     ]
    },
    {
     "name": "stderr",
     "output_type": "stream",
     "text": [
      "\r\n",
      "  2%|███▏                                                                                                                                                                           | 37/2000 [00:36<30:46,  1.06it/s]"
     ]
    },
    {
     "name": "stdout",
     "output_type": "stream",
     "text": [
      "Epoch 36 | Train loss: 0.4554 | Valid loss: 0.4840\n",
      "Train ACC: 0.6877 | Valid ACC: 0.7535 | Train f1: 0.6820 | Valid f1: 0.7377 | Train pre: 0.6769 | Valid pre: 0.7378\n"
     ]
    },
    {
     "name": "stderr",
     "output_type": "stream",
     "text": [
      "\r\n",
      "  2%|███▎                                                                                                                                                                           | 38/2000 [00:37<32:01,  1.02it/s]"
     ]
    },
    {
     "name": "stdout",
     "output_type": "stream",
     "text": [
      "Epoch 37 | Train loss: 0.4430 | Valid loss: 0.4734\n",
      "Train ACC: 0.6771 | Valid ACC: 0.7637 | Train f1: 0.6769 | Valid f1: 0.7484 | Train pre: 0.6785 | Valid pre: 0.7449\n"
     ]
    },
    {
     "name": "stderr",
     "output_type": "stream",
     "text": [
      "\r\n",
      "  2%|███▍                                                                                                                                                                           | 39/2000 [00:38<31:46,  1.03it/s]"
     ]
    },
    {
     "name": "stdout",
     "output_type": "stream",
     "text": [
      "Epoch 38 | Train loss: 0.4342 | Valid loss: 0.4671\n",
      "Train ACC: 0.6848 | Valid ACC: 0.7842 | Train f1: 0.6841 | Valid f1: 0.7718 | Train pre: 0.6852 | Valid pre: 0.7642\n"
     ]
    },
    {
     "name": "stderr",
     "output_type": "stream",
     "text": [
      "\r\n",
      "  2%|███▌                                                                                                                                                                           | 40/2000 [00:39<31:36,  1.03it/s]"
     ]
    },
    {
     "name": "stdout",
     "output_type": "stream",
     "text": [
      "Epoch 39 | Train loss: 0.4230 | Valid loss: 0.4765\n",
      "Train ACC: 0.6886 | Valid ACC: 0.7786 | Train f1: 0.6825 | Valid f1: 0.7627 | Train pre: 0.6807 | Valid pre: 0.7527\n"
     ]
    },
    {
     "name": "stderr",
     "output_type": "stream",
     "text": [
      "\r\n",
      "  2%|███▌                                                                                                                                                                           | 41/2000 [00:39<31:00,  1.05it/s]"
     ]
    },
    {
     "name": "stdout",
     "output_type": "stream",
     "text": [
      "Epoch 40 | Train loss: 0.4207 | Valid loss: 0.4780\n",
      "Train ACC: 0.6951 | Valid ACC: 0.7728 | Train f1: 0.7001 | Valid f1: 0.7557 | Train pre: 0.7298 | Valid pre: 0.7466\n"
     ]
    },
    {
     "name": "stderr",
     "output_type": "stream",
     "text": [
      "\r\n",
      "  2%|███▋                                                                                                                                                                           | 42/2000 [00:40<31:22,  1.04it/s]"
     ]
    },
    {
     "name": "stdout",
     "output_type": "stream",
     "text": [
      "Epoch 41 | Train loss: 0.4071 | Valid loss: 0.5161\n",
      "Train ACC: 0.7026 | Valid ACC: 0.7536 | Train f1: 0.6911 | Valid f1: 0.7296 | Train pre: 0.6818 | Valid pre: 0.7242\n"
     ]
    },
    {
     "name": "stderr",
     "output_type": "stream",
     "text": [
      "\r\n",
      "  2%|███▊                                                                                                                                                                           | 43/2000 [00:41<31:24,  1.04it/s]"
     ]
    },
    {
     "name": "stdout",
     "output_type": "stream",
     "text": [
      "Epoch 42 | Train loss: 0.4006 | Valid loss: 0.5586\n",
      "Train ACC: 0.7435 | Valid ACC: 0.7493 | Train f1: 0.7465 | Valid f1: 0.7310 | Train pre: 0.7795 | Valid pre: 0.7337\n"
     ]
    },
    {
     "name": "stderr",
     "output_type": "stream",
     "text": [
      "\r\n",
      "  2%|███▊                                                                                                                                                                           | 44/2000 [00:42<31:59,  1.02it/s]"
     ]
    },
    {
     "name": "stdout",
     "output_type": "stream",
     "text": [
      "Epoch 43 | Train loss: 0.3912 | Valid loss: 0.4824\n",
      "Train ACC: 0.6982 | Valid ACC: 0.7634 | Train f1: 0.6932 | Valid f1: 0.7432 | Train pre: 0.7165 | Valid pre: 0.7399\n"
     ]
    },
    {
     "name": "stderr",
     "output_type": "stream",
     "text": [
      "\r\n",
      "  2%|███▉                                                                                                                                                                           | 45/2000 [00:43<31:28,  1.04it/s]"
     ]
    },
    {
     "name": "stdout",
     "output_type": "stream",
     "text": [
      "Epoch 44 | Train loss: 0.3657 | Valid loss: 0.4730\n",
      "Train ACC: 0.7380 | Valid ACC: 0.7782 | Train f1: 0.7405 | Valid f1: 0.7645 | Train pre: 0.7537 | Valid pre: 0.7580\n"
     ]
    },
    {
     "name": "stderr",
     "output_type": "stream",
     "text": [
      "\r\n",
      "  2%|████                                                                                                                                                                           | 46/2000 [00:44<32:18,  1.01it/s]"
     ]
    },
    {
     "name": "stdout",
     "output_type": "stream",
     "text": [
      "Epoch 45 | Train loss: 0.3553 | Valid loss: 0.4909\n",
      "Train ACC: 0.7718 | Valid ACC: 0.7924 | Train f1: 0.7865 | Valid f1: 0.7803 | Train pre: 0.8383 | Valid pre: 0.7738\n"
     ]
    },
    {
     "name": "stderr",
     "output_type": "stream",
     "text": [
      "\r\n",
      "  2%|████                                                                                                                                                                           | 47/2000 [00:45<31:37,  1.03it/s]"
     ]
    },
    {
     "name": "stdout",
     "output_type": "stream",
     "text": [
      "Epoch 46 | Train loss: 0.3614 | Valid loss: 0.4749\n",
      "Train ACC: 0.7926 | Valid ACC: 0.7978 | Train f1: 0.7886 | Valid f1: 0.7842 | Train pre: 0.7933 | Valid pre: 0.7758\n"
     ]
    },
    {
     "name": "stderr",
     "output_type": "stream",
     "text": [
      "\r\n",
      "  2%|████▏                                                                                                                                                                          | 48/2000 [00:46<32:32,  1.00s/it]"
     ]
    },
    {
     "name": "stdout",
     "output_type": "stream",
     "text": [
      "Epoch 47 | Train loss: 0.3538 | Valid loss: 0.4596\n",
      "Train ACC: 0.7646 | Valid ACC: 0.7895 | Train f1: 0.7509 | Valid f1: 0.7739 | Train pre: 0.7897 | Valid pre: 0.7663\n"
     ]
    },
    {
     "name": "stderr",
     "output_type": "stream",
     "text": [
      "\r\n",
      "  2%|████▎                                                                                                                                                                          | 49/2000 [00:47<31:40,  1.03it/s]"
     ]
    },
    {
     "name": "stdout",
     "output_type": "stream",
     "text": [
      "Epoch 48 | Train loss: 0.3489 | Valid loss: 0.4624\n",
      "Train ACC: 0.7596 | Valid ACC: 0.7771 | Train f1: 0.7465 | Valid f1: 0.7678 | Train pre: 0.7487 | Valid pre: 0.7680\n"
     ]
    },
    {
     "name": "stderr",
     "output_type": "stream",
     "text": [
      "\r\n",
      "  2%|████▍                                                                                                                                                                          | 50/2000 [00:48<31:37,  1.03it/s]"
     ]
    },
    {
     "name": "stdout",
     "output_type": "stream",
     "text": [
      "Epoch 49 | Train loss: 0.3364 | Valid loss: 0.5083\n",
      "Train ACC: 0.7764 | Valid ACC: 0.7626 | Train f1: 0.7852 | Valid f1: 0.7538 | Train pre: 0.8317 | Valid pre: 0.7591\n"
     ]
    },
    {
     "name": "stderr",
     "output_type": "stream",
     "text": [
      "\r\n",
      "  3%|████▍                                                                                                                                                                          | 51/2000 [00:49<31:07,  1.04it/s]"
     ]
    },
    {
     "name": "stdout",
     "output_type": "stream",
     "text": [
      "Epoch 50 | Train loss: 0.3409 | Valid loss: 0.4733\n",
      "Train ACC: 0.8018 | Valid ACC: 0.7675 | Train f1: 0.8124 | Valid f1: 0.7493 | Train pre: 0.8485 | Valid pre: 0.7472\n"
     ]
    },
    {
     "name": "stderr",
     "output_type": "stream",
     "text": [
      "\r\n",
      "  3%|████▌                                                                                                                                                                          | 52/2000 [00:50<31:18,  1.04it/s]"
     ]
    },
    {
     "name": "stdout",
     "output_type": "stream",
     "text": [
      "Epoch 51 | Train loss: 0.3037 | Valid loss: 0.4603\n",
      "Train ACC: 0.7970 | Valid ACC: 0.7695 | Train f1: 0.8022 | Valid f1: 0.7441 | Train pre: 0.8170 | Valid pre: 0.7378\n"
     ]
    },
    {
     "name": "stderr",
     "output_type": "stream",
     "text": [
      "\r\n",
      "  3%|████▋                                                                                                                                                                          | 53/2000 [00:51<31:49,  1.02it/s]"
     ]
    },
    {
     "name": "stdout",
     "output_type": "stream",
     "text": [
      "Epoch 52 | Train loss: 0.3308 | Valid loss: 0.4488\n",
      "Train ACC: 0.7939 | Valid ACC: 0.7915 | Train f1: 0.8050 | Valid f1: 0.7766 | Train pre: 0.8349 | Valid pre: 0.7675\n"
     ]
    },
    {
     "name": "stderr",
     "output_type": "stream",
     "text": [
      "\r\n",
      "  3%|████▋                                                                                                                                                                          | 54/2000 [00:52<32:08,  1.01it/s]"
     ]
    },
    {
     "name": "stdout",
     "output_type": "stream",
     "text": [
      "Epoch 53 | Train loss: 0.3138 | Valid loss: 0.4689\n",
      "Train ACC: 0.8237 | Valid ACC: 0.7847 | Train f1: 0.8126 | Valid f1: 0.7714 | Train pre: 0.8185 | Valid pre: 0.7654\n"
     ]
    },
    {
     "name": "stderr",
     "output_type": "stream",
     "text": [
      "\r\n",
      "  3%|████▊                                                                                                                                                                          | 55/2000 [00:53<31:53,  1.02it/s]"
     ]
    },
    {
     "name": "stdout",
     "output_type": "stream",
     "text": [
      "Epoch 54 | Train loss: 0.3008 | Valid loss: 0.4663\n",
      "Train ACC: 0.8071 | Valid ACC: 0.7911 | Train f1: 0.8214 | Valid f1: 0.7781 | Train pre: 0.8634 | Valid pre: 0.7715\n"
     ]
    },
    {
     "name": "stderr",
     "output_type": "stream",
     "text": [
      "\r\n",
      "  3%|████▉                                                                                                                                                                          | 56/2000 [00:54<30:27,  1.06it/s]"
     ]
    },
    {
     "name": "stdout",
     "output_type": "stream",
     "text": [
      "Epoch 55 | Train loss: 0.2943 | Valid loss: 0.4626\n",
      "Train ACC: 0.7682 | Valid ACC: 0.7943 | Train f1: 0.7669 | Valid f1: 0.7799 | Train pre: 0.7760 | Valid pre: 0.7719\n"
     ]
    },
    {
     "name": "stderr",
     "output_type": "stream",
     "text": [
      "\r\n",
      "  3%|████▉                                                                                                                                                                          | 57/2000 [00:55<31:08,  1.04it/s]"
     ]
    },
    {
     "name": "stdout",
     "output_type": "stream",
     "text": [
      "Epoch 56 | Train loss: 0.2865 | Valid loss: 0.4576\n",
      "Train ACC: 0.7668 | Valid ACC: 0.7918 | Train f1: 0.7590 | Valid f1: 0.7809 | Train pre: 0.7709 | Valid pre: 0.7758\n"
     ]
    },
    {
     "name": "stderr",
     "output_type": "stream",
     "text": [
      "\r\n",
      "  3%|█████                                                                                                                                                                          | 58/2000 [00:56<30:40,  1.06it/s]"
     ]
    },
    {
     "name": "stdout",
     "output_type": "stream",
     "text": [
      "Epoch 57 | Train loss: 0.2759 | Valid loss: 0.4632\n",
      "Train ACC: 0.7781 | Valid ACC: 0.8015 | Train f1: 0.7810 | Valid f1: 0.7961 | Train pre: 0.7990 | Valid pre: 0.8137\n"
     ]
    },
    {
     "name": "stderr",
     "output_type": "stream",
     "text": [
      "\r\n",
      "  3%|█████▏                                                                                                                                                                         | 59/2000 [00:57<32:05,  1.01it/s]"
     ]
    },
    {
     "name": "stdout",
     "output_type": "stream",
     "text": [
      "Epoch 58 | Train loss: 0.2797 | Valid loss: 0.4776\n",
      "Train ACC: 0.7931 | Valid ACC: 0.8056 | Train f1: 0.8024 | Valid f1: 0.7931 | Train pre: 0.8300 | Valid pre: 0.8025\n"
     ]
    },
    {
     "name": "stderr",
     "output_type": "stream",
     "text": [
      "\r\n",
      "  3%|█████▎                                                                                                                                                                         | 60/2000 [00:58<31:06,  1.04it/s]"
     ]
    },
    {
     "name": "stdout",
     "output_type": "stream",
     "text": [
      "Epoch 59 | Train loss: 0.2728 | Valid loss: 0.4797\n",
      "Train ACC: 0.8037 | Valid ACC: 0.7983 | Train f1: 0.8087 | Valid f1: 0.7891 | Train pre: 0.8242 | Valid pre: 0.8033\n"
     ]
    },
    {
     "name": "stderr",
     "output_type": "stream",
     "text": [
      "\r\n",
      "  3%|█████▎                                                                                                                                                                         | 61/2000 [00:59<31:52,  1.01it/s]"
     ]
    },
    {
     "name": "stdout",
     "output_type": "stream",
     "text": [
      "Epoch 60 | Train loss: 0.2640 | Valid loss: 0.4627\n",
      "Train ACC: 0.8479 | Valid ACC: 0.7903 | Train f1: 0.8379 | Valid f1: 0.7802 | Train pre: 0.8415 | Valid pre: 0.7991\n"
     ]
    },
    {
     "name": "stderr",
     "output_type": "stream",
     "text": [
      "\r\n",
      "  3%|█████▍                                                                                                                                                                         | 62/2000 [01:00<30:34,  1.06it/s]"
     ]
    },
    {
     "name": "stdout",
     "output_type": "stream",
     "text": [
      "Epoch 61 | Train loss: 0.2672 | Valid loss: 0.4576\n",
      "Train ACC: 0.8137 | Valid ACC: 0.7911 | Train f1: 0.8214 | Valid f1: 0.7852 | Train pre: 0.8372 | Valid pre: 0.8040\n"
     ]
    },
    {
     "name": "stderr",
     "output_type": "stream",
     "text": [
      "\r\n",
      "  3%|█████▌                                                                                                                                                                         | 63/2000 [01:01<31:52,  1.01it/s]"
     ]
    },
    {
     "name": "stdout",
     "output_type": "stream",
     "text": [
      "Epoch 62 | Train loss: 0.2583 | Valid loss: 0.4624\n",
      "Train ACC: 0.7961 | Valid ACC: 0.7886 | Train f1: 0.7798 | Valid f1: 0.7850 | Train pre: 0.7790 | Valid pre: 0.8063\n"
     ]
    },
    {
     "name": "stderr",
     "output_type": "stream",
     "text": [
      "\r\n",
      "  3%|█████▌                                                                                                                                                                         | 64/2000 [01:02<31:37,  1.02it/s]"
     ]
    },
    {
     "name": "stdout",
     "output_type": "stream",
     "text": [
      "Epoch 63 | Train loss: 0.2477 | Valid loss: 0.4734\n",
      "Train ACC: 0.8208 | Valid ACC: 0.7853 | Train f1: 0.8364 | Valid f1: 0.7732 | Train pre: 0.8725 | Valid pre: 0.7671\n"
     ]
    },
    {
     "name": "stderr",
     "output_type": "stream",
     "text": [
      "\r\n",
      "  3%|█████▋                                                                                                                                                                         | 65/2000 [01:03<33:19,  1.03s/it]"
     ]
    },
    {
     "name": "stdout",
     "output_type": "stream",
     "text": [
      "Epoch 64 | Train loss: 0.2351 | Valid loss: 0.4686\n",
      "Train ACC: 0.8295 | Valid ACC: 0.8143 | Train f1: 0.8306 | Valid f1: 0.7994 | Train pre: 0.8539 | Valid pre: 0.8065\n"
     ]
    },
    {
     "name": "stderr",
     "output_type": "stream",
     "text": [
      "\r\n",
      "  3%|█████▊                                                                                                                                                                         | 66/2000 [01:04<32:19,  1.00s/it]"
     ]
    },
    {
     "name": "stdout",
     "output_type": "stream",
     "text": [
      "Epoch 65 | Train loss: 0.2373 | Valid loss: 0.4592\n",
      "Train ACC: 0.8186 | Valid ACC: 0.8131 | Train f1: 0.8127 | Valid f1: 0.7959 | Train pre: 0.8202 | Valid pre: 0.8010\n"
     ]
    },
    {
     "name": "stderr",
     "output_type": "stream",
     "text": [
      "\r\n",
      "  3%|█████▊                                                                                                                                                                         | 67/2000 [01:05<31:54,  1.01it/s]"
     ]
    },
    {
     "name": "stdout",
     "output_type": "stream",
     "text": [
      "Epoch 66 | Train loss: 0.2460 | Valid loss: 0.4538\n",
      "Train ACC: 0.8039 | Valid ACC: 0.7982 | Train f1: 0.7948 | Valid f1: 0.7947 | Train pre: 0.7942 | Valid pre: 0.8164\n"
     ]
    },
    {
     "name": "stderr",
     "output_type": "stream",
     "text": [
      "\r\n",
      "  3%|█████▉                                                                                                                                                                         | 68/2000 [01:06<31:33,  1.02it/s]"
     ]
    },
    {
     "name": "stdout",
     "output_type": "stream",
     "text": [
      "Epoch 67 | Train loss: 0.2380 | Valid loss: 0.4682\n",
      "Train ACC: 0.8280 | Valid ACC: 0.7822 | Train f1: 0.8369 | Valid f1: 0.7748 | Train pre: 0.8651 | Valid pre: 0.7948\n"
     ]
    },
    {
     "name": "stderr",
     "output_type": "stream",
     "text": [
      "\r\n",
      "  3%|██████                                                                                                                                                                         | 69/2000 [01:07<32:07,  1.00it/s]"
     ]
    },
    {
     "name": "stdout",
     "output_type": "stream",
     "text": [
      "Epoch 68 | Train loss: 0.2174 | Valid loss: 0.4966\n",
      "Train ACC: 0.8320 | Valid ACC: 0.7755 | Train f1: 0.8454 | Valid f1: 0.7688 | Train pre: 0.8779 | Valid pre: 0.7914\n"
     ]
    },
    {
     "name": "stderr",
     "output_type": "stream",
     "text": [
      "\r\n",
      "  4%|██████▏                                                                                                                                                                        | 70/2000 [01:08<31:21,  1.03it/s]"
     ]
    },
    {
     "name": "stdout",
     "output_type": "stream",
     "text": [
      "Epoch 69 | Train loss: 0.2271 | Valid loss: 0.5172\n",
      "Train ACC: 0.8781 | Valid ACC: 0.7693 | Train f1: 0.8759 | Valid f1: 0.7529 | Train pre: 0.9013 | Valid pre: 0.7497\n"
     ]
    },
    {
     "name": "stderr",
     "output_type": "stream",
     "text": [
      "\r\n",
      "  4%|██████▏                                                                                                                                                                        | 71/2000 [01:09<31:56,  1.01it/s]"
     ]
    },
    {
     "name": "stdout",
     "output_type": "stream",
     "text": [
      "Epoch 70 | Train loss: 0.2157 | Valid loss: 0.5400\n",
      "Train ACC: 0.8662 | Valid ACC: 0.7820 | Train f1: 0.8687 | Valid f1: 0.7670 | Train pre: 0.8785 | Valid pre: 0.7826\n"
     ]
    },
    {
     "name": "stderr",
     "output_type": "stream",
     "text": [
      "\r\n",
      "  4%|██████▎                                                                                                                                                                        | 72/2000 [01:10<31:18,  1.03it/s]"
     ]
    },
    {
     "name": "stdout",
     "output_type": "stream",
     "text": [
      "Epoch 71 | Train loss: 0.2156 | Valid loss: 0.5450\n",
      "Train ACC: 0.8531 | Valid ACC: 0.7814 | Train f1: 0.8458 | Valid f1: 0.7667 | Train pre: 0.8539 | Valid pre: 0.7825\n"
     ]
    },
    {
     "name": "stderr",
     "output_type": "stream",
     "text": [
      "\r\n",
      "  4%|██████▍                                                                                                                                                                        | 73/2000 [01:11<31:35,  1.02it/s]"
     ]
    },
    {
     "name": "stdout",
     "output_type": "stream",
     "text": [
      "Epoch 72 | Train loss: 0.2029 | Valid loss: 0.5369\n",
      "Train ACC: 0.8399 | Valid ACC: 0.7849 | Train f1: 0.8390 | Valid f1: 0.7735 | Train pre: 0.8478 | Valid pre: 0.7705\n"
     ]
    },
    {
     "name": "stderr",
     "output_type": "stream",
     "text": [
      "\r\n",
      "  4%|██████▍                                                                                                                                                                        | 74/2000 [01:12<31:37,  1.01it/s]"
     ]
    },
    {
     "name": "stdout",
     "output_type": "stream",
     "text": [
      "Epoch 73 | Train loss: 0.1964 | Valid loss: 0.5120\n",
      "Train ACC: 0.8352 | Valid ACC: 0.7840 | Train f1: 0.8345 | Valid f1: 0.7736 | Train pre: 0.8619 | Valid pre: 0.7713\n"
     ]
    },
    {
     "name": "stderr",
     "output_type": "stream",
     "text": [
      "\r\n",
      "  4%|██████▌                                                                                                                                                                        | 75/2000 [01:13<31:41,  1.01it/s]"
     ]
    },
    {
     "name": "stdout",
     "output_type": "stream",
     "text": [
      "Epoch 74 | Train loss: 0.2157 | Valid loss: 0.4881\n",
      "Train ACC: 0.8479 | Valid ACC: 0.7959 | Train f1: 0.8466 | Valid f1: 0.7909 | Train pre: 0.8612 | Valid pre: 0.8116\n"
     ]
    },
    {
     "name": "stderr",
     "output_type": "stream",
     "text": [
      "\r\n",
      "  4%|██████▋                                                                                                                                                                        | 76/2000 [01:14<32:15,  1.01s/it]"
     ]
    },
    {
     "name": "stdout",
     "output_type": "stream",
     "text": [
      "Epoch 75 | Train loss: 0.1972 | Valid loss: 0.4964\n",
      "Train ACC: 0.8581 | Valid ACC: 0.8063 | Train f1: 0.8660 | Valid f1: 0.8031 | Train pre: 0.8780 | Valid pre: 0.8225\n"
     ]
    },
    {
     "name": "stderr",
     "output_type": "stream",
     "text": [
      "\r\n",
      "  4%|██████▋                                                                                                                                                                        | 77/2000 [01:15<31:27,  1.02it/s]"
     ]
    },
    {
     "name": "stdout",
     "output_type": "stream",
     "text": [
      "Epoch 76 | Train loss: 0.1903 | Valid loss: 0.5038\n",
      "Train ACC: 0.8422 | Valid ACC: 0.8066 | Train f1: 0.8469 | Valid f1: 0.8037 | Train pre: 0.8642 | Valid pre: 0.8233\n"
     ]
    },
    {
     "name": "stderr",
     "output_type": "stream",
     "text": [
      "\r\n",
      "  4%|██████▊                                                                                                                                                                        | 78/2000 [01:16<31:46,  1.01it/s]"
     ]
    },
    {
     "name": "stdout",
     "output_type": "stream",
     "text": [
      "Epoch 77 | Train loss: 0.2055 | Valid loss: 0.4885\n",
      "Train ACC: 0.8228 | Valid ACC: 0.7983 | Train f1: 0.8357 | Valid f1: 0.7884 | Train pre: 0.8613 | Valid pre: 0.8044\n"
     ]
    },
    {
     "name": "stderr",
     "output_type": "stream",
     "text": [
      "\r\n",
      "  4%|██████▉                                                                                                                                                                        | 79/2000 [01:17<31:22,  1.02it/s]"
     ]
    },
    {
     "name": "stdout",
     "output_type": "stream",
     "text": [
      "Epoch 78 | Train loss: 0.1890 | Valid loss: 0.4997\n",
      "Train ACC: 0.8453 | Valid ACC: 0.7905 | Train f1: 0.8524 | Valid f1: 0.7770 | Train pre: 0.8804 | Valid pre: 0.7714\n"
     ]
    },
    {
     "name": "stderr",
     "output_type": "stream",
     "text": [
      "\r\n",
      "  4%|███████                                                                                                                                                                        | 80/2000 [01:18<32:46,  1.02s/it]"
     ]
    },
    {
     "name": "stdout",
     "output_type": "stream",
     "text": [
      "Epoch 79 | Train loss: 0.1906 | Valid loss: 0.5184\n",
      "Train ACC: 0.8201 | Valid ACC: 0.7940 | Train f1: 0.8110 | Valid f1: 0.7859 | Train pre: 0.8240 | Valid pre: 0.8034\n"
     ]
    },
    {
     "name": "stderr",
     "output_type": "stream",
     "text": [
      "\r\n",
      "  4%|███████                                                                                                                                                                        | 81/2000 [01:19<30:50,  1.04it/s]"
     ]
    },
    {
     "name": "stdout",
     "output_type": "stream",
     "text": [
      "Epoch 80 | Train loss: 0.1745 | Valid loss: 0.5537\n",
      "Train ACC: 0.7815 | Valid ACC: 0.7936 | Train f1: 0.7909 | Valid f1: 0.7863 | Train pre: 0.8274 | Valid pre: 0.8052\n"
     ]
    },
    {
     "name": "stderr",
     "output_type": "stream",
     "text": [
      "\r\n",
      "  4%|███████▏                                                                                                                                                                       | 82/2000 [01:20<32:02,  1.00s/it]"
     ]
    },
    {
     "name": "stdout",
     "output_type": "stream",
     "text": [
      "Epoch 81 | Train loss: 0.1705 | Valid loss: 0.5312\n",
      "Train ACC: 0.8301 | Valid ACC: 0.7955 | Train f1: 0.8424 | Valid f1: 0.7858 | Train pre: 0.8807 | Valid pre: 0.8029\n"
     ]
    },
    {
     "name": "stderr",
     "output_type": "stream",
     "text": [
      "\r\n",
      "  4%|███████▎                                                                                                                                                                       | 83/2000 [01:21<31:51,  1.00it/s]"
     ]
    },
    {
     "name": "stdout",
     "output_type": "stream",
     "text": [
      "Epoch 82 | Train loss: 0.1798 | Valid loss: 0.5028\n",
      "Train ACC: 0.8794 | Valid ACC: 0.8004 | Train f1: 0.8802 | Valid f1: 0.7917 | Train pre: 0.8882 | Valid pre: 0.8062\n"
     ]
    },
    {
     "name": "stderr",
     "output_type": "stream",
     "text": [
      "\r\n",
      "  4%|███████▎                                                                                                                                                                       | 84/2000 [01:22<32:44,  1.03s/it]"
     ]
    },
    {
     "name": "stdout",
     "output_type": "stream",
     "text": [
      "Epoch 83 | Train loss: 0.1767 | Valid loss: 0.4940\n",
      "Train ACC: 0.8788 | Valid ACC: 0.8021 | Train f1: 0.8791 | Valid f1: 0.7989 | Train pre: 0.8812 | Valid pre: 0.8178\n"
     ]
    },
    {
     "name": "stderr",
     "output_type": "stream",
     "text": [
      "\r\n",
      "  4%|███████▍                                                                                                                                                                       | 85/2000 [01:23<32:53,  1.03s/it]"
     ]
    },
    {
     "name": "stdout",
     "output_type": "stream",
     "text": [
      "Epoch 84 | Train loss: 0.1714 | Valid loss: 0.5210\n",
      "Train ACC: 0.8839 | Valid ACC: 0.7948 | Train f1: 0.8860 | Valid f1: 0.7925 | Train pre: 0.8887 | Valid pre: 0.8166\n"
     ]
    },
    {
     "name": "stderr",
     "output_type": "stream",
     "text": [
      "\r\n",
      "  4%|███████▌                                                                                                                                                                       | 86/2000 [01:24<32:52,  1.03s/it]"
     ]
    },
    {
     "name": "stdout",
     "output_type": "stream",
     "text": [
      "Epoch 85 | Train loss: 0.1721 | Valid loss: 0.5469\n",
      "Train ACC: 0.8840 | Valid ACC: 0.7884 | Train f1: 0.8813 | Valid f1: 0.7879 | Train pre: 0.9138 | Valid pre: 0.8147\n"
     ]
    },
    {
     "name": "stderr",
     "output_type": "stream",
     "text": [
      "\r\n",
      "  4%|███████▌                                                                                                                                                                       | 87/2000 [01:25<32:05,  1.01s/it]"
     ]
    },
    {
     "name": "stdout",
     "output_type": "stream",
     "text": [
      "Epoch 86 | Train loss: 0.1754 | Valid loss: 0.5440\n",
      "Train ACC: 0.9075 | Valid ACC: 0.7840 | Train f1: 0.8987 | Valid f1: 0.7785 | Train pre: 0.9075 | Valid pre: 0.8005\n"
     ]
    },
    {
     "name": "stderr",
     "output_type": "stream",
     "text": [
      "\r\n",
      "  4%|███████▋                                                                                                                                                                       | 88/2000 [01:26<31:18,  1.02it/s]"
     ]
    },
    {
     "name": "stdout",
     "output_type": "stream",
     "text": [
      "Epoch 87 | Train loss: 0.1665 | Valid loss: 0.5350\n",
      "Train ACC: 0.8628 | Valid ACC: 0.7857 | Train f1: 0.8735 | Valid f1: 0.7783 | Train pre: 0.8986 | Valid pre: 0.7977\n"
     ]
    },
    {
     "name": "stderr",
     "output_type": "stream",
     "text": [
      "\r\n",
      "  4%|███████▊                                                                                                                                                                       | 89/2000 [01:27<32:01,  1.01s/it]"
     ]
    },
    {
     "name": "stdout",
     "output_type": "stream",
     "text": [
      "Epoch 88 | Train loss: 0.1546 | Valid loss: 0.5287\n",
      "Train ACC: 0.8817 | Valid ACC: 0.7942 | Train f1: 0.8846 | Valid f1: 0.7883 | Train pre: 0.8959 | Valid pre: 0.8082\n"
     ]
    },
    {
     "name": "stderr",
     "output_type": "stream",
     "text": [
      "\r\n",
      "  4%|███████▉                                                                                                                                                                       | 90/2000 [01:28<30:59,  1.03it/s]"
     ]
    },
    {
     "name": "stdout",
     "output_type": "stream",
     "text": [
      "Epoch 89 | Train loss: 0.1467 | Valid loss: 0.5207\n",
      "Train ACC: 0.8819 | Valid ACC: 0.8040 | Train f1: 0.8847 | Valid f1: 0.8021 | Train pre: 0.8908 | Valid pre: 0.8213\n"
     ]
    },
    {
     "name": "stderr",
     "output_type": "stream",
     "text": [
      "\r\n",
      "  5%|███████▉                                                                                                                                                                       | 91/2000 [01:29<30:32,  1.04it/s]"
     ]
    },
    {
     "name": "stdout",
     "output_type": "stream",
     "text": [
      "Epoch 90 | Train loss: 0.1466 | Valid loss: 0.5159\n",
      "Train ACC: 0.8860 | Valid ACC: 0.8033 | Train f1: 0.8897 | Valid f1: 0.8034 | Train pre: 0.8975 | Valid pre: 0.8247\n"
     ]
    },
    {
     "name": "stderr",
     "output_type": "stream",
     "text": [
      "\r\n",
      "  5%|████████                                                                                                                                                                       | 92/2000 [01:30<29:51,  1.07it/s]"
     ]
    },
    {
     "name": "stdout",
     "output_type": "stream",
     "text": [
      "Epoch 91 | Train loss: 0.1540 | Valid loss: 0.5437\n",
      "Train ACC: 0.8843 | Valid ACC: 0.8033 | Train f1: 0.8890 | Valid f1: 0.8027 | Train pre: 0.8951 | Valid pre: 0.8238\n"
     ]
    },
    {
     "name": "stderr",
     "output_type": "stream",
     "text": [
      "\r\n",
      "  5%|████████▏                                                                                                                                                                      | 93/2000 [01:31<29:53,  1.06it/s]"
     ]
    },
    {
     "name": "stdout",
     "output_type": "stream",
     "text": [
      "Epoch 92 | Train loss: 0.1632 | Valid loss: 0.5517\n",
      "Train ACC: 0.8830 | Valid ACC: 0.7938 | Train f1: 0.8865 | Valid f1: 0.7881 | Train pre: 0.8941 | Valid pre: 0.8073\n"
     ]
    },
    {
     "name": "stderr",
     "output_type": "stream",
     "text": [
      "\r\n",
      "  5%|████████▏                                                                                                                                                                      | 94/2000 [01:31<29:35,  1.07it/s]"
     ]
    },
    {
     "name": "stdout",
     "output_type": "stream",
     "text": [
      "Epoch 93 | Train loss: 0.1561 | Valid loss: 0.5466\n",
      "Train ACC: 0.8641 | Valid ACC: 0.7888 | Train f1: 0.8676 | Valid f1: 0.7783 | Train pre: 0.8773 | Valid pre: 0.7951\n"
     ]
    },
    {
     "name": "stderr",
     "output_type": "stream",
     "text": [
      "\r\n",
      "  5%|████████▎                                                                                                                                                                      | 95/2000 [01:32<29:01,  1.09it/s]"
     ]
    },
    {
     "name": "stdout",
     "output_type": "stream",
     "text": [
      "Epoch 94 | Train loss: 0.1548 | Valid loss: 0.5323\n",
      "Train ACC: 0.9145 | Valid ACC: 0.7838 | Train f1: 0.9046 | Valid f1: 0.7723 | Train pre: 0.9155 | Valid pre: 0.7913\n"
     ]
    },
    {
     "name": "stderr",
     "output_type": "stream",
     "text": [
      "\r\n",
      "  5%|████████▍                                                                                                                                                                      | 96/2000 [01:33<30:01,  1.06it/s]"
     ]
    },
    {
     "name": "stdout",
     "output_type": "stream",
     "text": [
      "Epoch 95 | Train loss: 0.1451 | Valid loss: 0.5418\n",
      "Train ACC: 0.9369 | Valid ACC: 0.7833 | Train f1: 0.9430 | Valid f1: 0.7680 | Train pre: 0.9544 | Valid pre: 0.7856\n"
     ]
    },
    {
     "name": "stderr",
     "output_type": "stream",
     "text": [
      "\r\n",
      "  5%|████████▍                                                                                                                                                                      | 97/2000 [01:34<29:25,  1.08it/s]"
     ]
    },
    {
     "name": "stdout",
     "output_type": "stream",
     "text": [
      "Epoch 96 | Train loss: 0.1462 | Valid loss: 0.5519\n",
      "Train ACC: 0.8802 | Valid ACC: 0.7797 | Train f1: 0.8849 | Valid f1: 0.7665 | Train pre: 0.9013 | Valid pre: 0.7867\n"
     ]
    },
    {
     "name": "stderr",
     "output_type": "stream",
     "text": [
      "\r\n",
      "  5%|████████▌                                                                                                                                                                      | 98/2000 [01:35<30:16,  1.05it/s]"
     ]
    },
    {
     "name": "stdout",
     "output_type": "stream",
     "text": [
      "Epoch 97 | Train loss: 0.1454 | Valid loss: 0.5674\n",
      "Train ACC: 0.8655 | Valid ACC: 0.7847 | Train f1: 0.8642 | Valid f1: 0.7724 | Train pre: 0.8809 | Valid pre: 0.7840\n"
     ]
    },
    {
     "name": "stderr",
     "output_type": "stream",
     "text": [
      "\r\n",
      "  5%|████████▋                                                                                                                                                                      | 99/2000 [01:36<29:53,  1.06it/s]"
     ]
    },
    {
     "name": "stdout",
     "output_type": "stream",
     "text": [
      "Epoch 98 | Train loss: 0.1301 | Valid loss: 0.5754\n",
      "Train ACC: 0.8839 | Valid ACC: 0.7916 | Train f1: 0.9082 | Valid f1: 0.7791 | Train pre: 0.9563 | Valid pre: 0.7886\n"
     ]
    },
    {
     "name": "stderr",
     "output_type": "stream",
     "text": [
      "\r\n",
      "  5%|████████▋                                                                                                                                                                     | 100/2000 [01:37<30:56,  1.02it/s]"
     ]
    },
    {
     "name": "stdout",
     "output_type": "stream",
     "text": [
      "Epoch 99 | Train loss: 0.1312 | Valid loss: 0.5622\n",
      "Train ACC: 0.8995 | Valid ACC: 0.8031 | Train f1: 0.9014 | Valid f1: 0.7938 | Train pre: 0.9038 | Valid pre: 0.8001\n"
     ]
    },
    {
     "name": "stderr",
     "output_type": "stream",
     "text": [
      "\r\n",
      "  5%|████████▊                                                                                                                                                                     | 101/2000 [01:38<31:01,  1.02it/s]"
     ]
    },
    {
     "name": "stdout",
     "output_type": "stream",
     "text": [
      "Epoch 100 | Train loss: 0.1286 | Valid loss: 0.5521\n",
      "Train ACC: 0.9567 | Valid ACC: 0.8143 | Train f1: 0.9554 | Valid f1: 0.8103 | Train pre: 0.9544 | Valid pre: 0.8245\n"
     ]
    },
    {
     "name": "stderr",
     "output_type": "stream",
     "text": [
      "\r\n",
      "  5%|████████▊                                                                                                                                                                     | 102/2000 [01:39<31:52,  1.01s/it]"
     ]
    },
    {
     "name": "stdout",
     "output_type": "stream",
     "text": [
      "Epoch 101 | Train loss: 0.1256 | Valid loss: 0.5698\n",
      "Train ACC: 0.8712 | Valid ACC: 0.8007 | Train f1: 0.8827 | Valid f1: 0.7961 | Train pre: 0.9050 | Valid pre: 0.8167\n"
     ]
    },
    {
     "name": "stderr",
     "output_type": "stream",
     "text": [
      "\r\n",
      "  5%|████████▉                                                                                                                                                                     | 103/2000 [01:40<32:05,  1.02s/it]"
     ]
    },
    {
     "name": "stdout",
     "output_type": "stream",
     "text": [
      "Epoch 102 | Train loss: 0.1385 | Valid loss: 0.5862\n",
      "Train ACC: 0.8596 | Valid ACC: 0.8005 | Train f1: 0.8560 | Valid f1: 0.7959 | Train pre: 0.8771 | Valid pre: 0.8167\n"
     ]
    },
    {
     "name": "stderr",
     "output_type": "stream",
     "text": [
      "\r\n",
      "  5%|█████████                                                                                                                                                                     | 104/2000 [01:41<30:30,  1.04it/s]"
     ]
    },
    {
     "name": "stdout",
     "output_type": "stream",
     "text": [
      "Epoch 103 | Train loss: 0.1431 | Valid loss: 0.5915\n",
      "Train ACC: 0.8767 | Valid ACC: 0.7968 | Train f1: 0.8825 | Valid f1: 0.7891 | Train pre: 0.9021 | Valid pre: 0.8071\n"
     ]
    },
    {
     "name": "stderr",
     "output_type": "stream",
     "text": [
      "\r\n",
      "  5%|█████████▏                                                                                                                                                                    | 105/2000 [01:42<30:47,  1.03it/s]"
     ]
    },
    {
     "name": "stdout",
     "output_type": "stream",
     "text": [
      "Epoch 104 | Train loss: 0.1202 | Valid loss: 0.5859\n",
      "Train ACC: 0.8918 | Valid ACC: 0.7951 | Train f1: 0.8977 | Valid f1: 0.7851 | Train pre: 0.9084 | Valid pre: 0.8011\n"
     ]
    },
    {
     "name": "stderr",
     "output_type": "stream",
     "text": [
      "\r\n",
      "  5%|█████████▏                                                                                                                                                                    | 106/2000 [01:43<31:06,  1.01it/s]"
     ]
    },
    {
     "name": "stdout",
     "output_type": "stream",
     "text": [
      "Epoch 105 | Train loss: 0.1187 | Valid loss: 0.5784\n",
      "Train ACC: 0.8904 | Valid ACC: 0.7983 | Train f1: 0.8943 | Valid f1: 0.7931 | Train pre: 0.9013 | Valid pre: 0.8139\n"
     ]
    },
    {
     "name": "stderr",
     "output_type": "stream",
     "text": [
      "\r\n",
      "  5%|█████████▎                                                                                                                                                                    | 107/2000 [01:44<30:26,  1.04it/s]"
     ]
    },
    {
     "name": "stdout",
     "output_type": "stream",
     "text": [
      "Epoch 106 | Train loss: 0.1177 | Valid loss: 0.5719\n",
      "Train ACC: 0.8684 | Valid ACC: 0.7987 | Train f1: 0.8812 | Valid f1: 0.7920 | Train pre: 0.9041 | Valid pre: 0.8089\n"
     ]
    },
    {
     "name": "stderr",
     "output_type": "stream",
     "text": [
      "\r\n",
      "  5%|█████████▍                                                                                                                                                                    | 108/2000 [01:45<31:12,  1.01it/s]"
     ]
    },
    {
     "name": "stdout",
     "output_type": "stream",
     "text": [
      "Epoch 107 | Train loss: 0.1205 | Valid loss: 0.5832\n",
      "Train ACC: 0.9064 | Valid ACC: 0.7901 | Train f1: 0.9090 | Valid f1: 0.7771 | Train pre: 0.9130 | Valid pre: 0.7929\n"
     ]
    },
    {
     "name": "stderr",
     "output_type": "stream",
     "text": [
      "\r\n",
      "  5%|█████████▍                                                                                                                                                                    | 109/2000 [01:46<30:12,  1.04it/s]"
     ]
    },
    {
     "name": "stdout",
     "output_type": "stream",
     "text": [
      "Epoch 108 | Train loss: 0.1193 | Valid loss: 0.6103\n",
      "Train ACC: 0.9047 | Valid ACC: 0.7922 | Train f1: 0.9061 | Valid f1: 0.7804 | Train pre: 0.9090 | Valid pre: 0.7973\n"
     ]
    },
    {
     "name": "stderr",
     "output_type": "stream",
     "text": [
      "\r\n",
      "  6%|█████████▌                                                                                                                                                                    | 110/2000 [01:47<30:19,  1.04it/s]"
     ]
    },
    {
     "name": "stdout",
     "output_type": "stream",
     "text": [
      "Epoch 109 | Train loss: 0.1055 | Valid loss: 0.6542\n",
      "Train ACC: 0.8820 | Valid ACC: 0.7816 | Train f1: 0.8922 | Valid f1: 0.7711 | Train pre: 0.9093 | Valid pre: 0.7929\n"
     ]
    },
    {
     "name": "stderr",
     "output_type": "stream",
     "text": [
      "\r\n",
      "  6%|█████████▋                                                                                                                                                                    | 111/2000 [01:48<29:24,  1.07it/s]"
     ]
    },
    {
     "name": "stdout",
     "output_type": "stream",
     "text": [
      "Epoch 110 | Train loss: 0.1125 | Valid loss: 0.6523\n",
      "Train ACC: 0.8942 | Valid ACC: 0.7855 | Train f1: 0.8903 | Valid f1: 0.7753 | Train pre: 0.8923 | Valid pre: 0.7937\n"
     ]
    },
    {
     "name": "stderr",
     "output_type": "stream",
     "text": [
      "\r\n",
      "  6%|█████████▋                                                                                                                                                                    | 112/2000 [01:49<29:04,  1.08it/s]"
     ]
    },
    {
     "name": "stdout",
     "output_type": "stream",
     "text": [
      "Epoch 111 | Train loss: 0.1225 | Valid loss: 0.6261\n",
      "Train ACC: 0.8897 | Valid ACC: 0.7853 | Train f1: 0.8931 | Valid f1: 0.7736 | Train pre: 0.8976 | Valid pre: 0.7904\n"
     ]
    },
    {
     "name": "stderr",
     "output_type": "stream",
     "text": [
      "\r\n",
      "  6%|█████████▊                                                                                                                                                                    | 113/2000 [01:50<29:59,  1.05it/s]"
     ]
    },
    {
     "name": "stdout",
     "output_type": "stream",
     "text": [
      "Epoch 112 | Train loss: 0.1047 | Valid loss: 0.6109\n",
      "Train ACC: 0.8984 | Valid ACC: 0.7999 | Train f1: 0.9013 | Valid f1: 0.7927 | Train pre: 0.9051 | Valid pre: 0.8061\n"
     ]
    },
    {
     "name": "stderr",
     "output_type": "stream",
     "text": [
      "\r\n",
      "  6%|█████████▉                                                                                                                                                                    | 114/2000 [01:51<29:09,  1.08it/s]"
     ]
    },
    {
     "name": "stdout",
     "output_type": "stream",
     "text": [
      "Epoch 113 | Train loss: 0.1014 | Valid loss: 0.6019\n",
      "Train ACC: 0.9667 | Valid ACC: 0.8127 | Train f1: 0.9689 | Valid f1: 0.8085 | Train pre: 0.9717 | Valid pre: 0.8228\n"
     ]
    },
    {
     "name": "stderr",
     "output_type": "stream",
     "text": [
      "\r\n",
      "  6%|██████████                                                                                                                                                                    | 115/2000 [01:52<30:45,  1.02it/s]"
     ]
    },
    {
     "name": "stdout",
     "output_type": "stream",
     "text": [
      "Epoch 114 | Train loss: 0.1027 | Valid loss: 0.6072\n",
      "Train ACC: 0.9043 | Valid ACC: 0.8067 | Train f1: 0.9051 | Valid f1: 0.8015 | Train pre: 0.9064 | Valid pre: 0.8186\n"
     ]
    },
    {
     "name": "stderr",
     "output_type": "stream",
     "text": [
      "\r\n",
      "  6%|██████████                                                                                                                                                                    | 116/2000 [01:53<29:48,  1.05it/s]"
     ]
    },
    {
     "name": "stdout",
     "output_type": "stream",
     "text": [
      "Epoch 115 | Train loss: 0.1063 | Valid loss: 0.6186\n",
      "Train ACC: 0.9636 | Valid ACC: 0.8020 | Train f1: 0.9657 | Valid f1: 0.7969 | Train pre: 0.9697 | Valid pre: 0.8174\n"
     ]
    },
    {
     "name": "stderr",
     "output_type": "stream",
     "text": [
      "\r\n",
      "  6%|██████████▏                                                                                                                                                                   | 117/2000 [01:54<29:18,  1.07it/s]"
     ]
    },
    {
     "name": "stdout",
     "output_type": "stream",
     "text": [
      "Epoch 116 | Train loss: 0.1204 | Valid loss: 0.6045\n",
      "Train ACC: 0.9250 | Valid ACC: 0.7984 | Train f1: 0.9217 | Valid f1: 0.7950 | Train pre: 0.9406 | Valid pre: 0.8174\n"
     ]
    },
    {
     "name": "stderr",
     "output_type": "stream",
     "text": [
      "\r\n",
      "  6%|██████████▎                                                                                                                                                                   | 118/2000 [01:55<30:06,  1.04it/s]"
     ]
    },
    {
     "name": "stdout",
     "output_type": "stream",
     "text": [
      "Epoch 117 | Train loss: 0.1122 | Valid loss: 0.5842\n",
      "Train ACC: 0.9564 | Valid ACC: 0.8088 | Train f1: 0.9611 | Valid f1: 0.8056 | Train pre: 0.9675 | Valid pre: 0.8244\n"
     ]
    },
    {
     "name": "stderr",
     "output_type": "stream",
     "text": [
      "\r\n",
      "  6%|██████████▎                                                                                                                                                                   | 119/2000 [01:55<29:49,  1.05it/s]"
     ]
    },
    {
     "name": "stdout",
     "output_type": "stream",
     "text": [
      "Epoch 118 | Train loss: 0.1042 | Valid loss: 0.5792\n",
      "Train ACC: 0.9610 | Valid ACC: 0.8083 | Train f1: 0.9645 | Valid f1: 0.8050 | Train pre: 0.9684 | Valid pre: 0.8240\n"
     ]
    },
    {
     "name": "stderr",
     "output_type": "stream",
     "text": [
      "\r\n",
      "  6%|██████████▍                                                                                                                                                                   | 120/2000 [01:56<29:33,  1.06it/s]"
     ]
    },
    {
     "name": "stdout",
     "output_type": "stream",
     "text": [
      "Epoch 119 | Train loss: 0.1086 | Valid loss: 0.5793\n",
      "Train ACC: 0.9101 | Valid ACC: 0.8079 | Train f1: 0.9110 | Valid f1: 0.8026 | Train pre: 0.9121 | Valid pre: 0.8195\n"
     ]
    },
    {
     "name": "stderr",
     "output_type": "stream",
     "text": [
      "\r\n",
      "  6%|██████████▌                                                                                                                                                                   | 121/2000 [01:57<29:15,  1.07it/s]"
     ]
    },
    {
     "name": "stdout",
     "output_type": "stream",
     "text": [
      "Epoch 120 | Train loss: 0.0995 | Valid loss: 0.5836\n",
      "Train ACC: 0.9058 | Valid ACC: 0.8075 | Train f1: 0.9066 | Valid f1: 0.8021 | Train pre: 0.9075 | Valid pre: 0.8187\n"
     ]
    },
    {
     "name": "stderr",
     "output_type": "stream",
     "text": [
      "\r\n",
      "  6%|██████████▌                                                                                                                                                                   | 122/2000 [01:58<29:19,  1.07it/s]"
     ]
    },
    {
     "name": "stdout",
     "output_type": "stream",
     "text": [
      "Epoch 121 | Train loss: 0.1036 | Valid loss: 0.5919\n",
      "Train ACC: 0.9080 | Valid ACC: 0.8178 | Train f1: 0.9082 | Valid f1: 0.8128 | Train pre: 0.9092 | Valid pre: 0.8265\n"
     ]
    },
    {
     "name": "stderr",
     "output_type": "stream",
     "text": [
      "\r\n",
      "  6%|██████████▋                                                                                                                                                                   | 123/2000 [01:59<29:38,  1.06it/s]"
     ]
    },
    {
     "name": "stdout",
     "output_type": "stream",
     "text": [
      "Epoch 122 | Train loss: 0.1027 | Valid loss: 0.5826\n",
      "Train ACC: 0.9029 | Valid ACC: 0.8173 | Train f1: 0.9078 | Valid f1: 0.8119 | Train pre: 0.9164 | Valid pre: 0.8251\n"
     ]
    },
    {
     "name": "stderr",
     "output_type": "stream",
     "text": [
      "\r\n",
      "  6%|██████████▊                                                                                                                                                                   | 124/2000 [02:00<29:30,  1.06it/s]"
     ]
    },
    {
     "name": "stdout",
     "output_type": "stream",
     "text": [
      "Epoch 123 | Train loss: 0.0977 | Valid loss: 0.5780\n",
      "Train ACC: 0.9621 | Valid ACC: 0.8133 | Train f1: 0.9653 | Valid f1: 0.8049 | Train pre: 0.9704 | Valid pre: 0.8163\n"
     ]
    },
    {
     "name": "stderr",
     "output_type": "stream",
     "text": [
      "\r\n",
      "  6%|██████████▉                                                                                                                                                                   | 125/2000 [02:01<29:40,  1.05it/s]"
     ]
    },
    {
     "name": "stdout",
     "output_type": "stream",
     "text": [
      "Epoch 124 | Train loss: 0.0883 | Valid loss: 0.5894\n",
      "Train ACC: 0.9631 | Valid ACC: 0.8150 | Train f1: 0.9564 | Valid f1: 0.8081 | Train pre: 0.9558 | Valid pre: 0.8179\n"
     ]
    },
    {
     "name": "stderr",
     "output_type": "stream",
     "text": [
      "\r\n",
      "  6%|██████████▉                                                                                                                                                                   | 126/2000 [02:02<29:23,  1.06it/s]"
     ]
    },
    {
     "name": "stdout",
     "output_type": "stream",
     "text": [
      "Epoch 125 | Train loss: 0.0951 | Valid loss: 0.6043\n",
      "Train ACC: 0.9074 | Valid ACC: 0.8156 | Train f1: 0.9099 | Valid f1: 0.8101 | Train pre: 0.9131 | Valid pre: 0.8212\n"
     ]
    },
    {
     "name": "stderr",
     "output_type": "stream",
     "text": [
      "\r\n",
      "  6%|███████████                                                                                                                                                                   | 127/2000 [02:03<30:09,  1.03it/s]"
     ]
    },
    {
     "name": "stdout",
     "output_type": "stream",
     "text": [
      "Epoch 126 | Train loss: 0.0977 | Valid loss: 0.6395\n",
      "Train ACC: 0.9080 | Valid ACC: 0.8195 | Train f1: 0.9113 | Valid f1: 0.8183 | Train pre: 0.9149 | Valid pre: 0.8327\n"
     ]
    },
    {
     "name": "stderr",
     "output_type": "stream",
     "text": [
      "\r\n",
      "  6%|███████████▏                                                                                                                                                                  | 128/2000 [02:04<29:35,  1.05it/s]"
     ]
    },
    {
     "name": "stdout",
     "output_type": "stream",
     "text": [
      "Epoch 127 | Train loss: 0.0924 | Valid loss: 0.6442\n",
      "Train ACC: 0.9407 | Valid ACC: 0.8115 | Train f1: 0.9532 | Valid f1: 0.8089 | Train pre: 0.9755 | Valid pre: 0.8255\n"
     ]
    },
    {
     "name": "stderr",
     "output_type": "stream",
     "text": [
      "\r\n",
      "  6%|███████████▏                                                                                                                                                                  | 129/2000 [02:05<30:25,  1.03it/s]"
     ]
    },
    {
     "name": "stdout",
     "output_type": "stream",
     "text": [
      "Epoch 128 | Train loss: 0.0887 | Valid loss: 0.6325\n",
      "Train ACC: 0.9415 | Valid ACC: 0.8120 | Train f1: 0.9515 | Valid f1: 0.8088 | Train pre: 0.9710 | Valid pre: 0.8244\n"
     ]
    },
    {
     "name": "stderr",
     "output_type": "stream",
     "text": [
      "\r\n",
      "  6%|███████████▎                                                                                                                                                                  | 130/2000 [02:06<29:53,  1.04it/s]"
     ]
    },
    {
     "name": "stdout",
     "output_type": "stream",
     "text": [
      "Epoch 129 | Train loss: 0.0973 | Valid loss: 0.6321\n",
      "Train ACC: 0.9426 | Valid ACC: 0.8110 | Train f1: 0.9310 | Valid f1: 0.8060 | Train pre: 0.9383 | Valid pre: 0.8198\n"
     ]
    },
    {
     "name": "stderr",
     "output_type": "stream",
     "text": [
      "\r\n",
      "  7%|███████████▍                                                                                                                                                                  | 131/2000 [02:07<30:20,  1.03it/s]"
     ]
    },
    {
     "name": "stdout",
     "output_type": "stream",
     "text": [
      "Epoch 130 | Train loss: 0.1035 | Valid loss: 0.6100\n",
      "Train ACC: 0.9362 | Valid ACC: 0.8016 | Train f1: 0.9452 | Valid f1: 0.7972 | Train pre: 0.9647 | Valid pre: 0.8149\n"
     ]
    },
    {
     "name": "stderr",
     "output_type": "stream",
     "text": [
      "\r\n",
      "  7%|███████████▍                                                                                                                                                                  | 132/2000 [02:08<29:45,  1.05it/s]"
     ]
    },
    {
     "name": "stdout",
     "output_type": "stream",
     "text": [
      "Epoch 131 | Train loss: 0.0957 | Valid loss: 0.6215\n",
      "Train ACC: 0.9339 | Valid ACC: 0.8043 | Train f1: 0.9455 | Valid f1: 0.8009 | Train pre: 0.9688 | Valid pre: 0.8202\n"
     ]
    },
    {
     "name": "stderr",
     "output_type": "stream",
     "text": [
      "\r\n",
      "  7%|███████████▌                                                                                                                                                                  | 133/2000 [02:09<29:44,  1.05it/s]"
     ]
    },
    {
     "name": "stdout",
     "output_type": "stream",
     "text": [
      "Epoch 132 | Train loss: 0.0855 | Valid loss: 0.6186\n",
      "Train ACC: 0.9661 | Valid ACC: 0.7949 | Train f1: 0.9699 | Valid f1: 0.7892 | Train pre: 0.9749 | Valid pre: 0.8083\n"
     ]
    },
    {
     "name": "stderr",
     "output_type": "stream",
     "text": [
      "\r\n",
      "  7%|███████████▋                                                                                                                                                                  | 134/2000 [02:10<30:24,  1.02it/s]"
     ]
    },
    {
     "name": "stdout",
     "output_type": "stream",
     "text": [
      "Epoch 133 | Train loss: 0.0833 | Valid loss: 0.6175\n",
      "Train ACC: 0.9674 | Valid ACC: 0.7926 | Train f1: 0.9650 | Valid f1: 0.7877 | Train pre: 0.9660 | Valid pre: 0.8074\n"
     ]
    },
    {
     "name": "stderr",
     "output_type": "stream",
     "text": [
      "\r\n",
      "  7%|███████████▋                                                                                                                                                                  | 135/2000 [02:11<29:37,  1.05it/s]"
     ]
    },
    {
     "name": "stdout",
     "output_type": "stream",
     "text": [
      "Epoch 134 | Train loss: 0.0862 | Valid loss: 0.6159\n",
      "Train ACC: 0.9709 | Valid ACC: 0.7863 | Train f1: 0.9762 | Valid f1: 0.7783 | Train pre: 0.9827 | Valid pre: 0.7979\n"
     ]
    },
    {
     "name": "stderr",
     "output_type": "stream",
     "text": [
      "\r\n",
      "  7%|███████████▊                                                                                                                                                                  | 136/2000 [02:12<30:48,  1.01it/s]"
     ]
    },
    {
     "name": "stdout",
     "output_type": "stream",
     "text": [
      "Epoch 135 | Train loss: 0.0869 | Valid loss: 0.6177\n",
      "Train ACC: 0.9321 | Valid ACC: 0.7976 | Train f1: 0.9202 | Valid f1: 0.7899 | Train pre: 0.9370 | Valid pre: 0.8048\n"
     ]
    },
    {
     "name": "stderr",
     "output_type": "stream",
     "text": [
      "\r\n",
      "  7%|███████████▉                                                                                                                                                                  | 137/2000 [02:13<29:56,  1.04it/s]"
     ]
    },
    {
     "name": "stdout",
     "output_type": "stream",
     "text": [
      "Epoch 136 | Train loss: 0.0865 | Valid loss: 0.6375\n",
      "Train ACC: 0.8949 | Valid ACC: 0.7974 | Train f1: 0.9023 | Valid f1: 0.7843 | Train pre: 0.9137 | Valid pre: 0.7972\n"
     ]
    },
    {
     "name": "stderr",
     "output_type": "stream",
     "text": [
      "\r\n",
      "  7%|████████████                                                                                                                                                                  | 138/2000 [02:14<30:07,  1.03it/s]"
     ]
    },
    {
     "name": "stdout",
     "output_type": "stream",
     "text": [
      "Epoch 137 | Train loss: 0.0873 | Valid loss: 0.6573\n",
      "Train ACC: 0.9134 | Valid ACC: 0.7960 | Train f1: 0.9133 | Valid f1: 0.7821 | Train pre: 0.9137 | Valid pre: 0.7951\n"
     ]
    },
    {
     "name": "stderr",
     "output_type": "stream",
     "text": [
      "\r\n",
      "  7%|████████████                                                                                                                                                                  | 139/2000 [02:15<28:48,  1.08it/s]"
     ]
    },
    {
     "name": "stdout",
     "output_type": "stream",
     "text": [
      "Epoch 138 | Train loss: 0.0979 | Valid loss: 0.6619\n",
      "Train ACC: 0.9714 | Valid ACC: 0.7900 | Train f1: 0.9710 | Valid f1: 0.7757 | Train pre: 0.9707 | Valid pre: 0.7916\n"
     ]
    },
    {
     "name": "stderr",
     "output_type": "stream",
     "text": [
      "\r\n",
      "  7%|████████████▏                                                                                                                                                                 | 140/2000 [02:15<28:34,  1.08it/s]"
     ]
    },
    {
     "name": "stdout",
     "output_type": "stream",
     "text": [
      "Epoch 139 | Train loss: 0.0874 | Valid loss: 0.6556\n",
      "Train ACC: 0.9116 | Valid ACC: 0.7903 | Train f1: 0.9162 | Valid f1: 0.7765 | Train pre: 0.9216 | Valid pre: 0.7924\n"
     ]
    },
    {
     "name": "stderr",
     "output_type": "stream",
     "text": [
      "\r\n",
      "  7%|████████████▎                                                                                                                                                                 | 141/2000 [02:16<29:26,  1.05it/s]"
     ]
    },
    {
     "name": "stdout",
     "output_type": "stream",
     "text": [
      "Epoch 140 | Train loss: 0.0837 | Valid loss: 0.6442\n",
      "Train ACC: 0.9631 | Valid ACC: 0.7872 | Train f1: 0.9692 | Valid f1: 0.7757 | Train pre: 0.9780 | Valid pre: 0.7937\n"
     ]
    },
    {
     "name": "stderr",
     "output_type": "stream",
     "text": [
      "\r\n",
      "  7%|████████████▎                                                                                                                                                                 | 142/2000 [02:17<30:01,  1.03it/s]"
     ]
    },
    {
     "name": "stdout",
     "output_type": "stream",
     "text": [
      "Epoch 141 | Train loss: 0.0785 | Valid loss: 0.6285\n",
      "Train ACC: 0.9452 | Valid ACC: 0.7949 | Train f1: 0.9559 | Valid f1: 0.7858 | Train pre: 0.9771 | Valid pre: 0.8027\n"
     ]
    },
    {
     "name": "stderr",
     "output_type": "stream",
     "text": [
      "\r\n",
      "  7%|████████████▍                                                                                                                                                                 | 143/2000 [02:18<30:12,  1.02it/s]"
     ]
    },
    {
     "name": "stdout",
     "output_type": "stream",
     "text": [
      "Epoch 142 | Train loss: 0.0922 | Valid loss: 0.6269\n",
      "Train ACC: 0.9070 | Valid ACC: 0.7943 | Train f1: 0.9083 | Valid f1: 0.7849 | Train pre: 0.9106 | Valid pre: 0.8014\n"
     ]
    },
    {
     "name": "stderr",
     "output_type": "stream",
     "text": [
      "\r\n",
      "  7%|████████████▌                                                                                                                                                                 | 144/2000 [02:19<29:30,  1.05it/s]"
     ]
    },
    {
     "name": "stdout",
     "output_type": "stream",
     "text": [
      "Epoch 143 | Train loss: 0.0783 | Valid loss: 0.6381\n",
      "Train ACC: 0.9722 | Valid ACC: 0.7970 | Train f1: 0.9708 | Valid f1: 0.7854 | Train pre: 0.9695 | Valid pre: 0.7938\n"
     ]
    },
    {
     "name": "stderr",
     "output_type": "stream",
     "text": [
      "\r\n",
      "  7%|████████████▌                                                                                                                                                                 | 145/2000 [02:20<29:18,  1.06it/s]"
     ]
    },
    {
     "name": "stdout",
     "output_type": "stream",
     "text": [
      "Epoch 144 | Train loss: 0.0873 | Valid loss: 0.6464\n",
      "Train ACC: 0.8926 | Valid ACC: 0.8007 | Train f1: 0.8986 | Valid f1: 0.7883 | Train pre: 0.9141 | Valid pre: 0.7942\n"
     ]
    },
    {
     "name": "stderr",
     "output_type": "stream",
     "text": [
      "\r\n",
      "  7%|████████████▋                                                                                                                                                                 | 146/2000 [02:21<28:48,  1.07it/s]"
     ]
    },
    {
     "name": "stdout",
     "output_type": "stream",
     "text": [
      "Epoch 145 | Train loss: 0.0823 | Valid loss: 0.6570\n",
      "Train ACC: 0.9133 | Valid ACC: 0.8006 | Train f1: 0.9123 | Valid f1: 0.7904 | Train pre: 0.9117 | Valid pre: 0.7976\n"
     ]
    },
    {
     "name": "stderr",
     "output_type": "stream",
     "text": [
      "\r\n",
      "  7%|████████████▊                                                                                                                                                                 | 147/2000 [02:22<29:28,  1.05it/s]"
     ]
    },
    {
     "name": "stdout",
     "output_type": "stream",
     "text": [
      "Epoch 146 | Train loss: 0.0781 | Valid loss: 0.6690\n",
      "Train ACC: 0.9479 | Valid ACC: 0.7895 | Train f1: 0.9558 | Valid f1: 0.7799 | Train pre: 0.9734 | Valid pre: 0.7923\n"
     ]
    },
    {
     "name": "stderr",
     "output_type": "stream",
     "text": [
      "\r\n",
      "  7%|████████████▉                                                                                                                                                                 | 148/2000 [02:23<29:00,  1.06it/s]"
     ]
    },
    {
     "name": "stdout",
     "output_type": "stream",
     "text": [
      "Epoch 147 | Train loss: 0.0731 | Valid loss: 0.6816\n",
      "Train ACC: 0.9694 | Valid ACC: 0.7813 | Train f1: 0.9763 | Valid f1: 0.7721 | Train pre: 0.9850 | Valid pre: 0.7866\n"
     ]
    },
    {
     "name": "stderr",
     "output_type": "stream",
     "text": [
      "\r\n",
      "  7%|████████████▉                                                                                                                                                                 | 149/2000 [02:24<29:50,  1.03it/s]"
     ]
    },
    {
     "name": "stdout",
     "output_type": "stream",
     "text": [
      "Epoch 148 | Train loss: 0.0798 | Valid loss: 0.6764\n",
      "Train ACC: 0.9667 | Valid ACC: 0.7850 | Train f1: 0.9736 | Valid f1: 0.7769 | Train pre: 0.9819 | Valid pre: 0.7986\n"
     ]
    },
    {
     "name": "stderr",
     "output_type": "stream",
     "text": [
      "\r\n",
      "  8%|█████████████                                                                                                                                                                 | 150/2000 [02:25<29:40,  1.04it/s]"
     ]
    },
    {
     "name": "stdout",
     "output_type": "stream",
     "text": [
      "Epoch 149 | Train loss: 0.0770 | Valid loss: 0.6677\n",
      "Train ACC: 0.9130 | Valid ACC: 0.7942 | Train f1: 0.9158 | Valid f1: 0.7901 | Train pre: 0.9199 | Valid pre: 0.8127\n"
     ]
    },
    {
     "name": "stderr",
     "output_type": "stream",
     "text": [
      "\r\n",
      "  8%|█████████████▏                                                                                                                                                                | 151/2000 [02:26<29:36,  1.04it/s]"
     ]
    },
    {
     "name": "stdout",
     "output_type": "stream",
     "text": [
      "Epoch 150 | Train loss: 0.0741 | Valid loss: 0.6655\n",
      "Train ACC: 0.9213 | Valid ACC: 0.7931 | Train f1: 0.9222 | Valid f1: 0.7873 | Train pre: 0.9234 | Valid pre: 0.8086\n"
     ]
    },
    {
     "name": "stderr",
     "output_type": "stream",
     "text": [
      "\r\n",
      "  8%|█████████████▏                                                                                                                                                                | 152/2000 [02:27<28:56,  1.06it/s]"
     ]
    },
    {
     "name": "stdout",
     "output_type": "stream",
     "text": [
      "Epoch 151 | Train loss: 0.0685 | Valid loss: 0.6569\n",
      "Train ACC: 0.9793 | Valid ACC: 0.7859 | Train f1: 0.9769 | Valid f1: 0.7807 | Train pre: 0.9749 | Valid pre: 0.8031\n"
     ]
    },
    {
     "name": "stderr",
     "output_type": "stream",
     "text": [
      "\r\n",
      "  8%|█████████████▎                                                                                                                                                                | 153/2000 [02:28<28:49,  1.07it/s]"
     ]
    },
    {
     "name": "stdout",
     "output_type": "stream",
     "text": [
      "Epoch 152 | Train loss: 0.0734 | Valid loss: 0.6596\n",
      "Train ACC: 0.9791 | Valid ACC: 0.7877 | Train f1: 0.9743 | Valid f1: 0.7845 | Train pre: 0.9703 | Valid pre: 0.8092\n"
     ]
    },
    {
     "name": "stderr",
     "output_type": "stream",
     "text": [
      "\r\n",
      "  8%|█████████████▍                                                                                                                                                                | 154/2000 [02:29<29:39,  1.04it/s]"
     ]
    },
    {
     "name": "stdout",
     "output_type": "stream",
     "text": [
      "Epoch 153 | Train loss: 0.0663 | Valid loss: 0.6579\n",
      "Train ACC: 0.9491 | Valid ACC: 0.7988 | Train f1: 0.9594 | Valid f1: 0.7961 | Train pre: 0.9791 | Valid pre: 0.8145\n"
     ]
    },
    {
     "name": "stderr",
     "output_type": "stream",
     "text": [
      "\r\n",
      "  8%|█████████████▍                                                                                                                                                                | 155/2000 [02:30<30:34,  1.01it/s]"
     ]
    },
    {
     "name": "stdout",
     "output_type": "stream",
     "text": [
      "Epoch 154 | Train loss: 0.0617 | Valid loss: 0.6487\n",
      "Train ACC: 0.9267 | Valid ACC: 0.8060 | Train f1: 0.9301 | Valid f1: 0.8024 | Train pre: 0.9573 | Valid pre: 0.8180\n"
     ]
    },
    {
     "name": "stderr",
     "output_type": "stream",
     "text": [
      "\r\n",
      "  8%|█████████████▌                                                                                                                                                                | 156/2000 [02:31<31:25,  1.02s/it]"
     ]
    },
    {
     "name": "stdout",
     "output_type": "stream",
     "text": [
      "Epoch 155 | Train loss: 0.0685 | Valid loss: 0.6357\n",
      "Train ACC: 0.9189 | Valid ACC: 0.8076 | Train f1: 0.9227 | Valid f1: 0.8035 | Train pre: 0.9270 | Valid pre: 0.8182\n"
     ]
    },
    {
     "name": "stderr",
     "output_type": "stream",
     "text": [
      "\r\n",
      "  8%|█████████████▋                                                                                                                                                                | 157/2000 [02:32<30:32,  1.01it/s]"
     ]
    },
    {
     "name": "stdout",
     "output_type": "stream",
     "text": [
      "Epoch 156 | Train loss: 0.0648 | Valid loss: 0.6352\n",
      "Train ACC: 0.9464 | Valid ACC: 0.8095 | Train f1: 0.9609 | Valid f1: 0.8042 | Train pre: 0.9861 | Valid pre: 0.8137\n"
     ]
    },
    {
     "name": "stderr",
     "output_type": "stream",
     "text": [
      "\r\n",
      "  8%|█████████████▋                                                                                                                                                                | 158/2000 [02:33<29:00,  1.06it/s]"
     ]
    },
    {
     "name": "stdout",
     "output_type": "stream",
     "text": [
      "Epoch 157 | Train loss: 0.0556 | Valid loss: 0.6448\n",
      "Train ACC: 0.9531 | Valid ACC: 0.8132 | Train f1: 0.9646 | Valid f1: 0.8061 | Train pre: 0.9858 | Valid pre: 0.8139\n"
     ]
    },
    {
     "name": "stderr",
     "output_type": "stream",
     "text": [
      "\r\n",
      "  8%|█████████████▊                                                                                                                                                                | 159/2000 [02:34<29:40,  1.03it/s]"
     ]
    },
    {
     "name": "stdout",
     "output_type": "stream",
     "text": [
      "Epoch 158 | Train loss: 0.0687 | Valid loss: 0.6611\n",
      "Train ACC: 0.9784 | Valid ACC: 0.8268 | Train f1: 0.9764 | Valid f1: 0.8209 | Train pre: 0.9747 | Valid pre: 0.8249\n"
     ]
    },
    {
     "name": "stderr",
     "output_type": "stream",
     "text": [
      "\r\n",
      "  8%|█████████████▉                                                                                                                                                                | 160/2000 [02:35<29:55,  1.02it/s]"
     ]
    },
    {
     "name": "stdout",
     "output_type": "stream",
     "text": [
      "Epoch 159 | Train loss: 0.0687 | Valid loss: 0.6823\n",
      "Train ACC: 0.9789 | Valid ACC: 0.8200 | Train f1: 0.9783 | Valid f1: 0.8108 | Train pre: 0.9779 | Valid pre: 0.8095\n"
     ]
    },
    {
     "name": "stderr",
     "output_type": "stream",
     "text": [
      "\r\n",
      "  8%|██████████████                                                                                                                                                                | 161/2000 [02:36<30:13,  1.01it/s]"
     ]
    },
    {
     "name": "stdout",
     "output_type": "stream",
     "text": [
      "Epoch 160 | Train loss: 0.0615 | Valid loss: 0.6960\n",
      "Train ACC: 0.9800 | Valid ACC: 0.8196 | Train f1: 0.9785 | Valid f1: 0.8112 | Train pre: 0.9771 | Valid pre: 0.8108\n"
     ]
    },
    {
     "name": "stderr",
     "output_type": "stream",
     "text": [
      "\r\n",
      "  8%|██████████████                                                                                                                                                                | 162/2000 [02:37<30:37,  1.00it/s]"
     ]
    },
    {
     "name": "stdout",
     "output_type": "stream",
     "text": [
      "Epoch 161 | Train loss: 0.0606 | Valid loss: 0.6974\n",
      "Train ACC: 0.9838 | Valid ACC: 0.8104 | Train f1: 0.9838 | Valid f1: 0.8020 | Train pre: 0.9839 | Valid pre: 0.8067\n"
     ]
    },
    {
     "name": "stderr",
     "output_type": "stream",
     "text": [
      "\r\n",
      "  8%|██████████████▏                                                                                                                                                               | 163/2000 [02:38<31:01,  1.01s/it]"
     ]
    },
    {
     "name": "stdout",
     "output_type": "stream",
     "text": [
      "Epoch 162 | Train loss: 0.0579 | Valid loss: 0.6842\n",
      "Train ACC: 0.9803 | Valid ACC: 0.8122 | Train f1: 0.9822 | Valid f1: 0.8053 | Train pre: 0.9842 | Valid pre: 0.8174\n"
     ]
    },
    {
     "name": "stderr",
     "output_type": "stream",
     "text": [
      "\r\n",
      "  8%|██████████████▎                                                                                                                                                               | 164/2000 [02:39<30:05,  1.02it/s]"
     ]
    },
    {
     "name": "stdout",
     "output_type": "stream",
     "text": [
      "Epoch 163 | Train loss: 0.0596 | Valid loss: 0.6786\n",
      "Train ACC: 0.9530 | Valid ACC: 0.8123 | Train f1: 0.9621 | Valid f1: 0.8045 | Train pre: 0.9809 | Valid pre: 0.8155\n"
     ]
    },
    {
     "name": "stderr",
     "output_type": "stream",
     "text": [
      "\r\n",
      "  8%|██████████████▎                                                                                                                                                               | 165/2000 [02:40<30:41,  1.00s/it]"
     ]
    },
    {
     "name": "stdout",
     "output_type": "stream",
     "text": [
      "Epoch 164 | Train loss: 0.0717 | Valid loss: 0.6742\n",
      "Train ACC: 0.9744 | Valid ACC: 0.8146 | Train f1: 0.9775 | Valid f1: 0.8075 | Train pre: 0.9809 | Valid pre: 0.8190\n"
     ]
    },
    {
     "name": "stderr",
     "output_type": "stream",
     "text": [
      "\r\n",
      "  8%|██████████████▍                                                                                                                                                               | 166/2000 [02:41<30:11,  1.01it/s]"
     ]
    },
    {
     "name": "stdout",
     "output_type": "stream",
     "text": [
      "Epoch 165 | Train loss: 0.0593 | Valid loss: 0.6702\n",
      "Train ACC: 0.9766 | Valid ACC: 0.8047 | Train f1: 0.9807 | Valid f1: 0.7976 | Train pre: 0.9857 | Valid pre: 0.8107\n"
     ]
    },
    {
     "name": "stderr",
     "output_type": "stream",
     "text": [
      "\r\n",
      "  8%|██████████████▌                                                                                                                                                               | 167/2000 [02:42<31:01,  1.02s/it]"
     ]
    },
    {
     "name": "stdout",
     "output_type": "stream",
     "text": [
      "Epoch 166 | Train loss: 0.0679 | Valid loss: 0.6515\n",
      "Train ACC: 0.9810 | Valid ACC: 0.8094 | Train f1: 0.9804 | Valid f1: 0.8006 | Train pre: 0.9801 | Valid pre: 0.8053\n"
     ]
    },
    {
     "name": "stderr",
     "output_type": "stream",
     "text": [
      "\r\n",
      "  8%|██████████████▌                                                                                                                                                               | 168/2000 [02:43<30:17,  1.01it/s]"
     ]
    },
    {
     "name": "stdout",
     "output_type": "stream",
     "text": [
      "Epoch 167 | Train loss: 0.0636 | Valid loss: 0.6438\n",
      "Train ACC: 0.9825 | Valid ACC: 0.8046 | Train f1: 0.9821 | Valid f1: 0.7941 | Train pre: 0.9818 | Valid pre: 0.7981\n"
     ]
    },
    {
     "name": "stderr",
     "output_type": "stream",
     "text": [
      "\r\n",
      "  8%|██████████████▋                                                                                                                                                               | 169/2000 [02:44<31:17,  1.03s/it]"
     ]
    },
    {
     "name": "stdout",
     "output_type": "stream",
     "text": [
      "Epoch 168 | Train loss: 0.0448 | Valid loss: 0.6548\n",
      "Train ACC: 0.9602 | Valid ACC: 0.8036 | Train f1: 0.9688 | Valid f1: 0.7921 | Train pre: 0.9868 | Valid pre: 0.7954\n"
     ]
    },
    {
     "name": "stderr",
     "output_type": "stream",
     "text": [
      "\r\n",
      "  8%|██████████████▊                                                                                                                                                               | 170/2000 [02:45<30:21,  1.00it/s]"
     ]
    },
    {
     "name": "stdout",
     "output_type": "stream",
     "text": [
      "Epoch 169 | Train loss: 0.0674 | Valid loss: 0.6599\n",
      "Train ACC: 0.9201 | Valid ACC: 0.8014 | Train f1: 0.9233 | Valid f1: 0.7914 | Train pre: 0.9268 | Valid pre: 0.7988\n"
     ]
    },
    {
     "name": "stderr",
     "output_type": "stream",
     "text": [
      "\r\n",
      "  9%|██████████████▉                                                                                                                                                               | 171/2000 [02:46<30:18,  1.01it/s]"
     ]
    },
    {
     "name": "stdout",
     "output_type": "stream",
     "text": [
      "Epoch 170 | Train loss: 0.0560 | Valid loss: 0.6846\n",
      "Train ACC: 0.9831 | Valid ACC: 0.8016 | Train f1: 0.9820 | Valid f1: 0.7920 | Train pre: 0.9811 | Valid pre: 0.7998\n"
     ]
    },
    {
     "name": "stderr",
     "output_type": "stream",
     "text": [
      "\r\n",
      "  9%|██████████████▉                                                                                                                                                               | 172/2000 [02:47<29:39,  1.03it/s]"
     ]
    },
    {
     "name": "stdout",
     "output_type": "stream",
     "text": [
      "Epoch 171 | Train loss: 0.0584 | Valid loss: 0.6994\n",
      "Train ACC: 0.9238 | Valid ACC: 0.8025 | Train f1: 0.9151 | Valid f1: 0.7941 | Train pre: 0.9104 | Valid pre: 0.8094\n"
     ]
    },
    {
     "name": "stderr",
     "output_type": "stream",
     "text": [
      "\r\n",
      "  9%|███████████████                                                                                                                                                               | 173/2000 [02:48<30:33,  1.00s/it]"
     ]
    },
    {
     "name": "stdout",
     "output_type": "stream",
     "text": [
      "Epoch 172 | Train loss: 0.0633 | Valid loss: 0.6922\n",
      "Train ACC: 0.9763 | Valid ACC: 0.8020 | Train f1: 0.9809 | Valid f1: 0.7912 | Train pre: 0.9863 | Valid pre: 0.8018\n"
     ]
    },
    {
     "name": "stderr",
     "output_type": "stream",
     "text": [
      "\r\n",
      "  9%|███████████████▏                                                                                                                                                              | 174/2000 [02:49<30:06,  1.01it/s]"
     ]
    },
    {
     "name": "stdout",
     "output_type": "stream",
     "text": [
      "Epoch 173 | Train loss: 0.0491 | Valid loss: 0.6794\n",
      "Train ACC: 0.9861 | Valid ACC: 0.7956 | Train f1: 0.9867 | Valid f1: 0.7826 | Train pre: 0.9877 | Valid pre: 0.7934\n"
     ]
    },
    {
     "name": "stderr",
     "output_type": "stream",
     "text": [
      "\r\n",
      "  9%|███████████████▏                                                                                                                                                              | 175/2000 [02:50<30:52,  1.01s/it]"
     ]
    },
    {
     "name": "stdout",
     "output_type": "stream",
     "text": [
      "Epoch 174 | Train loss: 0.0567 | Valid loss: 0.6813\n",
      "Train ACC: 0.9699 | Valid ACC: 0.8013 | Train f1: 0.9685 | Valid f1: 0.7916 | Train pre: 0.9713 | Valid pre: 0.8026\n"
     ]
    },
    {
     "name": "stderr",
     "output_type": "stream",
     "text": [
      "\r\n",
      "  9%|███████████████▎                                                                                                                                                              | 176/2000 [02:51<29:51,  1.02it/s]"
     ]
    },
    {
     "name": "stdout",
     "output_type": "stream",
     "text": [
      "Epoch 175 | Train loss: 0.0587 | Valid loss: 0.6947\n",
      "Train ACC: 0.9790 | Valid ACC: 0.8017 | Train f1: 0.9784 | Valid f1: 0.7932 | Train pre: 0.9779 | Valid pre: 0.8055\n"
     ]
    },
    {
     "name": "stderr",
     "output_type": "stream",
     "text": [
      "\r\n",
      "  9%|███████████████▍                                                                                                                                                              | 177/2000 [02:52<28:58,  1.05it/s]"
     ]
    },
    {
     "name": "stdout",
     "output_type": "stream",
     "text": [
      "Epoch 176 | Train loss: 0.0468 | Valid loss: 0.7182\n",
      "Train ACC: 0.9845 | Valid ACC: 0.7929 | Train f1: 0.9841 | Valid f1: 0.7844 | Train pre: 0.9841 | Valid pre: 0.8006\n"
     ]
    },
    {
     "name": "stderr",
     "output_type": "stream",
     "text": [
      "\r\n",
      "  9%|███████████████▍                                                                                                                                                              | 178/2000 [02:53<29:10,  1.04it/s]"
     ]
    },
    {
     "name": "stdout",
     "output_type": "stream",
     "text": [
      "Epoch 177 | Train loss: 0.0574 | Valid loss: 0.7447\n",
      "Train ACC: 0.9705 | Valid ACC: 0.7964 | Train f1: 0.9754 | Valid f1: 0.7857 | Train pre: 0.9826 | Valid pre: 0.7991\n"
     ]
    },
    {
     "name": "stderr",
     "output_type": "stream",
     "text": [
      "\r\n",
      "  9%|███████████████▌                                                                                                                                                              | 179/2000 [02:54<29:33,  1.03it/s]"
     ]
    },
    {
     "name": "stdout",
     "output_type": "stream",
     "text": [
      "Epoch 178 | Train loss: 0.0557 | Valid loss: 0.7498\n",
      "Train ACC: 0.9830 | Valid ACC: 0.7950 | Train f1: 0.9856 | Valid f1: 0.7843 | Train pre: 0.9887 | Valid pre: 0.7975\n"
     ]
    },
    {
     "name": "stderr",
     "output_type": "stream",
     "text": [
      "\r\n",
      "  9%|███████████████▋                                                                                                                                                              | 180/2000 [02:55<30:29,  1.01s/it]"
     ]
    },
    {
     "name": "stdout",
     "output_type": "stream",
     "text": [
      "Epoch 179 | Train loss: 0.0629 | Valid loss: 0.7343\n",
      "Train ACC: 0.9716 | Valid ACC: 0.7957 | Train f1: 0.9678 | Valid f1: 0.7832 | Train pre: 0.9675 | Valid pre: 0.7944\n"
     ]
    },
    {
     "name": "stderr",
     "output_type": "stream",
     "text": [
      "\r\n",
      "  9%|███████████████▋                                                                                                                                                              | 181/2000 [02:56<30:13,  1.00it/s]"
     ]
    },
    {
     "name": "stdout",
     "output_type": "stream",
     "text": [
      "Epoch 180 | Train loss: 0.0645 | Valid loss: 0.7266\n",
      "Train ACC: 0.9767 | Valid ACC: 0.7961 | Train f1: 0.9791 | Valid f1: 0.7828 | Train pre: 0.9825 | Valid pre: 0.7937\n"
     ]
    },
    {
     "name": "stderr",
     "output_type": "stream",
     "text": [
      "\r\n",
      "  9%|███████████████▊                                                                                                                                                              | 182/2000 [02:57<30:54,  1.02s/it]"
     ]
    },
    {
     "name": "stdout",
     "output_type": "stream",
     "text": [
      "Epoch 181 | Train loss: 0.0511 | Valid loss: 0.7003\n",
      "Train ACC: 0.9286 | Valid ACC: 0.7966 | Train f1: 0.9301 | Valid f1: 0.7824 | Train pre: 0.9319 | Valid pre: 0.7856\n"
     ]
    },
    {
     "name": "stderr",
     "output_type": "stream",
     "text": [
      "\r\n",
      "  9%|███████████████▉                                                                                                                                                              | 183/2000 [02:58<29:37,  1.02it/s]"
     ]
    },
    {
     "name": "stdout",
     "output_type": "stream",
     "text": [
      "Epoch 182 | Train loss: 0.0461 | Valid loss: 0.6755\n",
      "Train ACC: 0.9894 | Valid ACC: 0.7986 | Train f1: 0.9895 | Valid f1: 0.7845 | Train pre: 0.9896 | Valid pre: 0.7878\n"
     ]
    },
    {
     "name": "stderr",
     "output_type": "stream",
     "text": [
      "\r\n",
      "  9%|████████████████                                                                                                                                                              | 184/2000 [02:59<29:24,  1.03it/s]"
     ]
    },
    {
     "name": "stdout",
     "output_type": "stream",
     "text": [
      "Epoch 183 | Train loss: 0.0553 | Valid loss: 0.6690\n",
      "Train ACC: 0.9831 | Valid ACC: 0.7965 | Train f1: 0.9814 | Valid f1: 0.7831 | Train pre: 0.9801 | Valid pre: 0.7872\n"
     ]
    },
    {
     "name": "stderr",
     "output_type": "stream",
     "text": [
      "\r\n",
      "  9%|████████████████                                                                                                                                                              | 185/2000 [03:00<29:18,  1.03it/s]"
     ]
    },
    {
     "name": "stdout",
     "output_type": "stream",
     "text": [
      "Epoch 184 | Train loss: 0.0486 | Valid loss: 0.6864\n",
      "Train ACC: 0.9890 | Valid ACC: 0.7966 | Train f1: 0.9857 | Valid f1: 0.7845 | Train pre: 0.9830 | Valid pre: 0.7900\n"
     ]
    },
    {
     "name": "stderr",
     "output_type": "stream",
     "text": [
      "\r\n",
      "  9%|████████████████▏                                                                                                                                                             | 186/2000 [03:01<28:52,  1.05it/s]"
     ]
    },
    {
     "name": "stdout",
     "output_type": "stream",
     "text": [
      "Epoch 185 | Train loss: 0.0545 | Valid loss: 0.7064\n",
      "Train ACC: 0.9862 | Valid ACC: 0.7957 | Train f1: 0.9857 | Valid f1: 0.7829 | Train pre: 0.9853 | Valid pre: 0.7878\n"
     ]
    },
    {
     "name": "stderr",
     "output_type": "stream",
     "text": [
      "\r\n",
      "  9%|████████████████▎                                                                                                                                                             | 187/2000 [03:02<29:18,  1.03it/s]"
     ]
    },
    {
     "name": "stdout",
     "output_type": "stream",
     "text": [
      "Epoch 186 | Train loss: 0.0530 | Valid loss: 0.7159\n",
      "Train ACC: 0.9836 | Valid ACC: 0.7971 | Train f1: 0.9727 | Valid f1: 0.7839 | Train pre: 0.9656 | Valid pre: 0.7882\n"
     ]
    },
    {
     "name": "stderr",
     "output_type": "stream",
     "text": [
      "\r\n",
      "  9%|████████████████▎                                                                                                                                                             | 188/2000 [03:03<29:32,  1.02it/s]"
     ]
    },
    {
     "name": "stdout",
     "output_type": "stream",
     "text": [
      "Epoch 187 | Train loss: 0.0544 | Valid loss: 0.7028\n",
      "Train ACC: 0.9836 | Valid ACC: 0.8040 | Train f1: 0.9850 | Valid f1: 0.7933 | Train pre: 0.9867 | Valid pre: 0.7970\n"
     ]
    },
    {
     "name": "stderr",
     "output_type": "stream",
     "text": [
      "\r\n",
      "  9%|████████████████▍                                                                                                                                                             | 189/2000 [03:03<29:16,  1.03it/s]"
     ]
    },
    {
     "name": "stdout",
     "output_type": "stream",
     "text": [
      "Epoch 188 | Train loss: 0.0524 | Valid loss: 0.6986\n",
      "Train ACC: 0.9808 | Valid ACC: 0.8056 | Train f1: 0.9834 | Valid f1: 0.7945 | Train pre: 0.9862 | Valid pre: 0.7978\n"
     ]
    },
    {
     "name": "stderr",
     "output_type": "stream",
     "text": [
      "\r\n",
      " 10%|████████████████▌                                                                                                                                                             | 190/2000 [03:04<29:51,  1.01it/s]"
     ]
    },
    {
     "name": "stdout",
     "output_type": "stream",
     "text": [
      "Epoch 189 | Train loss: 0.0471 | Valid loss: 0.7098\n",
      "Train ACC: 0.9835 | Valid ACC: 0.8110 | Train f1: 0.9847 | Valid f1: 0.8047 | Train pre: 0.9861 | Valid pre: 0.8178\n"
     ]
    },
    {
     "name": "stderr",
     "output_type": "stream",
     "text": [
      "\r\n",
      " 10%|████████████████▌                                                                                                                                                             | 191/2000 [03:06<30:06,  1.00it/s]"
     ]
    },
    {
     "name": "stdout",
     "output_type": "stream",
     "text": [
      "Epoch 190 | Train loss: 0.0421 | Valid loss: 0.7412\n",
      "Train ACC: 0.9872 | Valid ACC: 0.8105 | Train f1: 0.9762 | Valid f1: 0.8049 | Train pre: 0.9690 | Valid pre: 0.8188\n"
     ]
    },
    {
     "name": "stderr",
     "output_type": "stream",
     "text": [
      "\r\n",
      " 10%|████████████████▋                                                                                                                                                             | 192/2000 [03:06<29:12,  1.03it/s]"
     ]
    },
    {
     "name": "stdout",
     "output_type": "stream",
     "text": [
      "Epoch 191 | Train loss: 0.0429 | Valid loss: 0.7674\n",
      "Train ACC: 0.9886 | Valid ACC: 0.8072 | Train f1: 0.9884 | Valid f1: 0.8026 | Train pre: 0.9882 | Valid pre: 0.8180\n"
     ]
    },
    {
     "name": "stderr",
     "output_type": "stream",
     "text": [
      "\r\n",
      " 10%|████████████████▊                                                                                                                                                             | 193/2000 [03:07<27:53,  1.08it/s]"
     ]
    },
    {
     "name": "stdout",
     "output_type": "stream",
     "text": [
      "Epoch 192 | Train loss: 0.0535 | Valid loss: 0.7468\n",
      "Train ACC: 0.9591 | Valid ACC: 0.8103 | Train f1: 0.9686 | Valid f1: 0.8067 | Train pre: 0.9874 | Valid pre: 0.8219\n"
     ]
    },
    {
     "name": "stderr",
     "output_type": "stream",
     "text": [
      "\r\n",
      " 10%|████████████████▉                                                                                                                                                             | 194/2000 [03:08<27:46,  1.08it/s]"
     ]
    },
    {
     "name": "stdout",
     "output_type": "stream",
     "text": [
      "Epoch 193 | Train loss: 0.0481 | Valid loss: 0.7210\n",
      "Train ACC: 0.9840 | Valid ACC: 0.8134 | Train f1: 0.9855 | Valid f1: 0.8089 | Train pre: 0.9873 | Valid pre: 0.8227\n"
     ]
    },
    {
     "name": "stderr",
     "output_type": "stream",
     "text": [
      "\r\n",
      " 10%|████████████████▉                                                                                                                                                             | 195/2000 [03:09<29:06,  1.03it/s]"
     ]
    },
    {
     "name": "stdout",
     "output_type": "stream",
     "text": [
      "Epoch 194 | Train loss: 0.0480 | Valid loss: 0.7128\n",
      "Train ACC: 0.9832 | Valid ACC: 0.8198 | Train f1: 0.9845 | Valid f1: 0.8149 | Train pre: 0.9858 | Valid pre: 0.8245\n"
     ]
    },
    {
     "name": "stderr",
     "output_type": "stream",
     "text": [
      "\r\n",
      " 10%|█████████████████                                                                                                                                                             | 196/2000 [03:10<28:59,  1.04it/s]"
     ]
    },
    {
     "name": "stdout",
     "output_type": "stream",
     "text": [
      "Epoch 195 | Train loss: 0.0614 | Valid loss: 0.7110\n",
      "Train ACC: 0.9527 | Valid ACC: 0.8195 | Train f1: 0.9615 | Valid f1: 0.8133 | Train pre: 0.9805 | Valid pre: 0.8218\n"
     ]
    },
    {
     "name": "stderr",
     "output_type": "stream",
     "text": [
      "\r\n",
      " 10%|█████████████████▏                                                                                                                                                            | 197/2000 [03:11<29:23,  1.02it/s]"
     ]
    },
    {
     "name": "stdout",
     "output_type": "stream",
     "text": [
      "Epoch 196 | Train loss: 0.0488 | Valid loss: 0.7130\n",
      "Train ACC: 0.9845 | Valid ACC: 0.8146 | Train f1: 0.9849 | Valid f1: 0.8075 | Train pre: 0.9855 | Valid pre: 0.8187\n"
     ]
    },
    {
     "name": "stderr",
     "output_type": "stream",
     "text": [
      "\r\n",
      " 10%|█████████████████▏                                                                                                                                                            | 198/2000 [03:12<30:46,  1.02s/it]"
     ]
    },
    {
     "name": "stdout",
     "output_type": "stream",
     "text": [
      "Epoch 197 | Train loss: 0.0532 | Valid loss: 0.7155\n",
      "Train ACC: 0.9861 | Valid ACC: 0.8146 | Train f1: 0.9750 | Valid f1: 0.8086 | Train pre: 0.9676 | Valid pre: 0.8208\n"
     ]
    },
    {
     "name": "stderr",
     "output_type": "stream",
     "text": [
      "\r\n",
      " 10%|█████████████████▎                                                                                                                                                            | 199/2000 [03:13<31:22,  1.05s/it]"
     ]
    },
    {
     "name": "stdout",
     "output_type": "stream",
     "text": [
      "Epoch 198 | Train loss: 0.0482 | Valid loss: 0.7274\n",
      "Train ACC: 0.9845 | Valid ACC: 0.8059 | Train f1: 0.9846 | Valid f1: 0.7977 | Train pre: 0.9850 | Valid pre: 0.8094\n"
     ]
    },
    {
     "name": "stderr",
     "output_type": "stream",
     "text": [
      "\r\n",
      " 10%|█████████████████▍                                                                                                                                                            | 200/2000 [03:14<29:29,  1.02it/s]"
     ]
    },
    {
     "name": "stdout",
     "output_type": "stream",
     "text": [
      "Epoch 199 | Train loss: 0.0484 | Valid loss: 0.7379\n",
      "Train ACC: 0.9841 | Valid ACC: 0.8002 | Train f1: 0.9853 | Valid f1: 0.7944 | Train pre: 0.9868 | Valid pre: 0.8089\n"
     ]
    },
    {
     "name": "stderr",
     "output_type": "stream",
     "text": [
      "\r\n",
      " 10%|█████████████████▍                                                                                                                                                            | 201/2000 [03:15<28:55,  1.04it/s]"
     ]
    },
    {
     "name": "stdout",
     "output_type": "stream",
     "text": [
      "Epoch 200 | Train loss: 0.0552 | Valid loss: 0.7126\n",
      "Train ACC: 0.9764 | Valid ACC: 0.8062 | Train f1: 0.9808 | Valid f1: 0.7993 | Train pre: 0.9868 | Valid pre: 0.8123\n"
     ]
    },
    {
     "name": "stderr",
     "output_type": "stream",
     "text": [
      "\r\n",
      " 10%|█████████████████▌                                                                                                                                                            | 202/2000 [03:16<27:36,  1.09it/s]"
     ]
    },
    {
     "name": "stdout",
     "output_type": "stream",
     "text": [
      "Epoch 201 | Train loss: 0.0477 | Valid loss: 0.6901\n",
      "Train ACC: 0.9825 | Valid ACC: 0.8055 | Train f1: 0.9846 | Valid f1: 0.7942 | Train pre: 0.9868 | Valid pre: 0.7970\n"
     ]
    },
    {
     "name": "stderr",
     "output_type": "stream",
     "text": [
      "\r\n",
      " 10%|█████████████████▋                                                                                                                                                            | 203/2000 [03:17<29:08,  1.03it/s]"
     ]
    },
    {
     "name": "stdout",
     "output_type": "stream",
     "text": [
      "Epoch 202 | Train loss: 0.0569 | Valid loss: 0.6883\n",
      "Train ACC: 0.9848 | Valid ACC: 0.8156 | Train f1: 0.9843 | Valid f1: 0.7956 | Train pre: 0.9840 | Valid pre: 0.7842\n"
     ]
    },
    {
     "name": "stderr",
     "output_type": "stream",
     "text": [
      "\r\n",
      " 10%|█████████████████▋                                                                                                                                                            | 204/2000 [03:18<29:17,  1.02it/s]"
     ]
    },
    {
     "name": "stdout",
     "output_type": "stream",
     "text": [
      "Epoch 203 | Train loss: 0.0623 | Valid loss: 0.6822\n",
      "Train ACC: 0.9881 | Valid ACC: 0.8054 | Train f1: 0.9833 | Valid f1: 0.7852 | Train pre: 0.9796 | Valid pre: 0.7775\n"
     ]
    },
    {
     "name": "stderr",
     "output_type": "stream",
     "text": [
      "\r\n",
      " 10%|█████████████████▊                                                                                                                                                            | 205/2000 [03:19<29:52,  1.00it/s]"
     ]
    },
    {
     "name": "stdout",
     "output_type": "stream",
     "text": [
      "Epoch 204 | Train loss: 0.0473 | Valid loss: 0.6853\n",
      "Train ACC: 0.9907 | Valid ACC: 0.7902 | Train f1: 0.9759 | Valid f1: 0.7746 | Train pre: 0.9654 | Valid pre: 0.7811\n"
     ]
    },
    {
     "name": "stderr",
     "output_type": "stream",
     "text": [
      "\r\n",
      " 10%|█████████████████▉                                                                                                                                                            | 206/2000 [03:20<29:13,  1.02it/s]"
     ]
    },
    {
     "name": "stdout",
     "output_type": "stream",
     "text": [
      "Epoch 205 | Train loss: 0.0452 | Valid loss: 0.6920\n",
      "Train ACC: 0.9865 | Valid ACC: 0.8005 | Train f1: 0.9858 | Valid f1: 0.7933 | Train pre: 0.9856 | Valid pre: 0.8067\n"
     ]
    },
    {
     "name": "stderr",
     "output_type": "stream",
     "text": [
      "\r\n",
      " 10%|██████████████████                                                                                                                                                            | 207/2000 [03:21<29:59,  1.00s/it]"
     ]
    },
    {
     "name": "stdout",
     "output_type": "stream",
     "text": [
      "Epoch 206 | Train loss: 0.0435 | Valid loss: 0.7011\n",
      "Train ACC: 0.9872 | Valid ACC: 0.8067 | Train f1: 0.9897 | Valid f1: 0.8030 | Train pre: 0.9924 | Valid pre: 0.8181\n"
     ]
    },
    {
     "name": "stderr",
     "output_type": "stream",
     "text": [
      "\r\n",
      " 10%|██████████████████                                                                                                                                                            | 208/2000 [03:22<29:39,  1.01it/s]"
     ]
    },
    {
     "name": "stdout",
     "output_type": "stream",
     "text": [
      "Epoch 207 | Train loss: 0.0464 | Valid loss: 0.6992\n",
      "Train ACC: 0.9792 | Valid ACC: 0.8070 | Train f1: 0.9837 | Valid f1: 0.8033 | Train pre: 0.9900 | Valid pre: 0.8182\n"
     ]
    },
    {
     "name": "stderr",
     "output_type": "stream",
     "text": [
      "\r\n",
      " 10%|██████████████████▏                                                                                                                                                           | 209/2000 [03:23<29:43,  1.00it/s]"
     ]
    },
    {
     "name": "stdout",
     "output_type": "stream",
     "text": [
      "Epoch 208 | Train loss: 0.0486 | Valid loss: 0.6866\n",
      "Train ACC: 0.9766 | Valid ACC: 0.8036 | Train f1: 0.9823 | Valid f1: 0.8015 | Train pre: 0.9900 | Valid pre: 0.8179\n"
     ]
    },
    {
     "name": "stderr",
     "output_type": "stream",
     "text": [
      "\r\n",
      " 10%|██████████████████▎                                                                                                                                                           | 210/2000 [03:24<29:17,  1.02it/s]"
     ]
    },
    {
     "name": "stdout",
     "output_type": "stream",
     "text": [
      "Epoch 209 | Train loss: 0.0427 | Valid loss: 0.6829\n",
      "Train ACC: 0.9579 | Valid ACC: 0.8108 | Train f1: 0.9706 | Valid f1: 0.8067 | Train pre: 0.9934 | Valid pre: 0.8206\n"
     ]
    },
    {
     "name": "stderr",
     "output_type": "stream",
     "text": [
      "\r\n",
      " 11%|██████████████████▎                                                                                                                                                           | 211/2000 [03:25<29:31,  1.01it/s]"
     ]
    },
    {
     "name": "stdout",
     "output_type": "stream",
     "text": [
      "Epoch 210 | Train loss: 0.0482 | Valid loss: 0.6745\n",
      "Train ACC: 0.9865 | Valid ACC: 0.8165 | Train f1: 0.9864 | Valid f1: 0.8128 | Train pre: 0.9865 | Valid pre: 0.8236\n"
     ]
    },
    {
     "name": "stderr",
     "output_type": "stream",
     "text": [
      "\r\n",
      " 11%|██████████████████▍                                                                                                                                                           | 212/2000 [03:26<28:31,  1.04it/s]"
     ]
    },
    {
     "name": "stdout",
     "output_type": "stream",
     "text": [
      "Epoch 211 | Train loss: 0.0414 | Valid loss: 0.6857\n",
      "Train ACC: 0.9894 | Valid ACC: 0.8136 | Train f1: 0.9890 | Valid f1: 0.8039 | Train pre: 0.9888 | Valid pre: 0.8005\n"
     ]
    },
    {
     "name": "stderr",
     "output_type": "stream",
     "text": [
      "\r\n",
      " 11%|██████████████████▌                                                                                                                                                           | 213/2000 [03:27<29:18,  1.02it/s]"
     ]
    },
    {
     "name": "stdout",
     "output_type": "stream",
     "text": [
      "Epoch 212 | Train loss: 0.0442 | Valid loss: 0.7125\n",
      "Train ACC: 0.9888 | Valid ACC: 0.8134 | Train f1: 0.9852 | Valid f1: 0.8038 | Train pre: 0.9824 | Valid pre: 0.8007\n"
     ]
    },
    {
     "name": "stderr",
     "output_type": "stream",
     "text": [
      "\r\n",
      " 11%|██████████████████▌                                                                                                                                                           | 214/2000 [03:28<29:16,  1.02it/s]"
     ]
    },
    {
     "name": "stdout",
     "output_type": "stream",
     "text": [
      "Epoch 213 | Train loss: 0.0372 | Valid loss: 0.7579\n",
      "Train ACC: 0.9941 | Valid ACC: 0.8073 | Train f1: 0.9925 | Valid f1: 0.7995 | Train pre: 0.9911 | Valid pre: 0.8008\n"
     ]
    },
    {
     "name": "stderr",
     "output_type": "stream",
     "text": [
      "\r\n",
      " 11%|██████████████████▋                                                                                                                                                           | 215/2000 [03:29<29:31,  1.01it/s]"
     ]
    },
    {
     "name": "stdout",
     "output_type": "stream",
     "text": [
      "Epoch 214 | Train loss: 0.0440 | Valid loss: 0.7700\n",
      "Train ACC: 0.9892 | Valid ACC: 0.8008 | Train f1: 0.9877 | Valid f1: 0.7920 | Train pre: 0.9865 | Valid pre: 0.8043\n"
     ]
    },
    {
     "name": "stderr",
     "output_type": "stream",
     "text": [
      "\r\n",
      " 11%|██████████████████▊                                                                                                                                                           | 216/2000 [03:30<28:50,  1.03it/s]"
     ]
    },
    {
     "name": "stdout",
     "output_type": "stream",
     "text": [
      "Epoch 215 | Train loss: 0.0446 | Valid loss: 0.7790\n",
      "Train ACC: 0.9872 | Valid ACC: 0.8008 | Train f1: 0.9854 | Valid f1: 0.7928 | Train pre: 0.9836 | Valid pre: 0.8055\n"
     ]
    },
    {
     "name": "stderr",
     "output_type": "stream",
     "text": [
      "\r\n",
      " 11%|██████████████████▉                                                                                                                                                           | 217/2000 [03:31<29:37,  1.00it/s]"
     ]
    },
    {
     "name": "stdout",
     "output_type": "stream",
     "text": [
      "Epoch 216 | Train loss: 0.0492 | Valid loss: 0.7889\n",
      "Train ACC: 0.9880 | Valid ACC: 0.7946 | Train f1: 0.9886 | Valid f1: 0.7839 | Train pre: 0.9892 | Valid pre: 0.7967\n"
     ]
    },
    {
     "name": "stderr",
     "output_type": "stream",
     "text": [
      "\r\n",
      " 11%|██████████████████▉                                                                                                                                                           | 218/2000 [03:32<29:01,  1.02it/s]"
     ]
    },
    {
     "name": "stdout",
     "output_type": "stream",
     "text": [
      "Epoch 217 | Train loss: 0.0439 | Valid loss: 0.7950\n",
      "Train ACC: 0.9552 | Valid ACC: 0.7965 | Train f1: 0.9672 | Valid f1: 0.7843 | Train pre: 0.9890 | Valid pre: 0.7957\n"
     ]
    },
    {
     "name": "stderr",
     "output_type": "stream",
     "text": [
      "\r\n",
      " 11%|███████████████████                                                                                                                                                           | 219/2000 [03:33<29:37,  1.00it/s]"
     ]
    },
    {
     "name": "stdout",
     "output_type": "stream",
     "text": [
      "Epoch 218 | Train loss: 0.0392 | Valid loss: 0.8038\n",
      "Train ACC: 0.9811 | Valid ACC: 0.7894 | Train f1: 0.9846 | Valid f1: 0.7749 | Train pre: 0.9886 | Valid pre: 0.7882\n"
     ]
    },
    {
     "name": "stderr",
     "output_type": "stream",
     "text": [
      "\r\n",
      " 11%|███████████████████▏                                                                                                                                                          | 220/2000 [03:34<29:22,  1.01it/s]"
     ]
    },
    {
     "name": "stdout",
     "output_type": "stream",
     "text": [
      "Epoch 219 | Train loss: 0.0460 | Valid loss: 0.8016\n",
      "Train ACC: 0.9848 | Valid ACC: 0.7869 | Train f1: 0.9886 | Valid f1: 0.7713 | Train pre: 0.9930 | Valid pre: 0.7777\n"
     ]
    },
    {
     "name": "stderr",
     "output_type": "stream",
     "text": [
      "\r\n",
      " 11%|███████████████████▏                                                                                                                                                          | 221/2000 [03:35<28:35,  1.04it/s]"
     ]
    },
    {
     "name": "stdout",
     "output_type": "stream",
     "text": [
      "Epoch 220 | Train loss: 0.0387 | Valid loss: 0.7954\n",
      "Train ACC: 0.9875 | Valid ACC: 0.7896 | Train f1: 0.9879 | Valid f1: 0.7735 | Train pre: 0.9885 | Valid pre: 0.7794\n"
     ]
    },
    {
     "name": "stderr",
     "output_type": "stream",
     "text": [
      "\r\n",
      " 11%|███████████████████▎                                                                                                                                                          | 222/2000 [03:36<28:48,  1.03it/s]"
     ]
    },
    {
     "name": "stdout",
     "output_type": "stream",
     "text": [
      "Epoch 221 | Train loss: 0.0452 | Valid loss: 0.7665\n",
      "Train ACC: 0.9617 | Valid ACC: 0.7988 | Train f1: 0.9694 | Valid f1: 0.7852 | Train pre: 0.9865 | Valid pre: 0.7908\n"
     ]
    },
    {
     "name": "stderr",
     "output_type": "stream",
     "text": [
      "\r\n",
      " 11%|███████████████████▍                                                                                                                                                          | 223/2000 [03:37<28:20,  1.05it/s]"
     ]
    },
    {
     "name": "stdout",
     "output_type": "stream",
     "text": [
      "Epoch 222 | Train loss: 0.0421 | Valid loss: 0.7342\n",
      "Train ACC: 0.9889 | Valid ACC: 0.7941 | Train f1: 0.9888 | Valid f1: 0.7833 | Train pre: 0.9888 | Valid pre: 0.7962\n"
     ]
    },
    {
     "name": "stderr",
     "output_type": "stream",
     "text": [
      "\r\n",
      " 11%|███████████████████▍                                                                                                                                                          | 224/2000 [03:38<28:36,  1.03it/s]"
     ]
    },
    {
     "name": "stdout",
     "output_type": "stream",
     "text": [
      "Epoch 223 | Train loss: 0.0403 | Valid loss: 0.7122\n",
      "Train ACC: 0.9928 | Valid ACC: 0.8001 | Train f1: 0.9906 | Valid f1: 0.7911 | Train pre: 0.9885 | Valid pre: 0.8019\n"
     ]
    },
    {
     "name": "stderr",
     "output_type": "stream",
     "text": [
      "\r\n",
      " 11%|███████████████████▌                                                                                                                                                          | 225/2000 [03:39<29:00,  1.02it/s]"
     ]
    },
    {
     "name": "stdout",
     "output_type": "stream",
     "text": [
      "Epoch 224 | Train loss: 0.0456 | Valid loss: 0.7087\n",
      "Train ACC: 0.9863 | Valid ACC: 0.7985 | Train f1: 0.9854 | Valid f1: 0.7887 | Train pre: 0.9849 | Valid pre: 0.7988\n"
     ]
    },
    {
     "name": "stderr",
     "output_type": "stream",
     "text": [
      "\r\n",
      " 11%|███████████████████▋                                                                                                                                                          | 226/2000 [03:40<28:01,  1.05it/s]"
     ]
    },
    {
     "name": "stdout",
     "output_type": "stream",
     "text": [
      "Epoch 225 | Train loss: 0.0420 | Valid loss: 0.7191\n",
      "Train ACC: 0.9889 | Valid ACC: 0.7985 | Train f1: 0.9890 | Valid f1: 0.7906 | Train pre: 0.9892 | Valid pre: 0.8036\n"
     ]
    },
    {
     "name": "stderr",
     "output_type": "stream",
     "text": [
      "\r\n",
      " 11%|███████████████████▋                                                                                                                                                          | 227/2000 [03:40<27:34,  1.07it/s]"
     ]
    },
    {
     "name": "stdout",
     "output_type": "stream",
     "text": [
      "Epoch 226 | Train loss: 0.0486 | Valid loss: 0.7322\n",
      "Train ACC: 0.9911 | Valid ACC: 0.8043 | Train f1: 0.9902 | Valid f1: 0.7968 | Train pre: 0.9893 | Valid pre: 0.8093\n"
     ]
    },
    {
     "name": "stderr",
     "output_type": "stream",
     "text": [
      "\r\n",
      " 11%|███████████████████▊                                                                                                                                                          | 228/2000 [03:42<28:16,  1.04it/s]"
     ]
    },
    {
     "name": "stdout",
     "output_type": "stream",
     "text": [
      "Epoch 227 | Train loss: 0.0381 | Valid loss: 0.7463\n",
      "Train ACC: 0.9596 | Valid ACC: 0.8046 | Train f1: 0.9708 | Valid f1: 0.7976 | Train pre: 0.9914 | Valid pre: 0.8107\n"
     ]
    },
    {
     "name": "stderr",
     "output_type": "stream",
     "text": [
      "\r\n",
      " 11%|███████████████████▉                                                                                                                                                          | 229/2000 [03:42<28:09,  1.05it/s]"
     ]
    },
    {
     "name": "stdout",
     "output_type": "stream",
     "text": [
      "Epoch 228 | Train loss: 0.0420 | Valid loss: 0.7342\n",
      "Train ACC: 0.9865 | Valid ACC: 0.8101 | Train f1: 0.9879 | Valid f1: 0.8049 | Train pre: 0.9895 | Valid pre: 0.8187\n"
     ]
    },
    {
     "name": "stderr",
     "output_type": "stream",
     "text": [
      "\r\n",
      " 12%|████████████████████                                                                                                                                                          | 230/2000 [03:44<29:02,  1.02it/s]"
     ]
    },
    {
     "name": "stdout",
     "output_type": "stream",
     "text": [
      "Epoch 229 | Train loss: 0.0459 | Valid loss: 0.7051\n",
      "Train ACC: 0.9267 | Valid ACC: 0.8154 | Train f1: 0.9217 | Valid f1: 0.8096 | Train pre: 0.9189 | Valid pre: 0.8223\n"
     ]
    },
    {
     "name": "stderr",
     "output_type": "stream",
     "text": [
      "\r\n",
      " 12%|████████████████████                                                                                                                                                          | 231/2000 [03:44<28:30,  1.03it/s]"
     ]
    },
    {
     "name": "stdout",
     "output_type": "stream",
     "text": [
      "Epoch 230 | Train loss: 0.0363 | Valid loss: 0.6911\n",
      "Train ACC: 0.9877 | Valid ACC: 0.8288 | Train f1: 0.9905 | Valid f1: 0.8242 | Train pre: 0.9937 | Valid pre: 0.8327\n"
     ]
    },
    {
     "name": "stderr",
     "output_type": "stream",
     "text": [
      "\r\n",
      " 12%|████████████████████▏                                                                                                                                                         | 232/2000 [03:45<28:03,  1.05it/s]"
     ]
    },
    {
     "name": "stdout",
     "output_type": "stream",
     "text": [
      "Epoch 231 | Train loss: 0.0428 | Valid loss: 0.6842\n",
      "Train ACC: 0.9606 | Valid ACC: 0.8290 | Train f1: 0.9686 | Valid f1: 0.8242 | Train pre: 0.9860 | Valid pre: 0.8325\n"
     ]
    },
    {
     "name": "stderr",
     "output_type": "stream",
     "text": [
      "\r\n",
      " 12%|████████████████████▎                                                                                                                                                         | 233/2000 [03:46<28:40,  1.03it/s]"
     ]
    },
    {
     "name": "stdout",
     "output_type": "stream",
     "text": [
      "Epoch 232 | Train loss: 0.0372 | Valid loss: 0.6943\n",
      "Train ACC: 0.9915 | Valid ACC: 0.8292 | Train f1: 0.9888 | Valid f1: 0.8246 | Train pre: 0.9863 | Valid pre: 0.8332\n"
     ]
    },
    {
     "name": "stderr",
     "output_type": "stream",
     "text": [
      "\r\n",
      " 12%|████████████████████▎                                                                                                                                                         | 234/2000 [03:47<28:05,  1.05it/s]"
     ]
    },
    {
     "name": "stdout",
     "output_type": "stream",
     "text": [
      "Epoch 233 | Train loss: 0.0416 | Valid loss: 0.7212\n",
      "Train ACC: 0.9941 | Valid ACC: 0.8288 | Train f1: 0.9917 | Valid f1: 0.8251 | Train pre: 0.9895 | Valid pre: 0.8349\n"
     ]
    },
    {
     "name": "stderr",
     "output_type": "stream",
     "text": [
      "\r\n",
      " 12%|████████████████████▍                                                                                                                                                         | 235/2000 [03:48<28:46,  1.02it/s]"
     ]
    },
    {
     "name": "stdout",
     "output_type": "stream",
     "text": [
      "Epoch 234 | Train loss: 0.0373 | Valid loss: 0.7442\n",
      "Train ACC: 0.9920 | Valid ACC: 0.8269 | Train f1: 0.9902 | Valid f1: 0.8240 | Train pre: 0.9888 | Valid pre: 0.8345\n"
     ]
    },
    {
     "name": "stderr",
     "output_type": "stream",
     "text": [
      "\r\n",
      " 12%|████████████████████▌                                                                                                                                                         | 236/2000 [03:49<28:10,  1.04it/s]"
     ]
    },
    {
     "name": "stdout",
     "output_type": "stream",
     "text": [
      "Epoch 235 | Train loss: 0.0395 | Valid loss: 0.7475\n",
      "Train ACC: 0.9874 | Valid ACC: 0.8240 | Train f1: 0.9877 | Valid f1: 0.8186 | Train pre: 0.9881 | Valid pre: 0.8304\n"
     ]
    },
    {
     "name": "stderr",
     "output_type": "stream",
     "text": [
      "\r\n",
      " 12%|████████████████████▌                                                                                                                                                         | 237/2000 [03:50<29:12,  1.01it/s]"
     ]
    },
    {
     "name": "stdout",
     "output_type": "stream",
     "text": [
      "Epoch 236 | Train loss: 0.0338 | Valid loss: 0.7362\n",
      "Train ACC: 0.9899 | Valid ACC: 0.8222 | Train f1: 0.9921 | Valid f1: 0.8161 | Train pre: 0.9944 | Valid pre: 0.8272\n"
     ]
    },
    {
     "name": "stderr",
     "output_type": "stream",
     "text": [
      "\r\n",
      " 12%|████████████████████▋                                                                                                                                                         | 238/2000 [03:51<28:22,  1.04it/s]"
     ]
    },
    {
     "name": "stdout",
     "output_type": "stream",
     "text": [
      "Epoch 237 | Train loss: 0.0371 | Valid loss: 0.7238\n",
      "Train ACC: 0.9879 | Valid ACC: 0.8099 | Train f1: 0.9876 | Valid f1: 0.8064 | Train pre: 0.9876 | Valid pre: 0.8333\n"
     ]
    },
    {
     "name": "stderr",
     "output_type": "stream",
     "text": [
      "\r\n",
      " 12%|████████████████████▊                                                                                                                                                         | 239/2000 [03:52<28:49,  1.02it/s]"
     ]
    },
    {
     "name": "stdout",
     "output_type": "stream",
     "text": [
      "Epoch 238 | Train loss: 0.0436 | Valid loss: 0.7186\n",
      "Train ACC: 0.9875 | Valid ACC: 0.8094 | Train f1: 0.9885 | Valid f1: 0.8054 | Train pre: 0.9896 | Valid pre: 0.8318\n"
     ]
    },
    {
     "name": "stderr",
     "output_type": "stream",
     "text": [
      "\r\n",
      " 12%|████████████████████▉                                                                                                                                                         | 240/2000 [03:53<27:33,  1.06it/s]"
     ]
    },
    {
     "name": "stdout",
     "output_type": "stream",
     "text": [
      "Epoch 239 | Train loss: 0.0398 | Valid loss: 0.7405\n",
      "Train ACC: 0.9888 | Valid ACC: 0.8031 | Train f1: 0.9906 | Valid f1: 0.7960 | Train pre: 0.9926 | Valid pre: 0.8205\n"
     ]
    },
    {
     "name": "stderr",
     "output_type": "stream",
     "text": [
      "\r\n",
      " 12%|████████████████████▉                                                                                                                                                         | 241/2000 [03:54<27:58,  1.05it/s]"
     ]
    },
    {
     "name": "stdout",
     "output_type": "stream",
     "text": [
      "Epoch 240 | Train loss: 0.0379 | Valid loss: 0.7660\n",
      "Train ACC: 0.9900 | Valid ACC: 0.7998 | Train f1: 0.9917 | Valid f1: 0.7905 | Train pre: 0.9935 | Valid pre: 0.8156\n"
     ]
    },
    {
     "name": "stderr",
     "output_type": "stream",
     "text": [
      "\r\n",
      " 12%|█████████████████████                                                                                                                                                         | 242/2000 [03:55<28:18,  1.04it/s]"
     ]
    },
    {
     "name": "stdout",
     "output_type": "stream",
     "text": [
      "Epoch 241 | Train loss: 0.0390 | Valid loss: 0.7789\n",
      "Train ACC: 0.9699 | Valid ACC: 0.7987 | Train f1: 0.9785 | Valid f1: 0.7890 | Train pre: 0.9909 | Valid pre: 0.8139\n"
     ]
    },
    {
     "name": "stderr",
     "output_type": "stream",
     "text": [
      "\r\n",
      " 12%|█████████████████████▏                                                                                                                                                        | 243/2000 [03:56<28:43,  1.02it/s]"
     ]
    },
    {
     "name": "stdout",
     "output_type": "stream",
     "text": [
      "Epoch 242 | Train loss: 0.0314 | Valid loss: 0.7826\n",
      "Train ACC: 0.9902 | Valid ACC: 0.7975 | Train f1: 0.9904 | Valid f1: 0.7875 | Train pre: 0.9906 | Valid pre: 0.8123\n"
     ]
    },
    {
     "name": "stderr",
     "output_type": "stream",
     "text": [
      "\r\n",
      " 12%|█████████████████████▏                                                                                                                                                        | 244/2000 [03:57<28:24,  1.03it/s]"
     ]
    },
    {
     "name": "stdout",
     "output_type": "stream",
     "text": [
      "Epoch 243 | Train loss: 0.0344 | Valid loss: 0.7553\n",
      "Train ACC: 0.9772 | Valid ACC: 0.7916 | Train f1: 0.9665 | Valid f1: 0.7776 | Train pre: 0.9671 | Valid pre: 0.7900\n"
     ]
    },
    {
     "name": "stderr",
     "output_type": "stream",
     "text": [
      "\r\n",
      " 12%|█████████████████████▎                                                                                                                                                        | 245/2000 [03:58<28:30,  1.03it/s]"
     ]
    },
    {
     "name": "stdout",
     "output_type": "stream",
     "text": [
      "Epoch 244 | Train loss: 0.0434 | Valid loss: 0.7317\n",
      "Train ACC: 0.9904 | Valid ACC: 0.8032 | Train f1: 0.9887 | Valid f1: 0.7924 | Train pre: 0.9872 | Valid pre: 0.8002\n"
     ]
    },
    {
     "name": "stderr",
     "output_type": "stream",
     "text": [
      "\r\n",
      " 12%|█████████████████████▍                                                                                                                                                        | 246/2000 [03:59<28:20,  1.03it/s]"
     ]
    },
    {
     "name": "stdout",
     "output_type": "stream",
     "text": [
      "Epoch 245 | Train loss: 0.0392 | Valid loss: 0.7102\n",
      "Train ACC: 0.9905 | Valid ACC: 0.8045 | Train f1: 0.9921 | Valid f1: 0.7948 | Train pre: 0.9939 | Valid pre: 0.8036\n"
     ]
    },
    {
     "name": "stderr",
     "output_type": "stream",
     "text": [
      "\r\n",
      " 12%|█████████████████████▍                                                                                                                                                        | 247/2000 [04:00<28:02,  1.04it/s]"
     ]
    },
    {
     "name": "stdout",
     "output_type": "stream",
     "text": [
      "Epoch 246 | Train loss: 0.0443 | Valid loss: 0.6986\n",
      "Train ACC: 0.9915 | Valid ACC: 0.7972 | Train f1: 0.9890 | Valid f1: 0.7894 | Train pre: 0.9867 | Valid pre: 0.8158\n"
     ]
    },
    {
     "name": "stderr",
     "output_type": "stream",
     "text": [
      "\r\n",
      " 12%|█████████████████████▌                                                                                                                                                        | 248/2000 [04:01<29:02,  1.01it/s]"
     ]
    },
    {
     "name": "stdout",
     "output_type": "stream",
     "text": [
      "Epoch 247 | Train loss: 0.0316 | Valid loss: 0.7058\n",
      "Train ACC: 0.9921 | Valid ACC: 0.7974 | Train f1: 0.9925 | Valid f1: 0.7899 | Train pre: 0.9930 | Valid pre: 0.8167\n"
     ]
    },
    {
     "name": "stderr",
     "output_type": "stream",
     "text": [
      "\r\n",
      " 12%|█████████████████████▋                                                                                                                                                        | 249/2000 [04:02<29:04,  1.00it/s]"
     ]
    },
    {
     "name": "stdout",
     "output_type": "stream",
     "text": [
      "Epoch 248 | Train loss: 0.0292 | Valid loss: 0.7130\n",
      "Train ACC: 0.9911 | Valid ACC: 0.7982 | Train f1: 0.9917 | Valid f1: 0.7909 | Train pre: 0.9925 | Valid pre: 0.8182\n"
     ]
    },
    {
     "name": "stderr",
     "output_type": "stream",
     "text": [
      "\r\n",
      " 12%|█████████████████████▊                                                                                                                                                        | 250/2000 [04:03<30:10,  1.03s/it]"
     ]
    },
    {
     "name": "stdout",
     "output_type": "stream",
     "text": [
      "Epoch 249 | Train loss: 0.0374 | Valid loss: 0.7116\n",
      "Train ACC: 0.9341 | Valid ACC: 0.8040 | Train f1: 0.9348 | Valid f1: 0.7947 | Train pre: 0.9355 | Valid pre: 0.8040\n"
     ]
    },
    {
     "name": "stderr",
     "output_type": "stream",
     "text": [
      "\r\n",
      " 13%|█████████████████████▊                                                                                                                                                        | 251/2000 [04:04<28:39,  1.02it/s]"
     ]
    },
    {
     "name": "stdout",
     "output_type": "stream",
     "text": [
      "Epoch 250 | Train loss: 0.0320 | Valid loss: 0.7213\n",
      "Train ACC: 0.9916 | Valid ACC: 0.8047 | Train f1: 0.9928 | Valid f1: 0.7953 | Train pre: 0.9941 | Valid pre: 0.8045\n"
     ]
    },
    {
     "name": "stderr",
     "output_type": "stream",
     "text": [
      "\r\n",
      " 13%|█████████████████████▉                                                                                                                                                        | 252/2000 [04:05<28:35,  1.02it/s]"
     ]
    },
    {
     "name": "stdout",
     "output_type": "stream",
     "text": [
      "Epoch 251 | Train loss: 0.0342 | Valid loss: 0.7314\n",
      "Train ACC: 0.9909 | Valid ACC: 0.8034 | Train f1: 0.9906 | Valid f1: 0.7901 | Train pre: 0.9905 | Valid pre: 0.7911\n"
     ]
    },
    {
     "name": "stderr",
     "output_type": "stream",
     "text": [
      "\r\n",
      " 13%|██████████████████████                                                                                                                                                        | 253/2000 [04:06<27:48,  1.05it/s]"
     ]
    },
    {
     "name": "stdout",
     "output_type": "stream",
     "text": [
      "Epoch 252 | Train loss: 0.0302 | Valid loss: 0.7495\n",
      "Train ACC: 0.9958 | Valid ACC: 0.8043 | Train f1: 0.9950 | Valid f1: 0.7942 | Train pre: 0.9943 | Valid pre: 0.7978\n"
     ]
    },
    {
     "name": "stderr",
     "output_type": "stream",
     "text": [
      "\r\n",
      " 13%|██████████████████████                                                                                                                                                        | 254/2000 [04:07<28:20,  1.03it/s]"
     ]
    },
    {
     "name": "stdout",
     "output_type": "stream",
     "text": [
      "Epoch 253 | Train loss: 0.0273 | Valid loss: 0.7744\n",
      "Train ACC: 0.9943 | Valid ACC: 0.8047 | Train f1: 0.9942 | Valid f1: 0.7954 | Train pre: 0.9942 | Valid pre: 0.7996\n"
     ]
    },
    {
     "name": "stderr",
     "output_type": "stream",
     "text": [
      "\r\n",
      " 13%|██████████████████████▏                                                                                                                                                       | 255/2000 [04:08<27:49,  1.05it/s]"
     ]
    },
    {
     "name": "stdout",
     "output_type": "stream",
     "text": [
      "Epoch 254 | Train loss: 0.0308 | Valid loss: 0.8016\n",
      "Train ACC: 0.9919 | Valid ACC: 0.8055 | Train f1: 0.9919 | Valid f1: 0.7994 | Train pre: 0.9920 | Valid pre: 0.8129\n"
     ]
    },
    {
     "name": "stderr",
     "output_type": "stream",
     "text": [
      "\r\n",
      " 13%|██████████████████████▎                                                                                                                                                       | 256/2000 [04:09<28:44,  1.01it/s]"
     ]
    },
    {
     "name": "stdout",
     "output_type": "stream",
     "text": [
      "Epoch 255 | Train loss: 0.0362 | Valid loss: 0.7865\n",
      "Train ACC: 0.9919 | Valid ACC: 0.8066 | Train f1: 0.9931 | Valid f1: 0.8003 | Train pre: 0.9944 | Valid pre: 0.8135\n"
     ]
    },
    {
     "name": "stderr",
     "output_type": "stream",
     "text": [
      "\r\n",
      " 13%|██████████████████████▎                                                                                                                                                       | 257/2000 [04:10<28:07,  1.03it/s]"
     ]
    },
    {
     "name": "stdout",
     "output_type": "stream",
     "text": [
      "Epoch 256 | Train loss: 0.0330 | Valid loss: 0.7704\n",
      "Train ACC: 0.9899 | Valid ACC: 0.8108 | Train f1: 0.9911 | Valid f1: 0.8056 | Train pre: 0.9923 | Valid pre: 0.8125\n"
     ]
    },
    {
     "name": "stderr",
     "output_type": "stream",
     "text": [
      "\r\n",
      " 13%|██████████████████████▍                                                                                                                                                       | 258/2000 [04:11<28:17,  1.03it/s]"
     ]
    },
    {
     "name": "stdout",
     "output_type": "stream",
     "text": [
      "Epoch 257 | Train loss: 0.0366 | Valid loss: 0.7605\n",
      "Train ACC: 0.9879 | Valid ACC: 0.8109 | Train f1: 0.9907 | Valid f1: 0.8062 | Train pre: 0.9938 | Valid pre: 0.8138\n"
     ]
    },
    {
     "name": "stderr",
     "output_type": "stream",
     "text": [
      "\r\n",
      " 13%|██████████████████████▌                                                                                                                                                       | 259/2000 [04:12<27:34,  1.05it/s]"
     ]
    },
    {
     "name": "stdout",
     "output_type": "stream",
     "text": [
      "Epoch 258 | Train loss: 0.0348 | Valid loss: 0.7524\n",
      "Train ACC: 0.9909 | Valid ACC: 0.8102 | Train f1: 0.9911 | Valid f1: 0.8060 | Train pre: 0.9914 | Valid pre: 0.8143\n"
     ]
    },
    {
     "name": "stderr",
     "output_type": "stream",
     "text": [
      "\r\n",
      " 13%|██████████████████████▌                                                                                                                                                       | 260/2000 [04:13<27:18,  1.06it/s]"
     ]
    },
    {
     "name": "stdout",
     "output_type": "stream",
     "text": [
      "Epoch 259 | Train loss: 0.0394 | Valid loss: 0.7331\n",
      "Train ACC: 0.9935 | Valid ACC: 0.8091 | Train f1: 0.9910 | Valid f1: 0.8050 | Train pre: 0.9886 | Valid pre: 0.8133\n"
     ]
    },
    {
     "name": "stderr",
     "output_type": "stream",
     "text": [
      "\r\n",
      " 13%|██████████████████████▋                                                                                                                                                       | 261/2000 [04:13<26:53,  1.08it/s]"
     ]
    },
    {
     "name": "stdout",
     "output_type": "stream",
     "text": [
      "Epoch 260 | Train loss: 0.0316 | Valid loss: 0.7141\n",
      "Train ACC: 0.9893 | Valid ACC: 0.8076 | Train f1: 0.9896 | Valid f1: 0.8024 | Train pre: 0.9901 | Valid pre: 0.8092\n"
     ]
    },
    {
     "name": "stderr",
     "output_type": "stream",
     "text": [
      "\r\n",
      " 13%|██████████████████████▊                                                                                                                                                       | 262/2000 [04:14<27:11,  1.07it/s]"
     ]
    },
    {
     "name": "stdout",
     "output_type": "stream",
     "text": [
      "Epoch 261 | Train loss: 0.0330 | Valid loss: 0.7115\n",
      "Train ACC: 0.9909 | Valid ACC: 0.8124 | Train f1: 0.9792 | Valid f1: 0.8054 | Train pre: 0.9713 | Valid pre: 0.8107\n"
     ]
    },
    {
     "name": "stderr",
     "output_type": "stream",
     "text": [
      "\r\n",
      " 13%|██████████████████████▉                                                                                                                                                       | 263/2000 [04:15<27:19,  1.06it/s]"
     ]
    },
    {
     "name": "stdout",
     "output_type": "stream",
     "text": [
      "Epoch 262 | Train loss: 0.0442 | Valid loss: 0.7051\n",
      "Train ACC: 0.9870 | Valid ACC: 0.8061 | Train f1: 0.9855 | Valid f1: 0.8004 | Train pre: 0.9843 | Valid pre: 0.8135\n"
     ]
    },
    {
     "name": "stderr",
     "output_type": "stream",
     "text": [
      "\r\n",
      " 13%|██████████████████████▉                                                                                                                                                       | 264/2000 [04:16<27:05,  1.07it/s]"
     ]
    },
    {
     "name": "stdout",
     "output_type": "stream",
     "text": [
      "Epoch 263 | Train loss: 0.0357 | Valid loss: 0.6933\n",
      "Train ACC: 0.9927 | Valid ACC: 0.8074 | Train f1: 0.9922 | Valid f1: 0.8022 | Train pre: 0.9918 | Valid pre: 0.8157\n"
     ]
    },
    {
     "name": "stderr",
     "output_type": "stream",
     "text": [
      "\r\n",
      " 13%|███████████████████████                                                                                                                                                       | 265/2000 [04:17<27:21,  1.06it/s]"
     ]
    },
    {
     "name": "stdout",
     "output_type": "stream",
     "text": [
      "Epoch 264 | Train loss: 0.0301 | Valid loss: 0.7003\n",
      "Train ACC: 0.9927 | Valid ACC: 0.8071 | Train f1: 0.9936 | Valid f1: 0.8052 | Train pre: 0.9946 | Valid pre: 0.8244\n"
     ]
    },
    {
     "name": "stderr",
     "output_type": "stream",
     "text": [
      "\r\n",
      " 13%|███████████████████████▏                                                                                                                                                      | 266/2000 [04:18<28:25,  1.02it/s]"
     ]
    },
    {
     "name": "stdout",
     "output_type": "stream",
     "text": [
      "Epoch 265 | Train loss: 0.0372 | Valid loss: 0.7077\n",
      "Train ACC: 0.9891 | Valid ACC: 0.8013 | Train f1: 0.9892 | Valid f1: 0.7965 | Train pre: 0.9893 | Valid pre: 0.8145\n"
     ]
    },
    {
     "name": "stderr",
     "output_type": "stream",
     "text": [
      "\r\n",
      " 13%|███████████████████████▏                                                                                                                                                      | 267/2000 [04:19<26:48,  1.08it/s]"
     ]
    },
    {
     "name": "stdout",
     "output_type": "stream",
     "text": [
      "Epoch 266 | Train loss: 0.0278 | Valid loss: 0.7248\n",
      "Train ACC: 0.9950 | Valid ACC: 0.7990 | Train f1: 0.9953 | Valid f1: 0.7954 | Train pre: 0.9956 | Valid pre: 0.8146\n"
     ]
    },
    {
     "name": "stderr",
     "output_type": "stream",
     "text": [
      "\r\n",
      " 13%|███████████████████████▎                                                                                                                                                      | 268/2000 [04:20<27:14,  1.06it/s]"
     ]
    },
    {
     "name": "stdout",
     "output_type": "stream",
     "text": [
      "Epoch 267 | Train loss: 0.0311 | Valid loss: 0.7367\n",
      "Train ACC: 0.9916 | Valid ACC: 0.7983 | Train f1: 0.9923 | Valid f1: 0.7957 | Train pre: 0.9930 | Valid pre: 0.8161\n"
     ]
    },
    {
     "name": "stderr",
     "output_type": "stream",
     "text": [
      "\r\n",
      " 13%|███████████████████████▍                                                                                                                                                      | 269/2000 [04:21<27:57,  1.03it/s]"
     ]
    },
    {
     "name": "stdout",
     "output_type": "stream",
     "text": [
      "Epoch 268 | Train loss: 0.0356 | Valid loss: 0.7400\n",
      "Train ACC: 0.9908 | Valid ACC: 0.7970 | Train f1: 0.9852 | Valid f1: 0.7918 | Train pre: 0.9809 | Valid pre: 0.8072\n"
     ]
    },
    {
     "name": "stderr",
     "output_type": "stream",
     "text": [
      "\r\n",
      " 14%|███████████████████████▍                                                                                                                                                      | 270/2000 [04:22<27:56,  1.03it/s]"
     ]
    },
    {
     "name": "stdout",
     "output_type": "stream",
     "text": [
      "Epoch 269 | Train loss: 0.0298 | Valid loss: 0.7345\n",
      "Train ACC: 0.9633 | Valid ACC: 0.7975 | Train f1: 0.9652 | Valid f1: 0.7923 | Train pre: 0.9789 | Valid pre: 0.8077\n"
     ]
    },
    {
     "name": "stderr",
     "output_type": "stream",
     "text": [
      "\r\n",
      " 14%|███████████████████████▌                                                                                                                                                      | 271/2000 [04:23<27:54,  1.03it/s]"
     ]
    },
    {
     "name": "stdout",
     "output_type": "stream",
     "text": [
      "Epoch 270 | Train loss: 0.0295 | Valid loss: 0.7156\n",
      "Train ACC: 0.9916 | Valid ACC: 0.8042 | Train f1: 0.9927 | Valid f1: 0.7969 | Train pre: 0.9938 | Valid pre: 0.8031\n"
     ]
    },
    {
     "name": "stderr",
     "output_type": "stream",
     "text": [
      "\r\n",
      " 14%|███████████████████████▋                                                                                                                                                      | 272/2000 [04:24<27:17,  1.06it/s]"
     ]
    },
    {
     "name": "stdout",
     "output_type": "stream",
     "text": [
      "Epoch 271 | Train loss: 0.0331 | Valid loss: 0.7200\n",
      "Train ACC: 0.9928 | Valid ACC: 0.7988 | Train f1: 0.9940 | Valid f1: 0.7880 | Train pre: 0.9952 | Valid pre: 0.7936\n"
     ]
    },
    {
     "name": "stderr",
     "output_type": "stream",
     "text": [
      "\r\n",
      " 14%|███████████████████████▊                                                                                                                                                      | 273/2000 [04:25<28:46,  1.00it/s]"
     ]
    },
    {
     "name": "stdout",
     "output_type": "stream",
     "text": [
      "Epoch 272 | Train loss: 0.0289 | Valid loss: 0.7162\n",
      "Train ACC: 0.9915 | Valid ACC: 0.8047 | Train f1: 0.9933 | Valid f1: 0.7936 | Train pre: 0.9952 | Valid pre: 0.7965\n"
     ]
    },
    {
     "name": "stderr",
     "output_type": "stream",
     "text": [
      "\r\n",
      " 14%|███████████████████████▊                                                                                                                                                      | 274/2000 [04:26<28:40,  1.00it/s]"
     ]
    },
    {
     "name": "stdout",
     "output_type": "stream",
     "text": [
      "Epoch 273 | Train loss: 0.0330 | Valid loss: 0.7116\n",
      "Train ACC: 0.9909 | Valid ACC: 0.7982 | Train f1: 0.9895 | Valid f1: 0.7869 | Train pre: 0.9883 | Valid pre: 0.7911\n"
     ]
    },
    {
     "name": "stderr",
     "output_type": "stream",
     "text": [
      "\r\n",
      " 14%|███████████████████████▉                                                                                                                                                      | 275/2000 [04:27<28:22,  1.01it/s]"
     ]
    },
    {
     "name": "stdout",
     "output_type": "stream",
     "text": [
      "Epoch 274 | Train loss: 0.0334 | Valid loss: 0.7205\n",
      "Train ACC: 0.9646 | Valid ACC: 0.7994 | Train f1: 0.9720 | Valid f1: 0.7909 | Train pre: 0.9886 | Valid pre: 0.8023\n"
     ]
    },
    {
     "name": "stderr",
     "output_type": "stream",
     "text": [
      "\r\n",
      " 14%|████████████████████████                                                                                                                                                      | 276/2000 [04:28<27:56,  1.03it/s]"
     ]
    },
    {
     "name": "stdout",
     "output_type": "stream",
     "text": [
      "Epoch 275 | Train loss: 0.0321 | Valid loss: 0.7290\n",
      "Train ACC: 0.9918 | Valid ACC: 0.7939 | Train f1: 0.9912 | Valid f1: 0.7847 | Train pre: 0.9907 | Valid pre: 0.7992\n"
     ]
    },
    {
     "name": "stderr",
     "output_type": "stream",
     "text": [
      "\r\n",
      " 14%|████████████████████████                                                                                                                                                      | 277/2000 [04:29<28:09,  1.02it/s]"
     ]
    },
    {
     "name": "stdout",
     "output_type": "stream",
     "text": [
      "Epoch 276 | Train loss: 0.0375 | Valid loss: 0.7303\n",
      "Train ACC: 0.9928 | Valid ACC: 0.7932 | Train f1: 0.9940 | Valid f1: 0.7835 | Train pre: 0.9953 | Valid pre: 0.7975\n"
     ]
    },
    {
     "name": "stderr",
     "output_type": "stream",
     "text": [
      "\r\n",
      " 14%|████████████████████████▏                                                                                                                                                     | 278/2000 [04:30<29:03,  1.01s/it]"
     ]
    },
    {
     "name": "stdout",
     "output_type": "stream",
     "text": [
      "Epoch 277 | Train loss: 0.0292 | Valid loss: 0.7360\n",
      "Train ACC: 0.9724 | Valid ACC: 0.7912 | Train f1: 0.9782 | Valid f1: 0.7818 | Train pre: 0.9863 | Valid pre: 0.7965\n"
     ]
    },
    {
     "name": "stderr",
     "output_type": "stream",
     "text": [
      "\r\n",
      " 14%|████████████████████████▎                                                                                                                                                     | 279/2000 [04:31<29:03,  1.01s/it]"
     ]
    },
    {
     "name": "stdout",
     "output_type": "stream",
     "text": [
      "Epoch 278 | Train loss: 0.0322 | Valid loss: 0.7374\n",
      "Train ACC: 0.9901 | Valid ACC: 0.7880 | Train f1: 0.9904 | Valid f1: 0.7778 | Train pre: 0.9908 | Valid pre: 0.7934\n"
     ]
    },
    {
     "name": "stderr",
     "output_type": "stream",
     "text": [
      "\r\n",
      " 14%|████████████████████████▎                                                                                                                                                     | 280/2000 [04:32<28:43,  1.00s/it]"
     ]
    },
    {
     "name": "stdout",
     "output_type": "stream",
     "text": [
      "Epoch 279 | Train loss: 0.0321 | Valid loss: 0.7345\n",
      "Train ACC: 0.9620 | Valid ACC: 0.7942 | Train f1: 0.9521 | Valid f1: 0.7871 | Train pre: 0.9619 | Valid pre: 0.8022\n"
     ]
    },
    {
     "name": "stderr",
     "output_type": "stream",
     "text": [
      "\r\n",
      " 14%|████████████████████████▍                                                                                                                                                     | 281/2000 [04:33<27:06,  1.06it/s]"
     ]
    },
    {
     "name": "stdout",
     "output_type": "stream",
     "text": [
      "Epoch 280 | Train loss: 0.0253 | Valid loss: 0.7293\n",
      "Train ACC: 0.9933 | Valid ACC: 0.7935 | Train f1: 0.9939 | Valid f1: 0.7866 | Train pre: 0.9947 | Valid pre: 0.8016\n"
     ]
    },
    {
     "name": "stderr",
     "output_type": "stream",
     "text": [
      "\r\n",
      " 14%|████████████████████████▌                                                                                                                                                     | 282/2000 [04:34<27:26,  1.04it/s]"
     ]
    },
    {
     "name": "stdout",
     "output_type": "stream",
     "text": [
      "Epoch 281 | Train loss: 0.0292 | Valid loss: 0.7196\n",
      "Train ACC: 0.9915 | Valid ACC: 0.8001 | Train f1: 0.9931 | Valid f1: 0.7923 | Train pre: 0.9949 | Valid pre: 0.8058\n"
     ]
    },
    {
     "name": "stderr",
     "output_type": "stream",
     "text": [
      "\r\n",
      " 14%|████████████████████████▌                                                                                                                                                     | 283/2000 [04:35<28:10,  1.02it/s]"
     ]
    },
    {
     "name": "stdout",
     "output_type": "stream",
     "text": [
      "Epoch 282 | Train loss: 0.0323 | Valid loss: 0.7129\n",
      "Train ACC: 0.9935 | Valid ACC: 0.7998 | Train f1: 0.9936 | Valid f1: 0.7923 | Train pre: 0.9938 | Valid pre: 0.8059\n"
     ]
    },
    {
     "name": "stderr",
     "output_type": "stream",
     "text": [
      "\r\n",
      " 14%|████████████████████████▋                                                                                                                                                     | 284/2000 [04:36<27:25,  1.04it/s]"
     ]
    },
    {
     "name": "stdout",
     "output_type": "stream",
     "text": [
      "Epoch 283 | Train loss: 0.0306 | Valid loss: 0.7158\n",
      "Train ACC: 0.9751 | Valid ACC: 0.8047 | Train f1: 0.9818 | Valid f1: 0.7994 | Train pre: 0.9923 | Valid pre: 0.8077\n"
     ]
    },
    {
     "name": "stderr",
     "output_type": "stream",
     "text": [
      "\r\n",
      " 14%|████████████████████████▊                                                                                                                                                     | 285/2000 [04:37<27:35,  1.04it/s]"
     ]
    },
    {
     "name": "stdout",
     "output_type": "stream",
     "text": [
      "Epoch 284 | Train loss: 0.0305 | Valid loss: 0.7156\n",
      "Train ACC: 0.9629 | Valid ACC: 0.8061 | Train f1: 0.9630 | Valid f1: 0.8003 | Train pre: 0.9762 | Valid pre: 0.8082\n"
     ]
    },
    {
     "name": "stderr",
     "output_type": "stream",
     "text": [
      "\r\n",
      " 14%|████████████████████████▉                                                                                                                                                     | 286/2000 [04:38<27:50,  1.03it/s]"
     ]
    },
    {
     "name": "stdout",
     "output_type": "stream",
     "text": [
      "Epoch 285 | Train loss: 0.0247 | Valid loss: 0.7186\n",
      "Train ACC: 0.9650 | Valid ACC: 0.8080 | Train f1: 0.9745 | Valid f1: 0.8015 | Train pre: 0.9933 | Valid pre: 0.8087\n"
     ]
    },
    {
     "name": "stderr",
     "output_type": "stream",
     "text": [
      "\r\n",
      " 14%|████████████████████████▉                                                                                                                                                     | 287/2000 [04:39<28:12,  1.01it/s]"
     ]
    },
    {
     "name": "stdout",
     "output_type": "stream",
     "text": [
      "Epoch 286 | Train loss: 0.0233 | Valid loss: 0.7293\n",
      "Train ACC: 0.9660 | Valid ACC: 0.8111 | Train f1: 0.9747 | Valid f1: 0.8051 | Train pre: 0.9928 | Valid pre: 0.8113\n"
     ]
    },
    {
     "name": "stderr",
     "output_type": "stream",
     "text": [
      "\r\n",
      " 14%|█████████████████████████                                                                                                                                                     | 288/2000 [04:40<28:27,  1.00it/s]"
     ]
    },
    {
     "name": "stdout",
     "output_type": "stream",
     "text": [
      "Epoch 287 | Train loss: 0.0342 | Valid loss: 0.7402\n",
      "Train ACC: 0.9955 | Valid ACC: 0.8154 | Train f1: 0.9933 | Valid f1: 0.8096 | Train pre: 0.9913 | Valid pre: 0.8222\n"
     ]
    },
    {
     "name": "stderr",
     "output_type": "stream",
     "text": [
      "\r\n",
      " 14%|█████████████████████████▏                                                                                                                                                    | 289/2000 [04:41<27:50,  1.02it/s]"
     ]
    },
    {
     "name": "stdout",
     "output_type": "stream",
     "text": [
      "Epoch 288 | Train loss: 0.0306 | Valid loss: 0.7472\n",
      "Train ACC: 0.9917 | Valid ACC: 0.8141 | Train f1: 0.9924 | Valid f1: 0.8090 | Train pre: 0.9932 | Valid pre: 0.8223\n"
     ]
    },
    {
     "name": "stderr",
     "output_type": "stream",
     "text": [
      "\r\n",
      " 14%|█████████████████████████▏                                                                                                                                                    | 290/2000 [04:42<27:28,  1.04it/s]"
     ]
    },
    {
     "name": "stdout",
     "output_type": "stream",
     "text": [
      "Epoch 289 | Train loss: 0.0262 | Valid loss: 0.7542\n",
      "Train ACC: 0.9913 | Valid ACC: 0.8070 | Train f1: 0.9916 | Valid f1: 0.8036 | Train pre: 0.9921 | Valid pre: 0.8185\n"
     ]
    },
    {
     "name": "stderr",
     "output_type": "stream",
     "text": [
      "\r\n",
      " 15%|█████████████████████████▎                                                                                                                                                    | 291/2000 [04:43<28:25,  1.00it/s]"
     ]
    },
    {
     "name": "stdout",
     "output_type": "stream",
     "text": [
      "Epoch 290 | Train loss: 0.0305 | Valid loss: 0.7546\n",
      "Train ACC: 0.9912 | Valid ACC: 0.8073 | Train f1: 0.9911 | Valid f1: 0.8040 | Train pre: 0.9911 | Valid pre: 0.8190\n"
     ]
    },
    {
     "name": "stderr",
     "output_type": "stream",
     "text": [
      "\r\n",
      " 15%|█████████████████████████▍                                                                                                                                                    | 292/2000 [04:44<27:54,  1.02it/s]"
     ]
    },
    {
     "name": "stdout",
     "output_type": "stream",
     "text": [
      "Epoch 291 | Train loss: 0.0297 | Valid loss: 0.7541\n",
      "Train ACC: 0.9957 | Valid ACC: 0.8016 | Train f1: 0.9950 | Valid f1: 0.7976 | Train pre: 0.9942 | Valid pre: 0.8153\n"
     ]
    },
    {
     "name": "stderr",
     "output_type": "stream",
     "text": [
      "\r\n",
      " 15%|█████████████████████████▍                                                                                                                                                    | 293/2000 [04:45<28:49,  1.01s/it]"
     ]
    },
    {
     "name": "stdout",
     "output_type": "stream",
     "text": [
      "Epoch 292 | Train loss: 0.0337 | Valid loss: 0.7456\n",
      "Train ACC: 0.9383 | Valid ACC: 0.8033 | Train f1: 0.9384 | Valid f1: 0.7987 | Train pre: 0.9386 | Valid pre: 0.8159\n"
     ]
    },
    {
     "name": "stderr",
     "output_type": "stream",
     "text": [
      "\r\n",
      " 15%|█████████████████████████▌                                                                                                                                                    | 294/2000 [04:46<28:21,  1.00it/s]"
     ]
    },
    {
     "name": "stdout",
     "output_type": "stream",
     "text": [
      "Epoch 293 | Train loss: 0.0250 | Valid loss: 0.7507\n",
      "Train ACC: 0.9914 | Valid ACC: 0.8041 | Train f1: 0.9916 | Valid f1: 0.7997 | Train pre: 0.9922 | Valid pre: 0.8174\n"
     ]
    },
    {
     "name": "stderr",
     "output_type": "stream",
     "text": [
      "\r\n",
      " 15%|█████████████████████████▋                                                                                                                                                    | 295/2000 [04:47<29:17,  1.03s/it]"
     ]
    },
    {
     "name": "stdout",
     "output_type": "stream",
     "text": [
      "Epoch 294 | Train loss: 0.0252 | Valid loss: 0.7679\n",
      "Train ACC: 0.9758 | Valid ACC: 0.8034 | Train f1: 0.9836 | Valid f1: 0.7976 | Train pre: 0.9950 | Valid pre: 0.8076\n"
     ]
    },
    {
     "name": "stderr",
     "output_type": "stream",
     "text": [
      "\r\n",
      " 15%|█████████████████████████▊                                                                                                                                                    | 296/2000 [04:48<28:10,  1.01it/s]"
     ]
    },
    {
     "name": "stdout",
     "output_type": "stream",
     "text": [
      "Epoch 295 | Train loss: 0.0264 | Valid loss: 0.7737\n",
      "Train ACC: 0.9635 | Valid ACC: 0.8036 | Train f1: 0.9738 | Valid f1: 0.7980 | Train pre: 0.9934 | Valid pre: 0.8083\n"
     ]
    },
    {
     "name": "stderr",
     "output_type": "stream",
     "text": [
      "\r\n",
      " 15%|█████████████████████████▊                                                                                                                                                    | 297/2000 [04:49<27:42,  1.02it/s]"
     ]
    },
    {
     "name": "stdout",
     "output_type": "stream",
     "text": [
      "Epoch 296 | Train loss: 0.0316 | Valid loss: 0.7829\n",
      "Train ACC: 0.9940 | Valid ACC: 0.8028 | Train f1: 0.9937 | Valid f1: 0.7976 | Train pre: 0.9935 | Valid pre: 0.8144\n"
     ]
    },
    {
     "name": "stderr",
     "output_type": "stream",
     "text": [
      "\r\n",
      " 15%|█████████████████████████▉                                                                                                                                                    | 298/2000 [04:50<27:29,  1.03it/s]"
     ]
    },
    {
     "name": "stdout",
     "output_type": "stream",
     "text": [
      "Epoch 297 | Train loss: 0.0274 | Valid loss: 0.7961\n",
      "Train ACC: 0.9924 | Valid ACC: 0.7990 | Train f1: 0.9923 | Valid f1: 0.7943 | Train pre: 0.9923 | Valid pre: 0.8124\n"
     ]
    },
    {
     "name": "stderr",
     "output_type": "stream",
     "text": [
      "\r\n",
      " 15%|██████████████████████████                                                                                                                                                    | 299/2000 [04:51<27:07,  1.05it/s]"
     ]
    },
    {
     "name": "stdout",
     "output_type": "stream",
     "text": [
      "Epoch 298 | Train loss: 0.0404 | Valid loss: 0.7946\n",
      "Train ACC: 0.9931 | Valid ACC: 0.7981 | Train f1: 0.9919 | Valid f1: 0.7941 | Train pre: 0.9908 | Valid pre: 0.8132\n"
     ]
    },
    {
     "name": "stderr",
     "output_type": "stream",
     "text": [
      "\r\n",
      " 15%|██████████████████████████                                                                                                                                                    | 300/2000 [04:52<27:47,  1.02it/s]"
     ]
    },
    {
     "name": "stdout",
     "output_type": "stream",
     "text": [
      "Epoch 299 | Train loss: 0.0370 | Valid loss: 0.7537\n",
      "Train ACC: 0.9928 | Valid ACC: 0.7986 | Train f1: 0.9921 | Valid f1: 0.7939 | Train pre: 0.9915 | Valid pre: 0.8120\n"
     ]
    },
    {
     "name": "stderr",
     "output_type": "stream",
     "text": [
      "\r\n",
      " 15%|██████████████████████████▏                                                                                                                                                   | 301/2000 [04:53<27:52,  1.02it/s]"
     ]
    },
    {
     "name": "stdout",
     "output_type": "stream",
     "text": [
      "Epoch 300 | Train loss: 0.0229 | Valid loss: 0.7489\n",
      "Train ACC: 0.9898 | Valid ACC: 0.7993 | Train f1: 0.9903 | Valid f1: 0.7940 | Train pre: 0.9908 | Valid pre: 0.8115\n"
     ]
    },
    {
     "name": "stderr",
     "output_type": "stream",
     "text": [
      "\r\n",
      " 15%|██████████████████████████▎                                                                                                                                                   | 302/2000 [04:54<27:32,  1.03it/s]"
     ]
    },
    {
     "name": "stdout",
     "output_type": "stream",
     "text": [
      "Epoch 301 | Train loss: 0.0287 | Valid loss: 0.7493\n",
      "Train ACC: 0.9959 | Valid ACC: 0.7998 | Train f1: 0.9955 | Valid f1: 0.7944 | Train pre: 0.9951 | Valid pre: 0.8118\n"
     ]
    },
    {
     "name": "stderr",
     "output_type": "stream",
     "text": [
      "\r\n",
      " 15%|██████████████████████████▎                                                                                                                                                   | 303/2000 [04:55<27:46,  1.02it/s]"
     ]
    },
    {
     "name": "stdout",
     "output_type": "stream",
     "text": [
      "Epoch 302 | Train loss: 0.0286 | Valid loss: 0.7562\n",
      "Train ACC: 0.9928 | Valid ACC: 0.8005 | Train f1: 0.9923 | Valid f1: 0.7959 | Train pre: 0.9919 | Valid pre: 0.8140\n"
     ]
    },
    {
     "name": "stderr",
     "output_type": "stream",
     "text": [
      "\r\n",
      " 15%|██████████████████████████▍                                                                                                                                                   | 304/2000 [04:56<27:31,  1.03it/s]"
     ]
    },
    {
     "name": "stdout",
     "output_type": "stream",
     "text": [
      "Epoch 303 | Train loss: 0.0294 | Valid loss: 0.7628\n",
      "Train ACC: 0.9894 | Valid ACC: 0.8002 | Train f1: 0.9913 | Valid f1: 0.7956 | Train pre: 0.9934 | Valid pre: 0.8142\n"
     ]
    },
    {
     "name": "stderr",
     "output_type": "stream",
     "text": [
      "\r\n",
      " 15%|██████████████████████████▌                                                                                                                                                   | 305/2000 [04:56<27:04,  1.04it/s]"
     ]
    },
    {
     "name": "stdout",
     "output_type": "stream",
     "text": [
      "Epoch 304 | Train loss: 0.0296 | Valid loss: 0.7678\n",
      "Train ACC: 0.9917 | Valid ACC: 0.7987 | Train f1: 0.9926 | Valid f1: 0.7957 | Train pre: 0.9936 | Valid pre: 0.8164\n"
     ]
    },
    {
     "name": "stderr",
     "output_type": "stream",
     "text": [
      "\r\n",
      " 15%|██████████████████████████▌                                                                                                                                                   | 306/2000 [04:57<27:47,  1.02it/s]"
     ]
    },
    {
     "name": "stdout",
     "output_type": "stream",
     "text": [
      "Epoch 305 | Train loss: 0.0345 | Valid loss: 0.7640\n",
      "Train ACC: 0.9887 | Valid ACC: 0.7987 | Train f1: 0.9913 | Valid f1: 0.7961 | Train pre: 0.9940 | Valid pre: 0.8172\n"
     ]
    },
    {
     "name": "stderr",
     "output_type": "stream",
     "text": [
      "\r\n",
      " 15%|██████████████████████████▋                                                                                                                                                   | 307/2000 [04:58<27:56,  1.01it/s]"
     ]
    },
    {
     "name": "stdout",
     "output_type": "stream",
     "text": [
      "Epoch 306 | Train loss: 0.0311 | Valid loss: 0.7449\n",
      "Train ACC: 0.9911 | Valid ACC: 0.8098 | Train f1: 0.9916 | Valid f1: 0.8067 | Train pre: 0.9922 | Valid pre: 0.8226\n"
     ]
    },
    {
     "name": "stderr",
     "output_type": "stream",
     "text": [
      "\r\n",
      " 15%|██████████████████████████▊                                                                                                                                                   | 308/2000 [05:00<28:55,  1.03s/it]"
     ]
    },
    {
     "name": "stdout",
     "output_type": "stream",
     "text": [
      "Epoch 307 | Train loss: 0.0303 | Valid loss: 0.7271\n",
      "Train ACC: 0.9912 | Valid ACC: 0.8108 | Train f1: 0.9931 | Valid f1: 0.8056 | Train pre: 0.9951 | Valid pre: 0.8187\n"
     ]
    },
    {
     "name": "stderr",
     "output_type": "stream",
     "text": [
      "\r\n",
      " 15%|██████████████████████████▉                                                                                                                                                   | 309/2000 [05:01<28:57,  1.03s/it]"
     ]
    },
    {
     "name": "stdout",
     "output_type": "stream",
     "text": [
      "Epoch 308 | Train loss: 0.0328 | Valid loss: 0.7106\n",
      "Train ACC: 0.9920 | Valid ACC: 0.8200 | Train f1: 0.9930 | Valid f1: 0.8123 | Train pre: 0.9941 | Valid pre: 0.8150\n"
     ]
    },
    {
     "name": "stderr",
     "output_type": "stream",
     "text": [
      "\r\n",
      " 16%|██████████████████████████▉                                                                                                                                                   | 310/2000 [05:02<28:05,  1.00it/s]"
     ]
    },
    {
     "name": "stdout",
     "output_type": "stream",
     "text": [
      "Epoch 309 | Train loss: 0.0351 | Valid loss: 0.7003\n",
      "Train ACC: 0.9942 | Valid ACC: 0.8224 | Train f1: 0.9913 | Valid f1: 0.8137 | Train pre: 0.9886 | Valid pre: 0.8154\n"
     ]
    },
    {
     "name": "stderr",
     "output_type": "stream",
     "text": [
      "\r\n",
      " 16%|███████████████████████████                                                                                                                                                   | 311/2000 [05:02<27:16,  1.03it/s]"
     ]
    },
    {
     "name": "stdout",
     "output_type": "stream",
     "text": [
      "Epoch 310 | Train loss: 0.0334 | Valid loss: 0.7028\n",
      "Train ACC: 0.9943 | Valid ACC: 0.8245 | Train f1: 0.9918 | Valid f1: 0.8182 | Train pre: 0.9894 | Valid pre: 0.8271\n"
     ]
    },
    {
     "name": "stderr",
     "output_type": "stream",
     "text": [
      "\r\n",
      " 16%|███████████████████████████▏                                                                                                                                                  | 312/2000 [05:03<27:30,  1.02it/s]"
     ]
    },
    {
     "name": "stdout",
     "output_type": "stream",
     "text": [
      "Epoch 311 | Train loss: 0.0323 | Valid loss: 0.7056\n",
      "Train ACC: 0.9379 | Valid ACC: 0.8167 | Train f1: 0.9376 | Valid f1: 0.8117 | Train pre: 0.9374 | Valid pre: 0.8379\n"
     ]
    },
    {
     "name": "stderr",
     "output_type": "stream",
     "text": [
      "\r\n",
      " 16%|███████████████████████████▏                                                                                                                                                  | 313/2000 [05:05<28:18,  1.01s/it]"
     ]
    },
    {
     "name": "stdout",
     "output_type": "stream",
     "text": [
      "Epoch 312 | Train loss: 0.0243 | Valid loss: 0.7064\n",
      "Train ACC: 0.9929 | Valid ACC: 0.8216 | Train f1: 0.9930 | Valid f1: 0.8201 | Train pre: 0.9930 | Valid pre: 0.8486\n"
     ]
    },
    {
     "name": "stderr",
     "output_type": "stream",
     "text": [
      "\r\n",
      " 16%|███████████████████████████▎                                                                                                                                                  | 314/2000 [05:05<27:24,  1.03it/s]"
     ]
    },
    {
     "name": "stdout",
     "output_type": "stream",
     "text": [
      "Epoch 313 | Train loss: 0.0276 | Valid loss: 0.7069\n",
      "Train ACC: 0.9905 | Valid ACC: 0.8220 | Train f1: 0.9911 | Valid f1: 0.8208 | Train pre: 0.9918 | Valid pre: 0.8495\n"
     ]
    },
    {
     "name": "stderr",
     "output_type": "stream",
     "text": [
      "\r\n",
      " 16%|███████████████████████████▍                                                                                                                                                  | 315/2000 [05:06<27:16,  1.03it/s]"
     ]
    },
    {
     "name": "stdout",
     "output_type": "stream",
     "text": [
      "Epoch 314 | Train loss: 0.0283 | Valid loss: 0.7130\n",
      "Train ACC: 0.9951 | Valid ACC: 0.8219 | Train f1: 0.9951 | Valid f1: 0.8209 | Train pre: 0.9951 | Valid pre: 0.8498\n"
     ]
    },
    {
     "name": "stderr",
     "output_type": "stream",
     "text": [
      "\r\n",
      " 16%|███████████████████████████▍                                                                                                                                                  | 316/2000 [05:07<27:24,  1.02it/s]"
     ]
    },
    {
     "name": "stdout",
     "output_type": "stream",
     "text": [
      "Epoch 315 | Train loss: 0.0306 | Valid loss: 0.7223\n",
      "Train ACC: 0.9923 | Valid ACC: 0.8109 | Train f1: 0.9932 | Valid f1: 0.8072 | Train pre: 0.9942 | Valid pre: 0.8345\n"
     ]
    },
    {
     "name": "stderr",
     "output_type": "stream",
     "text": [
      "\r\n",
      " 16%|███████████████████████████▌                                                                                                                                                  | 317/2000 [05:08<27:20,  1.03it/s]"
     ]
    },
    {
     "name": "stdout",
     "output_type": "stream",
     "text": [
      "Epoch 316 | Train loss: 0.0216 | Valid loss: 0.7275\n",
      "Train ACC: 0.9938 | Valid ACC: 0.8126 | Train f1: 0.9947 | Valid f1: 0.8055 | Train pre: 0.9957 | Valid pre: 0.8287\n"
     ]
    },
    {
     "name": "stderr",
     "output_type": "stream",
     "text": [
      "\r\n",
      " 16%|███████████████████████████▋                                                                                                                                                  | 318/2000 [05:09<27:32,  1.02it/s]"
     ]
    },
    {
     "name": "stdout",
     "output_type": "stream",
     "text": [
      "Epoch 317 | Train loss: 0.0298 | Valid loss: 0.7269\n",
      "Train ACC: 0.9929 | Valid ACC: 0.7983 | Train f1: 0.9934 | Valid f1: 0.7871 | Train pre: 0.9939 | Valid pre: 0.7991\n"
     ]
    },
    {
     "name": "stderr",
     "output_type": "stream",
     "text": [
      "\r\n",
      " 16%|███████████████████████████▊                                                                                                                                                  | 319/2000 [05:10<27:16,  1.03it/s]"
     ]
    },
    {
     "name": "stdout",
     "output_type": "stream",
     "text": [
      "Epoch 318 | Train loss: 0.0338 | Valid loss: 0.7225\n",
      "Train ACC: 0.9903 | Valid ACC: 0.8069 | Train f1: 0.9907 | Valid f1: 0.7991 | Train pre: 0.9912 | Valid pre: 0.8108\n"
     ]
    },
    {
     "name": "stderr",
     "output_type": "stream",
     "text": [
      "\r\n",
      " 16%|███████████████████████████▊                                                                                                                                                  | 320/2000 [05:11<27:33,  1.02it/s]"
     ]
    },
    {
     "name": "stdout",
     "output_type": "stream",
     "text": [
      "Epoch 319 | Train loss: 0.0376 | Valid loss: 0.7249\n",
      "Train ACC: 0.9908 | Valid ACC: 0.8056 | Train f1: 0.9916 | Valid f1: 0.7984 | Train pre: 0.9925 | Valid pre: 0.8108\n"
     ]
    },
    {
     "name": "stderr",
     "output_type": "stream",
     "text": [
      "\r\n",
      " 16%|███████████████████████████▉                                                                                                                                                  | 321/2000 [05:12<26:59,  1.04it/s]"
     ]
    },
    {
     "name": "stdout",
     "output_type": "stream",
     "text": [
      "Epoch 320 | Train loss: 0.0186 | Valid loss: 0.7322\n",
      "Train ACC: 0.9937 | Valid ACC: 0.8040 | Train f1: 0.9948 | Valid f1: 0.7973 | Train pre: 0.9961 | Valid pre: 0.8080\n"
     ]
    },
    {
     "name": "stderr",
     "output_type": "stream",
     "text": [
      "\r\n",
      " 16%|████████████████████████████                                                                                                                                                  | 322/2000 [05:13<28:01,  1.00s/it]"
     ]
    },
    {
     "name": "stdout",
     "output_type": "stream",
     "text": [
      "Epoch 321 | Train loss: 0.0272 | Valid loss: 0.7447\n",
      "Train ACC: 0.9942 | Valid ACC: 0.8032 | Train f1: 0.9823 | Valid f1: 0.7984 | Train pre: 0.9742 | Valid pre: 0.8110\n"
     ]
    },
    {
     "name": "stderr",
     "output_type": "stream",
     "text": [
      "\r\n",
      " 16%|████████████████████████████                                                                                                                                                  | 323/2000 [05:14<27:46,  1.01it/s]"
     ]
    },
    {
     "name": "stdout",
     "output_type": "stream",
     "text": [
      "Epoch 322 | Train loss: 0.0351 | Valid loss: 0.7585\n",
      "Train ACC: 0.9824 | Valid ACC: 0.8052 | Train f1: 0.9846 | Valid f1: 0.7997 | Train pre: 0.9870 | Valid pre: 0.8115\n"
     ]
    },
    {
     "name": "stderr",
     "output_type": "stream",
     "text": [
      "\r\n",
      " 16%|████████████████████████████▏                                                                                                                                                 | 324/2000 [05:15<26:20,  1.06it/s]"
     ]
    },
    {
     "name": "stdout",
     "output_type": "stream",
     "text": [
      "Epoch 323 | Train loss: 0.0258 | Valid loss: 0.7728\n",
      "Train ACC: 0.9928 | Valid ACC: 0.8042 | Train f1: 0.9923 | Valid f1: 0.8000 | Train pre: 0.9918 | Valid pre: 0.8153\n"
     ]
    },
    {
     "name": "stderr",
     "output_type": "stream",
     "text": [
      "\r\n",
      " 16%|████████████████████████████▎                                                                                                                                                 | 325/2000 [05:16<26:00,  1.07it/s]"
     ]
    },
    {
     "name": "stdout",
     "output_type": "stream",
     "text": [
      "Epoch 324 | Train loss: 0.0259 | Valid loss: 0.7865\n",
      "Train ACC: 0.9948 | Valid ACC: 0.8058 | Train f1: 0.9933 | Valid f1: 0.8007 | Train pre: 0.9919 | Valid pre: 0.8153\n"
     ]
    },
    {
     "name": "stderr",
     "output_type": "stream",
     "text": [
      "\r\n",
      " 16%|████████████████████████████▎                                                                                                                                                 | 326/2000 [05:17<26:27,  1.05it/s]"
     ]
    },
    {
     "name": "stdout",
     "output_type": "stream",
     "text": [
      "Epoch 325 | Train loss: 0.0181 | Valid loss: 0.7963\n",
      "Train ACC: 0.9954 | Valid ACC: 0.8060 | Train f1: 0.9963 | Valid f1: 0.7971 | Train pre: 0.9971 | Valid pre: 0.8056\n"
     ]
    },
    {
     "name": "stderr",
     "output_type": "stream",
     "text": [
      "\r\n",
      " 16%|████████████████████████████▍                                                                                                                                                 | 327/2000 [05:18<26:08,  1.07it/s]"
     ]
    },
    {
     "name": "stdout",
     "output_type": "stream",
     "text": [
      "Epoch 326 | Train loss: 0.0257 | Valid loss: 0.8018\n",
      "Train ACC: 0.9937 | Valid ACC: 0.8060 | Train f1: 0.9943 | Valid f1: 0.7972 | Train pre: 0.9949 | Valid pre: 0.8058\n"
     ]
    },
    {
     "name": "stderr",
     "output_type": "stream",
     "text": [
      "\r\n",
      " 16%|████████████████████████████▌                                                                                                                                                 | 328/2000 [05:19<26:45,  1.04it/s]"
     ]
    },
    {
     "name": "stdout",
     "output_type": "stream",
     "text": [
      "Epoch 327 | Train loss: 0.0291 | Valid loss: 0.8028\n",
      "Train ACC: 0.9928 | Valid ACC: 0.8046 | Train f1: 0.9935 | Valid f1: 0.7986 | Train pre: 0.9944 | Valid pre: 0.8183\n"
     ]
    },
    {
     "name": "stderr",
     "output_type": "stream",
     "text": [
      "\r\n",
      " 16%|████████████████████████████▌                                                                                                                                                 | 329/2000 [05:20<26:11,  1.06it/s]"
     ]
    },
    {
     "name": "stdout",
     "output_type": "stream",
     "text": [
      "Epoch 328 | Train loss: 0.0259 | Valid loss: 0.8071\n",
      "Train ACC: 0.9935 | Valid ACC: 0.8056 | Train f1: 0.9934 | Valid f1: 0.8003 | Train pre: 0.9933 | Valid pre: 0.8206\n"
     ]
    },
    {
     "name": "stderr",
     "output_type": "stream",
     "text": [
      "\r\n",
      " 16%|████████████████████████████▋                                                                                                                                                 | 330/2000 [05:21<26:31,  1.05it/s]"
     ]
    },
    {
     "name": "stdout",
     "output_type": "stream",
     "text": [
      "Epoch 329 | Train loss: 0.0201 | Valid loss: 0.8207\n",
      "Train ACC: 0.9955 | Valid ACC: 0.8042 | Train f1: 0.9957 | Valid f1: 0.7991 | Train pre: 0.9958 | Valid pre: 0.8196\n"
     ]
    },
    {
     "name": "stderr",
     "output_type": "stream",
     "text": [
      "\r\n",
      " 17%|████████████████████████████▊                                                                                                                                                 | 331/2000 [05:22<27:26,  1.01it/s]"
     ]
    },
    {
     "name": "stdout",
     "output_type": "stream",
     "text": [
      "Epoch 330 | Train loss: 0.0368 | Valid loss: 0.8185\n",
      "Train ACC: 0.9905 | Valid ACC: 0.8043 | Train f1: 0.9920 | Valid f1: 0.7965 | Train pre: 0.9936 | Valid pre: 0.8059\n"
     ]
    },
    {
     "name": "stderr",
     "output_type": "stream",
     "text": [
      "\r\n",
      " 17%|████████████████████████████▉                                                                                                                                                 | 332/2000 [05:23<27:17,  1.02it/s]"
     ]
    },
    {
     "name": "stdout",
     "output_type": "stream",
     "text": [
      "Epoch 331 | Train loss: 0.0252 | Valid loss: 0.8088\n",
      "Train ACC: 0.9957 | Valid ACC: 0.8055 | Train f1: 0.9959 | Valid f1: 0.7975 | Train pre: 0.9961 | Valid pre: 0.8069\n"
     ]
    },
    {
     "name": "stderr",
     "output_type": "stream",
     "text": [
      "\r\n",
      " 17%|████████████████████████████▉                                                                                                                                                 | 333/2000 [05:24<28:32,  1.03s/it]"
     ]
    },
    {
     "name": "stdout",
     "output_type": "stream",
     "text": [
      "Epoch 332 | Train loss: 0.0258 | Valid loss: 0.8010\n",
      "Train ACC: 0.9667 | Valid ACC: 0.8109 | Train f1: 0.9749 | Valid f1: 0.8037 | Train pre: 0.9924 | Valid pre: 0.8126\n"
     ]
    },
    {
     "name": "stderr",
     "output_type": "stream",
     "text": [
      "\r\n",
      " 17%|█████████████████████████████                                                                                                                                                 | 334/2000 [05:25<27:43,  1.00it/s]"
     ]
    },
    {
     "name": "stdout",
     "output_type": "stream",
     "text": [
      "Epoch 333 | Train loss: 0.0282 | Valid loss: 0.7926\n",
      "Train ACC: 0.9948 | Valid ACC: 0.8115 | Train f1: 0.9946 | Valid f1: 0.8049 | Train pre: 0.9945 | Valid pre: 0.8145\n"
     ]
    },
    {
     "name": "stderr",
     "output_type": "stream",
     "text": [
      "\r\n",
      " 17%|█████████████████████████████▏                                                                                                                                                | 335/2000 [05:26<27:09,  1.02it/s]"
     ]
    },
    {
     "name": "stdout",
     "output_type": "stream",
     "text": [
      "Epoch 334 | Train loss: 0.0266 | Valid loss: 0.7959\n",
      "Train ACC: 0.9940 | Valid ACC: 0.8114 | Train f1: 0.9924 | Valid f1: 0.8049 | Train pre: 0.9909 | Valid pre: 0.8145\n"
     ]
    },
    {
     "name": "stderr",
     "output_type": "stream",
     "text": [
      "\r\n",
      " 17%|█████████████████████████████▏                                                                                                                                                | 336/2000 [05:27<26:48,  1.03it/s]"
     ]
    },
    {
     "name": "stdout",
     "output_type": "stream",
     "text": [
      "Epoch 335 | Train loss: 0.0204 | Valid loss: 0.8046\n",
      "Train ACC: 0.9955 | Valid ACC: 0.8117 | Train f1: 0.9948 | Valid f1: 0.8054 | Train pre: 0.9942 | Valid pre: 0.8153\n"
     ]
    },
    {
     "name": "stderr",
     "output_type": "stream",
     "text": [
      "\r\n",
      " 17%|█████████████████████████████▎                                                                                                                                                | 337/2000 [05:28<26:13,  1.06it/s]"
     ]
    },
    {
     "name": "stdout",
     "output_type": "stream",
     "text": [
      "Epoch 336 | Train loss: 0.0220 | Valid loss: 0.8079\n",
      "Train ACC: 0.9961 | Valid ACC: 0.8110 | Train f1: 0.9963 | Valid f1: 0.8048 | Train pre: 0.9964 | Valid pre: 0.8148\n"
     ]
    },
    {
     "name": "stderr",
     "output_type": "stream",
     "text": [
      "\r\n",
      " 17%|█████████████████████████████▍                                                                                                                                                | 338/2000 [05:29<26:00,  1.07it/s]"
     ]
    },
    {
     "name": "stdout",
     "output_type": "stream",
     "text": [
      "Epoch 337 | Train loss: 0.0286 | Valid loss: 0.8166\n",
      "Train ACC: 0.9931 | Valid ACC: 0.8114 | Train f1: 0.9930 | Valid f1: 0.8108 | Train pre: 0.9930 | Valid pre: 0.8371\n"
     ]
    },
    {
     "name": "stderr",
     "output_type": "stream",
     "text": [
      "\r\n",
      " 17%|█████████████████████████████▍                                                                                                                                                | 339/2000 [05:30<26:02,  1.06it/s]"
     ]
    },
    {
     "name": "stdout",
     "output_type": "stream",
     "text": [
      "Epoch 338 | Train loss: 0.0237 | Valid loss: 0.8130\n",
      "Train ACC: 0.9928 | Valid ACC: 0.8065 | Train f1: 0.9944 | Valid f1: 0.8045 | Train pre: 0.9961 | Valid pre: 0.8369\n"
     ]
    },
    {
     "name": "stderr",
     "output_type": "stream",
     "text": [
      "\r\n",
      " 17%|█████████████████████████████▌                                                                                                                                                | 340/2000 [05:31<26:13,  1.06it/s]"
     ]
    },
    {
     "name": "stdout",
     "output_type": "stream",
     "text": [
      "Epoch 339 | Train loss: 0.0235 | Valid loss: 0.8057\n",
      "Train ACC: 0.9943 | Valid ACC: 0.8064 | Train f1: 0.9935 | Valid f1: 0.8008 | Train pre: 0.9929 | Valid pre: 0.8271\n"
     ]
    },
    {
     "name": "stderr",
     "output_type": "stream",
     "text": [
      "\r\n",
      " 17%|█████████████████████████████▋                                                                                                                                                | 341/2000 [05:31<26:27,  1.05it/s]"
     ]
    },
    {
     "name": "stdout",
     "output_type": "stream",
     "text": [
      "Epoch 340 | Train loss: 0.0192 | Valid loss: 0.7982\n",
      "Train ACC: 0.9951 | Valid ACC: 0.8051 | Train f1: 0.9878 | Valid f1: 0.7991 | Train pre: 0.9824 | Valid pre: 0.8250\n"
     ]
    },
    {
     "name": "stderr",
     "output_type": "stream",
     "text": [
      "\r\n",
      " 17%|█████████████████████████████▊                                                                                                                                                | 342/2000 [05:32<26:00,  1.06it/s]"
     ]
    },
    {
     "name": "stdout",
     "output_type": "stream",
     "text": [
      "Epoch 341 | Train loss: 0.0212 | Valid loss: 0.7862\n",
      "Train ACC: 0.9670 | Valid ACC: 0.8067 | Train f1: 0.9588 | Valid f1: 0.8007 | Train pre: 0.9690 | Valid pre: 0.8114\n"
     ]
    },
    {
     "name": "stderr",
     "output_type": "stream",
     "text": [
      "\r\n",
      " 17%|█████████████████████████████▊                                                                                                                                                | 343/2000 [05:33<26:41,  1.03it/s]"
     ]
    },
    {
     "name": "stdout",
     "output_type": "stream",
     "text": [
      "Epoch 342 | Train loss: 0.0277 | Valid loss: 0.7764\n",
      "Train ACC: 0.9939 | Valid ACC: 0.8056 | Train f1: 0.9944 | Valid f1: 0.7994 | Train pre: 0.9949 | Valid pre: 0.8098\n"
     ]
    },
    {
     "name": "stderr",
     "output_type": "stream",
     "text": [
      "\r\n",
      " 17%|█████████████████████████████▉                                                                                                                                                | 344/2000 [05:34<26:46,  1.03it/s]"
     ]
    },
    {
     "name": "stdout",
     "output_type": "stream",
     "text": [
      "Epoch 343 | Train loss: 0.0202 | Valid loss: 0.7767\n",
      "Train ACC: 0.9943 | Valid ACC: 0.8120 | Train f1: 0.9766 | Valid f1: 0.8088 | Train pre: 0.9681 | Valid pre: 0.8212\n"
     ]
    },
    {
     "name": "stderr",
     "output_type": "stream",
     "text": [
      "\r\n",
      " 17%|██████████████████████████████                                                                                                                                                | 345/2000 [05:35<27:20,  1.01it/s]"
     ]
    },
    {
     "name": "stdout",
     "output_type": "stream",
     "text": [
      "Epoch 344 | Train loss: 0.0203 | Valid loss: 0.7847\n",
      "Train ACC: 0.9963 | Valid ACC: 0.8125 | Train f1: 0.9949 | Valid f1: 0.8069 | Train pre: 0.9936 | Valid pre: 0.8145\n"
     ]
    },
    {
     "name": "stderr",
     "output_type": "stream",
     "text": [
      "\r\n",
      " 17%|██████████████████████████████                                                                                                                                                | 346/2000 [05:36<27:02,  1.02it/s]"
     ]
    },
    {
     "name": "stdout",
     "output_type": "stream",
     "text": [
      "Epoch 345 | Train loss: 0.0172 | Valid loss: 0.7836\n",
      "Train ACC: 0.9965 | Valid ACC: 0.8125 | Train f1: 0.9956 | Valid f1: 0.8069 | Train pre: 0.9947 | Valid pre: 0.8145\n"
     ]
    },
    {
     "name": "stderr",
     "output_type": "stream",
     "text": [
      "\r\n",
      " 17%|██████████████████████████████▏                                                                                                                                               | 347/2000 [05:37<27:04,  1.02it/s]"
     ]
    },
    {
     "name": "stdout",
     "output_type": "stream",
     "text": [
      "Epoch 346 | Train loss: 0.0213 | Valid loss: 0.7787\n",
      "Train ACC: 0.9671 | Valid ACC: 0.8131 | Train f1: 0.9769 | Valid f1: 0.8079 | Train pre: 0.9960 | Valid pre: 0.8159\n"
     ]
    },
    {
     "name": "stderr",
     "output_type": "stream",
     "text": [
      "\r\n",
      " 17%|██████████████████████████████▎                                                                                                                                               | 348/2000 [05:38<27:49,  1.01s/it]"
     ]
    },
    {
     "name": "stdout",
     "output_type": "stream",
     "text": [
      "Epoch 347 | Train loss: 0.0200 | Valid loss: 0.7767\n",
      "Train ACC: 0.9963 | Valid ACC: 0.8074 | Train f1: 0.9953 | Valid f1: 0.8026 | Train pre: 0.9944 | Valid pre: 0.8143\n"
     ]
    },
    {
     "name": "stderr",
     "output_type": "stream",
     "text": [
      "\r\n",
      " 17%|██████████████████████████████▎                                                                                                                                               | 349/2000 [05:39<27:03,  1.02it/s]"
     ]
    },
    {
     "name": "stdout",
     "output_type": "stream",
     "text": [
      "Epoch 348 | Train loss: 0.0251 | Valid loss: 0.7709\n",
      "Train ACC: 0.9930 | Valid ACC: 0.8071 | Train f1: 0.9941 | Valid f1: 0.8022 | Train pre: 0.9951 | Valid pre: 0.8138\n"
     ]
    },
    {
     "name": "stderr",
     "output_type": "stream",
     "text": [
      "\r\n",
      " 18%|██████████████████████████████▍                                                                                                                                               | 350/2000 [05:40<27:01,  1.02it/s]"
     ]
    },
    {
     "name": "stdout",
     "output_type": "stream",
     "text": [
      "Epoch 349 | Train loss: 0.0321 | Valid loss: 0.7696\n",
      "Train ACC: 0.9936 | Valid ACC: 0.8067 | Train f1: 0.9933 | Valid f1: 0.8014 | Train pre: 0.9930 | Valid pre: 0.8129\n"
     ]
    },
    {
     "name": "stderr",
     "output_type": "stream",
     "text": [
      "\r\n",
      " 18%|██████████████████████████████▌                                                                                                                                               | 351/2000 [05:41<26:19,  1.04it/s]"
     ]
    },
    {
     "name": "stdout",
     "output_type": "stream",
     "text": [
      "Epoch 350 | Train loss: 0.0251 | Valid loss: 0.7692\n",
      "Train ACC: 0.9905 | Valid ACC: 0.8054 | Train f1: 0.9922 | Valid f1: 0.7998 | Train pre: 0.9941 | Valid pre: 0.8112\n"
     ]
    },
    {
     "name": "stderr",
     "output_type": "stream",
     "text": [
      "\r\n",
      " 18%|██████████████████████████████▌                                                                                                                                               | 352/2000 [05:42<26:50,  1.02it/s]"
     ]
    },
    {
     "name": "stdout",
     "output_type": "stream",
     "text": [
      "Epoch 351 | Train loss: 0.0312 | Valid loss: 0.7584\n",
      "Train ACC: 0.9893 | Valid ACC: 0.8112 | Train f1: 0.9903 | Valid f1: 0.8059 | Train pre: 0.9915 | Valid pre: 0.8143\n"
     ]
    },
    {
     "name": "stderr",
     "output_type": "stream",
     "text": [
      "\r\n",
      " 18%|██████████████████████████████▋                                                                                                                                               | 353/2000 [05:43<26:37,  1.03it/s]"
     ]
    },
    {
     "name": "stdout",
     "output_type": "stream",
     "text": [
      "Epoch 352 | Train loss: 0.0263 | Valid loss: 0.7394\n",
      "Train ACC: 0.9960 | Valid ACC: 0.8119 | Train f1: 0.9952 | Valid f1: 0.8069 | Train pre: 0.9944 | Valid pre: 0.8155\n"
     ]
    },
    {
     "name": "stderr",
     "output_type": "stream",
     "text": [
      "\r\n",
      " 18%|██████████████████████████████▊                                                                                                                                               | 354/2000 [05:44<26:50,  1.02it/s]"
     ]
    },
    {
     "name": "stdout",
     "output_type": "stream",
     "text": [
      "Epoch 353 | Train loss: 0.0176 | Valid loss: 0.7323\n",
      "Train ACC: 0.9956 | Valid ACC: 0.8121 | Train f1: 0.9962 | Valid f1: 0.8088 | Train pre: 0.9967 | Valid pre: 0.8214\n"
     ]
    },
    {
     "name": "stderr",
     "output_type": "stream",
     "text": [
      "\r\n",
      " 18%|██████████████████████████████▉                                                                                                                                               | 355/2000 [05:45<26:28,  1.04it/s]"
     ]
    },
    {
     "name": "stdout",
     "output_type": "stream",
     "text": [
      "Epoch 354 | Train loss: 0.0197 | Valid loss: 0.7360\n",
      "Train ACC: 0.9972 | Valid ACC: 0.8229 | Train f1: 0.9966 | Valid f1: 0.8220 | Train pre: 0.9960 | Valid pre: 0.8350\n"
     ]
    },
    {
     "name": "stderr",
     "output_type": "stream",
     "text": [
      "\r\n",
      " 18%|██████████████████████████████▉                                                                                                                                               | 356/2000 [05:46<27:54,  1.02s/it]"
     ]
    },
    {
     "name": "stdout",
     "output_type": "stream",
     "text": [
      "Epoch 355 | Train loss: 0.0260 | Valid loss: 0.7389\n",
      "Train ACC: 0.9943 | Valid ACC: 0.8287 | Train f1: 0.9840 | Valid f1: 0.8268 | Train pre: 0.9774 | Valid pre: 0.8388\n"
     ]
    },
    {
     "name": "stderr",
     "output_type": "stream",
     "text": [
      "\r\n",
      " 18%|███████████████████████████████                                                                                                                                               | 357/2000 [05:47<26:47,  1.02it/s]"
     ]
    },
    {
     "name": "stdout",
     "output_type": "stream",
     "text": [
      "Epoch 356 | Train loss: 0.0301 | Valid loss: 0.7389\n",
      "Train ACC: 0.9920 | Valid ACC: 0.8176 | Train f1: 0.9827 | Valid f1: 0.8169 | Train pre: 0.9772 | Valid pre: 0.8336\n"
     ]
    },
    {
     "name": "stderr",
     "output_type": "stream",
     "text": [
      "\r\n",
      " 18%|███████████████████████████████▏                                                                                                                                              | 358/2000 [05:48<25:59,  1.05it/s]"
     ]
    },
    {
     "name": "stdout",
     "output_type": "stream",
     "text": [
      "Epoch 357 | Train loss: 0.0227 | Valid loss: 0.7405\n",
      "Train ACC: 0.9951 | Valid ACC: 0.8160 | Train f1: 0.9952 | Valid f1: 0.8174 | Train pre: 0.9953 | Valid pre: 0.8445\n"
     ]
    },
    {
     "name": "stderr",
     "output_type": "stream",
     "text": [
      "\r\n",
      " 18%|███████████████████████████████▏                                                                                                                                              | 359/2000 [05:49<26:14,  1.04it/s]"
     ]
    },
    {
     "name": "stdout",
     "output_type": "stream",
     "text": [
      "Epoch 358 | Train loss: 0.0238 | Valid loss: 0.7487\n",
      "Train ACC: 0.9954 | Valid ACC: 0.8150 | Train f1: 0.9950 | Valid f1: 0.8151 | Train pre: 0.9946 | Valid pre: 0.8410\n"
     ]
    },
    {
     "name": "stderr",
     "output_type": "stream",
     "text": [
      "\r\n",
      " 18%|███████████████████████████████▎                                                                                                                                              | 360/2000 [05:50<26:50,  1.02it/s]"
     ]
    },
    {
     "name": "stdout",
     "output_type": "stream",
     "text": [
      "Epoch 359 | Train loss: 0.0234 | Valid loss: 0.7570\n",
      "Train ACC: 0.9951 | Valid ACC: 0.8161 | Train f1: 0.9935 | Valid f1: 0.8159 | Train pre: 0.9920 | Valid pre: 0.8416\n"
     ]
    },
    {
     "name": "stderr",
     "output_type": "stream",
     "text": [
      "\r\n",
      " 18%|███████████████████████████████▍                                                                                                                                              | 361/2000 [05:51<26:28,  1.03it/s]"
     ]
    },
    {
     "name": "stdout",
     "output_type": "stream",
     "text": [
      "Epoch 360 | Train loss: 0.0272 | Valid loss: 0.7598\n",
      "Train ACC: 0.9898 | Valid ACC: 0.8141 | Train f1: 0.9915 | Valid f1: 0.8153 | Train pre: 0.9935 | Valid pre: 0.8421\n"
     ]
    },
    {
     "name": "stderr",
     "output_type": "stream",
     "text": [
      "\r\n",
      " 18%|███████████████████████████████▍                                                                                                                                              | 362/2000 [05:52<25:13,  1.08it/s]"
     ]
    },
    {
     "name": "stdout",
     "output_type": "stream",
     "text": [
      "Epoch 361 | Train loss: 0.0220 | Valid loss: 0.7657\n",
      "Train ACC: 0.9935 | Valid ACC: 0.8150 | Train f1: 0.9948 | Valid f1: 0.8162 | Train pre: 0.9963 | Valid pre: 0.8431\n"
     ]
    },
    {
     "name": "stderr",
     "output_type": "stream",
     "text": [
      "\r\n",
      " 18%|███████████████████████████████▌                                                                                                                                              | 363/2000 [05:53<25:00,  1.09it/s]"
     ]
    },
    {
     "name": "stdout",
     "output_type": "stream",
     "text": [
      "Epoch 362 | Train loss: 0.0211 | Valid loss: 0.7839\n",
      "Train ACC: 0.9955 | Valid ACC: 0.8132 | Train f1: 0.9963 | Valid f1: 0.8133 | Train pre: 0.9972 | Valid pre: 0.8308\n"
     ]
    },
    {
     "name": "stderr",
     "output_type": "stream",
     "text": [
      "\r\n",
      " 18%|███████████████████████████████▋                                                                                                                                              | 364/2000 [05:54<25:43,  1.06it/s]"
     ]
    },
    {
     "name": "stdout",
     "output_type": "stream",
     "text": [
      "Epoch 363 | Train loss: 0.0292 | Valid loss: 0.7687\n",
      "Train ACC: 0.9932 | Valid ACC: 0.8156 | Train f1: 0.9944 | Valid f1: 0.8170 | Train pre: 0.9958 | Valid pre: 0.8319\n"
     ]
    },
    {
     "name": "stderr",
     "output_type": "stream",
     "text": [
      "\r\n",
      " 18%|███████████████████████████████▊                                                                                                                                              | 365/2000 [05:55<25:31,  1.07it/s]"
     ]
    },
    {
     "name": "stdout",
     "output_type": "stream",
     "text": [
      "Epoch 364 | Train loss: 0.0219 | Valid loss: 0.7551\n",
      "Train ACC: 0.9952 | Valid ACC: 0.8223 | Train f1: 0.9949 | Valid f1: 0.8229 | Train pre: 0.9945 | Valid pre: 0.8351\n"
     ]
    },
    {
     "name": "stderr",
     "output_type": "stream",
     "text": [
      "\r\n",
      " 18%|███████████████████████████████▊                                                                                                                                              | 366/2000 [05:56<25:57,  1.05it/s]"
     ]
    },
    {
     "name": "stdout",
     "output_type": "stream",
     "text": [
      "Epoch 365 | Train loss: 0.0168 | Valid loss: 0.7629\n",
      "Train ACC: 0.9967 | Valid ACC: 0.8140 | Train f1: 0.9954 | Valid f1: 0.8087 | Train pre: 0.9943 | Valid pre: 0.8157\n"
     ]
    },
    {
     "name": "stderr",
     "output_type": "stream",
     "text": [
      "\r\n",
      " 18%|███████████████████████████████▉                                                                                                                                              | 367/2000 [05:57<25:20,  1.07it/s]"
     ]
    },
    {
     "name": "stdout",
     "output_type": "stream",
     "text": [
      "Epoch 366 | Train loss: 0.0225 | Valid loss: 0.7847\n",
      "Train ACC: 0.9953 | Valid ACC: 0.8125 | Train f1: 0.9948 | Valid f1: 0.8060 | Train pre: 0.9945 | Valid pre: 0.8123\n"
     ]
    },
    {
     "name": "stderr",
     "output_type": "stream",
     "text": [
      "\r\n",
      " 18%|████████████████████████████████                                                                                                                                              | 368/2000 [05:58<25:47,  1.05it/s]"
     ]
    },
    {
     "name": "stdout",
     "output_type": "stream",
     "text": [
      "Epoch 367 | Train loss: 0.0268 | Valid loss: 0.7885\n",
      "Train ACC: 0.9939 | Valid ACC: 0.8081 | Train f1: 0.9939 | Valid f1: 0.8038 | Train pre: 0.9941 | Valid pre: 0.8160\n"
     ]
    },
    {
     "name": "stderr",
     "output_type": "stream",
     "text": [
      "\r\n",
      " 18%|████████████████████████████████                                                                                                                                              | 369/2000 [05:59<26:26,  1.03it/s]"
     ]
    },
    {
     "name": "stdout",
     "output_type": "stream",
     "text": [
      "Epoch 368 | Train loss: 0.0230 | Valid loss: 0.7878\n",
      "Train ACC: 0.9945 | Valid ACC: 0.8049 | Train f1: 0.9940 | Valid f1: 0.7996 | Train pre: 0.9934 | Valid pre: 0.8083\n"
     ]
    },
    {
     "name": "stderr",
     "output_type": "stream",
     "text": [
      "\r\n",
      " 18%|████████████████████████████████▏                                                                                                                                             | 370/2000 [05:59<25:53,  1.05it/s]"
     ]
    },
    {
     "name": "stdout",
     "output_type": "stream",
     "text": [
      "Epoch 369 | Train loss: 0.0225 | Valid loss: 0.7941\n",
      "Train ACC: 0.9808 | Valid ACC: 0.8013 | Train f1: 0.9868 | Valid f1: 0.7978 | Train pre: 0.9948 | Valid pre: 0.8108\n"
     ]
    },
    {
     "name": "stderr",
     "output_type": "stream",
     "text": [
      "\r\n",
      " 19%|████████████████████████████████▎                                                                                                                                             | 371/2000 [06:00<25:33,  1.06it/s]"
     ]
    },
    {
     "name": "stdout",
     "output_type": "stream",
     "text": [
      "Epoch 370 | Train loss: 0.0179 | Valid loss: 0.8038\n",
      "Train ACC: 0.9977 | Valid ACC: 0.7996 | Train f1: 0.9979 | Valid f1: 0.7995 | Train pre: 0.9982 | Valid pre: 0.8341\n"
     ]
    },
    {
     "name": "stderr",
     "output_type": "stream",
     "text": [
      "\r\n",
      " 19%|████████████████████████████████▎                                                                                                                                             | 372/2000 [06:01<25:12,  1.08it/s]"
     ]
    },
    {
     "name": "stdout",
     "output_type": "stream",
     "text": [
      "Epoch 371 | Train loss: 0.0185 | Valid loss: 0.8076\n",
      "Train ACC: 0.9663 | Valid ACC: 0.7993 | Train f1: 0.9764 | Valid f1: 0.7967 | Train pre: 0.9958 | Valid pre: 0.8271\n"
     ]
    },
    {
     "name": "stderr",
     "output_type": "stream",
     "text": [
      "\r\n",
      " 19%|████████████████████████████████▍                                                                                                                                             | 373/2000 [06:02<25:23,  1.07it/s]"
     ]
    },
    {
     "name": "stdout",
     "output_type": "stream",
     "text": [
      "Epoch 372 | Train loss: 0.0205 | Valid loss: 0.8085\n",
      "Train ACC: 0.9948 | Valid ACC: 0.8000 | Train f1: 0.9954 | Valid f1: 0.7971 | Train pre: 0.9961 | Valid pre: 0.8273\n"
     ]
    },
    {
     "name": "stderr",
     "output_type": "stream",
     "text": [
      "\r\n",
      " 19%|████████████████████████████████▌                                                                                                                                             | 374/2000 [06:03<25:15,  1.07it/s]"
     ]
    },
    {
     "name": "stdout",
     "output_type": "stream",
     "text": [
      "Epoch 373 | Train loss: 0.0244 | Valid loss: 0.8077\n",
      "Train ACC: 0.9951 | Valid ACC: 0.8097 | Train f1: 0.9948 | Valid f1: 0.8042 | Train pre: 0.9945 | Valid pre: 0.8306\n"
     ]
    },
    {
     "name": "stderr",
     "output_type": "stream",
     "text": [
      "\r\n",
      " 19%|████████████████████████████████▋                                                                                                                                             | 375/2000 [06:04<25:18,  1.07it/s]"
     ]
    },
    {
     "name": "stdout",
     "output_type": "stream",
     "text": [
      "Epoch 374 | Train loss: 0.0210 | Valid loss: 0.8008\n",
      "Train ACC: 0.9392 | Valid ACC: 0.8096 | Train f1: 0.9398 | Valid f1: 0.8016 | Train pre: 0.9405 | Valid pre: 0.8132\n"
     ]
    },
    {
     "name": "stderr",
     "output_type": "stream",
     "text": [
      "\r\n",
      " 19%|████████████████████████████████▋                                                                                                                                             | 376/2000 [06:05<25:01,  1.08it/s]"
     ]
    },
    {
     "name": "stdout",
     "output_type": "stream",
     "text": [
      "Epoch 375 | Train loss: 0.0299 | Valid loss: 0.7995\n",
      "Train ACC: 0.9924 | Valid ACC: 0.8083 | Train f1: 0.9930 | Valid f1: 0.8005 | Train pre: 0.9937 | Valid pre: 0.8125\n"
     ]
    },
    {
     "name": "stderr",
     "output_type": "stream",
     "text": [
      "\r\n",
      " 19%|████████████████████████████████▊                                                                                                                                             | 377/2000 [06:06<26:07,  1.04it/s]"
     ]
    },
    {
     "name": "stdout",
     "output_type": "stream",
     "text": [
      "Epoch 376 | Train loss: 0.0230 | Valid loss: 0.8045\n",
      "Train ACC: 0.9920 | Valid ACC: 0.8054 | Train f1: 0.9915 | Valid f1: 0.7937 | Train pre: 0.9912 | Valid pre: 0.8046\n"
     ]
    },
    {
     "name": "stderr",
     "output_type": "stream",
     "text": [
      "\r\n",
      " 19%|████████████████████████████████▉                                                                                                                                             | 378/2000 [06:07<26:15,  1.03it/s]"
     ]
    },
    {
     "name": "stdout",
     "output_type": "stream",
     "text": [
      "Epoch 377 | Train loss: 0.0229 | Valid loss: 0.8126\n",
      "Train ACC: 0.9943 | Valid ACC: 0.8046 | Train f1: 0.9761 | Valid f1: 0.7920 | Train pre: 0.9671 | Valid pre: 0.8026\n"
     ]
    },
    {
     "name": "stderr",
     "output_type": "stream",
     "text": [
      "\r\n",
      " 19%|████████████████████████████████▉                                                                                                                                             | 379/2000 [06:08<26:34,  1.02it/s]"
     ]
    },
    {
     "name": "stdout",
     "output_type": "stream",
     "text": [
      "Epoch 378 | Train loss: 0.0232 | Valid loss: 0.8177\n",
      "Train ACC: 0.9938 | Valid ACC: 0.8048 | Train f1: 0.9927 | Valid f1: 0.7926 | Train pre: 0.9915 | Valid pre: 0.8036\n"
     ]
    },
    {
     "name": "stderr",
     "output_type": "stream",
     "text": [
      "\r\n",
      " 19%|█████████████████████████████████                                                                                                                                             | 380/2000 [06:09<25:59,  1.04it/s]"
     ]
    },
    {
     "name": "stdout",
     "output_type": "stream",
     "text": [
      "Epoch 379 | Train loss: 0.0226 | Valid loss: 0.8185\n",
      "Train ACC: 0.9955 | Valid ACC: 0.8032 | Train f1: 0.9944 | Valid f1: 0.7904 | Train pre: 0.9934 | Valid pre: 0.8026\n"
     ]
    },
    {
     "name": "stderr",
     "output_type": "stream",
     "text": [
      "\r\n",
      " 19%|█████████████████████████████████▏                                                                                                                                            | 381/2000 [06:10<26:54,  1.00it/s]"
     ]
    },
    {
     "name": "stdout",
     "output_type": "stream",
     "text": [
      "Epoch 380 | Train loss: 0.0214 | Valid loss: 0.8136\n",
      "Train ACC: 0.9949 | Valid ACC: 0.8605 | Train f1: 0.9952 | Valid f1: 0.8514 | Train pre: 0.9955 | Valid pre: 0.8695\n"
     ]
    },
    {
     "name": "stderr",
     "output_type": "stream",
     "text": [
      "\r\n",
      " 19%|█████████████████████████████████▏                                                                                                                                            | 382/2000 [06:11<27:36,  1.02s/it]"
     ]
    },
    {
     "name": "stdout",
     "output_type": "stream",
     "text": [
      "Epoch 381 | Train loss: 0.0133 | Valid loss: 0.8112\n",
      "Train ACC: 0.9978 | Valid ACC: 0.8536 | Train f1: 0.9976 | Valid f1: 0.8412 | Train pre: 0.9973 | Valid pre: 0.8616\n"
     ]
    },
    {
     "name": "stderr",
     "output_type": "stream",
     "text": [
      "\r\n",
      " 19%|█████████████████████████████████▎                                                                                                                                            | 383/2000 [06:12<26:25,  1.02it/s]"
     ]
    },
    {
     "name": "stdout",
     "output_type": "stream",
     "text": [
      "Epoch 382 | Train loss: 0.0183 | Valid loss: 0.8028\n",
      "Train ACC: 0.9922 | Valid ACC: 0.8693 | Train f1: 0.9929 | Valid f1: 0.8603 | Train pre: 0.9938 | Valid pre: 0.8765\n"
     ]
    },
    {
     "name": "stderr",
     "output_type": "stream",
     "text": [
      "\r\n",
      " 19%|█████████████████████████████████▍                                                                                                                                            | 384/2000 [06:13<26:09,  1.03it/s]"
     ]
    },
    {
     "name": "stdout",
     "output_type": "stream",
     "text": [
      "Epoch 383 | Train loss: 0.0218 | Valid loss: 0.7811\n",
      "Train ACC: 0.9890 | Valid ACC: 0.8050 | Train f1: 0.9908 | Valid f1: 0.7937 | Train pre: 0.9930 | Valid pre: 0.8048\n"
     ]
    },
    {
     "name": "stderr",
     "output_type": "stream",
     "text": [
      "\r\n",
      " 19%|█████████████████████████████████▍                                                                                                                                            | 385/2000 [06:14<27:11,  1.01s/it]"
     ]
    },
    {
     "name": "stdout",
     "output_type": "stream",
     "text": [
      "Epoch 384 | Train loss: 0.0142 | Valid loss: 0.7793\n",
      "Train ACC: 0.9970 | Valid ACC: 0.8114 | Train f1: 0.9968 | Valid f1: 0.8031 | Train pre: 0.9966 | Valid pre: 0.8137\n"
     ]
    },
    {
     "name": "stderr",
     "output_type": "stream",
     "text": [
      "\r\n",
      " 19%|█████████████████████████████████▌                                                                                                                                            | 386/2000 [06:15<26:39,  1.01it/s]"
     ]
    },
    {
     "name": "stdout",
     "output_type": "stream",
     "text": [
      "Epoch 385 | Train loss: 0.0148 | Valid loss: 0.7878\n",
      "Train ACC: 0.9937 | Valid ACC: 0.8172 | Train f1: 0.9943 | Valid f1: 0.8130 | Train pre: 0.9950 | Valid pre: 0.8259\n"
     ]
    },
    {
     "name": "stderr",
     "output_type": "stream",
     "text": [
      "\r\n",
      " 19%|█████████████████████████████████▋                                                                                                                                            | 387/2000 [06:16<27:31,  1.02s/it]"
     ]
    },
    {
     "name": "stdout",
     "output_type": "stream",
     "text": [
      "Epoch 386 | Train loss: 0.0219 | Valid loss: 0.8005\n",
      "Train ACC: 0.9952 | Valid ACC: 0.8175 | Train f1: 0.9960 | Valid f1: 0.8135 | Train pre: 0.9967 | Valid pre: 0.8265\n"
     ]
    },
    {
     "name": "stderr",
     "output_type": "stream",
     "text": [
      "\r\n",
      " 19%|█████████████████████████████████▊                                                                                                                                            | 388/2000 [06:17<26:32,  1.01it/s]"
     ]
    },
    {
     "name": "stdout",
     "output_type": "stream",
     "text": [
      "Epoch 387 | Train loss: 0.0281 | Valid loss: 0.8106\n",
      "Train ACC: 0.9924 | Valid ACC: 0.8184 | Train f1: 0.9927 | Valid f1: 0.8150 | Train pre: 0.9929 | Valid pre: 0.8287\n"
     ]
    },
    {
     "name": "stderr",
     "output_type": "stream",
     "text": [
      "\r\n",
      " 19%|█████████████████████████████████▊                                                                                                                                            | 389/2000 [06:18<26:08,  1.03it/s]"
     ]
    },
    {
     "name": "stdout",
     "output_type": "stream",
     "text": [
      "Epoch 388 | Train loss: 0.0229 | Valid loss: 0.8338\n",
      "Train ACC: 0.9928 | Valid ACC: 0.8161 | Train f1: 0.9927 | Valid f1: 0.8128 | Train pre: 0.9927 | Valid pre: 0.8269\n"
     ]
    },
    {
     "name": "stderr",
     "output_type": "stream",
     "text": [
      "\r\n",
      " 20%|█████████████████████████████████▉                                                                                                                                            | 390/2000 [06:19<27:09,  1.01s/it]"
     ]
    },
    {
     "name": "stdout",
     "output_type": "stream",
     "text": [
      "Epoch 389 | Train loss: 0.0226 | Valid loss: 0.8553\n",
      "Train ACC: 0.9888 | Valid ACC: 0.8167 | Train f1: 0.9906 | Valid f1: 0.8134 | Train pre: 0.9928 | Valid pre: 0.8275\n"
     ]
    },
    {
     "name": "stderr",
     "output_type": "stream",
     "text": [
      "\r\n",
      " 20%|██████████████████████████████████                                                                                                                                            | 391/2000 [06:20<26:50,  1.00s/it]"
     ]
    },
    {
     "name": "stdout",
     "output_type": "stream",
     "text": [
      "Epoch 390 | Train loss: 0.0258 | Valid loss: 0.8776\n",
      "Train ACC: 0.9692 | Valid ACC: 0.8148 | Train f1: 0.9775 | Valid f1: 0.8101 | Train pre: 0.9899 | Valid pre: 0.8171\n"
     ]
    },
    {
     "name": "stderr",
     "output_type": "stream",
     "text": [
      "\r\n",
      " 20%|██████████████████████████████████                                                                                                                                            | 392/2000 [06:21<26:36,  1.01it/s]"
     ]
    },
    {
     "name": "stdout",
     "output_type": "stream",
     "text": [
      "Epoch 391 | Train loss: 0.0220 | Valid loss: 0.8853\n",
      "Train ACC: 0.9952 | Valid ACC: 0.8150 | Train f1: 0.9951 | Valid f1: 0.8096 | Train pre: 0.9950 | Valid pre: 0.8160\n"
     ]
    },
    {
     "name": "stderr",
     "output_type": "stream",
     "text": [
      "\r\n",
      " 20%|██████████████████████████████████▏                                                                                                                                           | 393/2000 [06:22<26:08,  1.02it/s]"
     ]
    },
    {
     "name": "stdout",
     "output_type": "stream",
     "text": [
      "Epoch 392 | Train loss: 0.0222 | Valid loss: 0.8680\n",
      "Train ACC: 0.9921 | Valid ACC: 0.8161 | Train f1: 0.9924 | Valid f1: 0.8106 | Train pre: 0.9927 | Valid pre: 0.8166\n"
     ]
    },
    {
     "name": "stderr",
     "output_type": "stream",
     "text": [
      "\r\n",
      " 20%|██████████████████████████████████▎                                                                                                                                           | 394/2000 [06:23<25:38,  1.04it/s]"
     ]
    },
    {
     "name": "stdout",
     "output_type": "stream",
     "text": [
      "Epoch 393 | Train loss: 0.0235 | Valid loss: 0.8220\n",
      "Train ACC: 0.9948 | Valid ACC: 0.8144 | Train f1: 0.9947 | Valid f1: 0.8108 | Train pre: 0.9946 | Valid pre: 0.8183\n"
     ]
    },
    {
     "name": "stderr",
     "output_type": "stream",
     "text": [
      "\r\n",
      " 20%|██████████████████████████████████▎                                                                                                                                           | 395/2000 [06:24<26:04,  1.03it/s]"
     ]
    },
    {
     "name": "stdout",
     "output_type": "stream",
     "text": [
      "Epoch 394 | Train loss: 0.0216 | Valid loss: 0.7914\n",
      "Train ACC: 0.9663 | Valid ACC: 0.8161 | Train f1: 0.9739 | Valid f1: 0.8137 | Train pre: 0.9909 | Valid pre: 0.8282\n"
     ]
    },
    {
     "name": "stderr",
     "output_type": "stream",
     "text": [
      "\r\n",
      " 20%|██████████████████████████████████▍                                                                                                                                           | 396/2000 [06:25<25:28,  1.05it/s]"
     ]
    },
    {
     "name": "stdout",
     "output_type": "stream",
     "text": [
      "Epoch 395 | Train loss: 0.0223 | Valid loss: 0.7718\n",
      "Train ACC: 0.9408 | Valid ACC: 0.8107 | Train f1: 0.9583 | Valid f1: 0.8048 | Train pre: 0.9943 | Valid pre: 0.8176\n"
     ]
    },
    {
     "name": "stderr",
     "output_type": "stream",
     "text": [
      "\r\n",
      " 20%|██████████████████████████████████▌                                                                                                                                           | 397/2000 [06:26<25:48,  1.04it/s]"
     ]
    },
    {
     "name": "stdout",
     "output_type": "stream",
     "text": [
      "Epoch 396 | Train loss: 0.0222 | Valid loss: 0.7613\n",
      "Train ACC: 0.9957 | Valid ACC: 0.8107 | Train f1: 0.9955 | Valid f1: 0.8048 | Train pre: 0.9953 | Valid pre: 0.8176\n"
     ]
    },
    {
     "name": "stderr",
     "output_type": "stream",
     "text": [
      "\r\n",
      " 20%|██████████████████████████████████▋                                                                                                                                           | 398/2000 [06:27<24:48,  1.08it/s]"
     ]
    },
    {
     "name": "stdout",
     "output_type": "stream",
     "text": [
      "Epoch 397 | Train loss: 0.0229 | Valid loss: 0.7531\n",
      "Train ACC: 0.9353 | Valid ACC: 0.7956 | Train f1: 0.9367 | Valid f1: 0.7872 | Train pre: 0.9382 | Valid pre: 0.8024\n"
     ]
    },
    {
     "name": "stderr",
     "output_type": "stream",
     "text": [
      "\r\n",
      " 20%|██████████████████████████████████▋                                                                                                                                           | 399/2000 [06:28<26:33,  1.00it/s]"
     ]
    },
    {
     "name": "stdout",
     "output_type": "stream",
     "text": [
      "Epoch 398 | Train loss: 0.0210 | Valid loss: 0.7602\n",
      "Train ACC: 0.9960 | Valid ACC: 0.7931 | Train f1: 0.9938 | Valid f1: 0.7838 | Train pre: 0.9918 | Valid pre: 0.7982\n"
     ]
    },
    {
     "name": "stderr",
     "output_type": "stream",
     "text": [
      "\r\n",
      " 20%|██████████████████████████████████▊                                                                                                                                           | 400/2000 [06:29<26:05,  1.02it/s]"
     ]
    },
    {
     "name": "stdout",
     "output_type": "stream",
     "text": [
      "Epoch 399 | Train loss: 0.0218 | Valid loss: 0.7799\n",
      "Train ACC: 0.9965 | Valid ACC: 0.7898 | Train f1: 0.9966 | Valid f1: 0.7792 | Train pre: 0.9968 | Valid pre: 0.8090\n"
     ]
    },
    {
     "name": "stderr",
     "output_type": "stream",
     "text": [
      "\r\n",
      " 20%|██████████████████████████████████▉                                                                                                                                           | 401/2000 [06:30<26:15,  1.01it/s]"
     ]
    },
    {
     "name": "stdout",
     "output_type": "stream",
     "text": [
      "Epoch 400 | Train loss: 0.0263 | Valid loss: 0.7961\n",
      "Train ACC: 0.9942 | Valid ACC: 0.7890 | Train f1: 0.9927 | Valid f1: 0.7783 | Train pre: 0.9913 | Valid pre: 0.8081\n"
     ]
    },
    {
     "name": "stderr",
     "output_type": "stream",
     "text": [
      "\r\n",
      " 20%|██████████████████████████████████▉                                                                                                                                           | 402/2000 [06:31<25:59,  1.02it/s]"
     ]
    },
    {
     "name": "stdout",
     "output_type": "stream",
     "text": [
      "Epoch 401 | Train loss: 0.0218 | Valid loss: 0.7994\n",
      "Train ACC: 0.9950 | Valid ACC: 0.7876 | Train f1: 0.9950 | Valid f1: 0.7774 | Train pre: 0.9950 | Valid pre: 0.8076\n"
     ]
    },
    {
     "name": "stderr",
     "output_type": "stream",
     "text": [
      "\r\n",
      " 20%|███████████████████████████████████                                                                                                                                           | 403/2000 [06:32<25:45,  1.03it/s]"
     ]
    },
    {
     "name": "stdout",
     "output_type": "stream",
     "text": [
      "Epoch 402 | Train loss: 0.0143 | Valid loss: 0.7995\n",
      "Train ACC: 0.9963 | Valid ACC: 0.7932 | Train f1: 0.9970 | Valid f1: 0.7830 | Train pre: 0.9977 | Valid pre: 0.8130\n"
     ]
    },
    {
     "name": "stderr",
     "output_type": "stream",
     "text": [
      "\r\n",
      " 20%|███████████████████████████████████▏                                                                                                                                          | 404/2000 [06:33<25:50,  1.03it/s]"
     ]
    },
    {
     "name": "stdout",
     "output_type": "stream",
     "text": [
      "Epoch 403 | Train loss: 0.0258 | Valid loss: 0.7904\n",
      "Train ACC: 0.9926 | Valid ACC: 0.7986 | Train f1: 0.9935 | Valid f1: 0.7874 | Train pre: 0.9945 | Valid pre: 0.8143\n"
     ]
    },
    {
     "name": "stderr",
     "output_type": "stream",
     "text": [
      "\r\n",
      " 20%|███████████████████████████████████▏                                                                                                                                          | 405/2000 [06:34<25:35,  1.04it/s]"
     ]
    },
    {
     "name": "stdout",
     "output_type": "stream",
     "text": [
      "Epoch 404 | Train loss: 0.0174 | Valid loss: 0.7896\n",
      "Train ACC: 0.9955 | Valid ACC: 0.7986 | Train f1: 0.9964 | Valid f1: 0.7875 | Train pre: 0.9974 | Valid pre: 0.8144\n"
     ]
    },
    {
     "name": "stderr",
     "output_type": "stream",
     "text": [
      "\r\n",
      " 20%|███████████████████████████████████▎                                                                                                                                          | 406/2000 [06:34<25:27,  1.04it/s]"
     ]
    },
    {
     "name": "stdout",
     "output_type": "stream",
     "text": [
      "Epoch 405 | Train loss: 0.0307 | Valid loss: 0.7893\n",
      "Train ACC: 0.9945 | Valid ACC: 0.8063 | Train f1: 0.9942 | Valid f1: 0.7968 | Train pre: 0.9940 | Valid pre: 0.8214\n"
     ]
    },
    {
     "name": "stderr",
     "output_type": "stream",
     "text": [
      "\r\n",
      " 20%|███████████████████████████████████▍                                                                                                                                          | 407/2000 [06:35<24:59,  1.06it/s]"
     ]
    },
    {
     "name": "stdout",
     "output_type": "stream",
     "text": [
      "Epoch 406 | Train loss: 0.0199 | Valid loss: 0.7872\n",
      "Train ACC: 0.9966 | Valid ACC: 0.8063 | Train f1: 0.9967 | Valid f1: 0.7968 | Train pre: 0.9968 | Valid pre: 0.8214\n"
     ]
    },
    {
     "name": "stderr",
     "output_type": "stream",
     "text": [
      "\r\n",
      " 20%|███████████████████████████████████▍                                                                                                                                          | 408/2000 [06:36<25:33,  1.04it/s]"
     ]
    },
    {
     "name": "stdout",
     "output_type": "stream",
     "text": [
      "Epoch 407 | Train loss: 0.0305 | Valid loss: 0.7850\n",
      "Train ACC: 0.9945 | Valid ACC: 0.8065 | Train f1: 0.9952 | Valid f1: 0.7972 | Train pre: 0.9960 | Valid pre: 0.8221\n"
     ]
    },
    {
     "name": "stderr",
     "output_type": "stream",
     "text": [
      "\r\n",
      " 20%|███████████████████████████████████▌                                                                                                                                          | 409/2000 [06:37<25:08,  1.05it/s]"
     ]
    },
    {
     "name": "stdout",
     "output_type": "stream",
     "text": [
      "Epoch 408 | Train loss: 0.0170 | Valid loss: 0.7930\n",
      "Train ACC: 0.9969 | Valid ACC: 0.8057 | Train f1: 0.9955 | Valid f1: 0.7958 | Train pre: 0.9943 | Valid pre: 0.8203\n"
     ]
    },
    {
     "name": "stderr",
     "output_type": "stream",
     "text": [
      "\r\n",
      " 20%|███████████████████████████████████▋                                                                                                                                          | 410/2000 [06:38<25:27,  1.04it/s]"
     ]
    },
    {
     "name": "stdout",
     "output_type": "stream",
     "text": [
      "Epoch 409 | Train loss: 0.0217 | Valid loss: 0.7956\n",
      "Train ACC: 0.9935 | Valid ACC: 0.8050 | Train f1: 0.9943 | Valid f1: 0.7950 | Train pre: 0.9951 | Valid pre: 0.8194\n"
     ]
    },
    {
     "name": "stderr",
     "output_type": "stream",
     "text": [
      "\r\n",
      " 21%|███████████████████████████████████▊                                                                                                                                          | 411/2000 [06:39<24:42,  1.07it/s]"
     ]
    },
    {
     "name": "stdout",
     "output_type": "stream",
     "text": [
      "Epoch 410 | Train loss: 0.0200 | Valid loss: 0.7990\n",
      "Train ACC: 0.9960 | Valid ACC: 0.8041 | Train f1: 0.9957 | Valid f1: 0.7957 | Train pre: 0.9954 | Valid pre: 0.8220\n"
     ]
    },
    {
     "name": "stderr",
     "output_type": "stream",
     "text": [
      "\r\n",
      " 21%|███████████████████████████████████▊                                                                                                                                          | 412/2000 [06:40<24:24,  1.08it/s]"
     ]
    },
    {
     "name": "stdout",
     "output_type": "stream",
     "text": [
      "Epoch 411 | Train loss: 0.0227 | Valid loss: 0.7923\n",
      "Train ACC: 0.9407 | Valid ACC: 0.8025 | Train f1: 0.9393 | Valid f1: 0.7936 | Train pre: 0.9381 | Valid pre: 0.8192\n"
     ]
    },
    {
     "name": "stderr",
     "output_type": "stream",
     "text": [
      "\r\n",
      " 21%|███████████████████████████████████▉                                                                                                                                          | 413/2000 [06:41<25:49,  1.02it/s]"
     ]
    },
    {
     "name": "stdout",
     "output_type": "stream",
     "text": [
      "Epoch 412 | Train loss: 0.0216 | Valid loss: 0.7861\n",
      "Train ACC: 0.9941 | Valid ACC: 0.8080 | Train f1: 0.9945 | Valid f1: 0.8001 | Train pre: 0.9948 | Valid pre: 0.8194\n"
     ]
    },
    {
     "name": "stderr",
     "output_type": "stream",
     "text": [
      "\r\n",
      " 21%|████████████████████████████████████                                                                                                                                          | 414/2000 [06:42<25:41,  1.03it/s]"
     ]
    },
    {
     "name": "stdout",
     "output_type": "stream",
     "text": [
      "Epoch 413 | Train loss: 0.0187 | Valid loss: 0.7865\n",
      "Train ACC: 0.9925 | Valid ACC: 0.8100 | Train f1: 0.9917 | Valid f1: 0.8024 | Train pre: 0.9910 | Valid pre: 0.8217\n"
     ]
    },
    {
     "name": "stderr",
     "output_type": "stream",
     "text": [
      "\r\n",
      " 21%|████████████████████████████████████                                                                                                                                          | 415/2000 [06:43<25:59,  1.02it/s]"
     ]
    },
    {
     "name": "stdout",
     "output_type": "stream",
     "text": [
      "Epoch 414 | Train loss: 0.0149 | Valid loss: 0.7624\n",
      "Train ACC: 0.9979 | Valid ACC: 0.8175 | Train f1: 0.9979 | Valid f1: 0.8119 | Train pre: 0.9980 | Valid pre: 0.8304\n"
     ]
    },
    {
     "name": "stderr",
     "output_type": "stream",
     "text": [
      "\r\n",
      " 21%|████████████████████████████████████▏                                                                                                                                         | 416/2000 [06:44<25:21,  1.04it/s]"
     ]
    },
    {
     "name": "stdout",
     "output_type": "stream",
     "text": [
      "Epoch 415 | Train loss: 0.0225 | Valid loss: 0.7450\n",
      "Train ACC: 0.9923 | Valid ACC: 0.8187 | Train f1: 0.9929 | Valid f1: 0.8134 | Train pre: 0.9936 | Valid pre: 0.8320\n"
     ]
    },
    {
     "name": "stderr",
     "output_type": "stream",
     "text": [
      "\r\n",
      " 21%|████████████████████████████████████▎                                                                                                                                         | 417/2000 [06:45<25:37,  1.03it/s]"
     ]
    },
    {
     "name": "stdout",
     "output_type": "stream",
     "text": [
      "Epoch 416 | Train loss: 0.0251 | Valid loss: 0.7396\n",
      "Train ACC: 0.9962 | Valid ACC: 0.8177 | Train f1: 0.9952 | Valid f1: 0.8113 | Train pre: 0.9943 | Valid pre: 0.8290\n"
     ]
    },
    {
     "name": "stderr",
     "output_type": "stream",
     "text": [
      "\r\n",
      " 21%|████████████████████████████████████▎                                                                                                                                         | 418/2000 [06:46<25:26,  1.04it/s]"
     ]
    },
    {
     "name": "stdout",
     "output_type": "stream",
     "text": [
      "Epoch 417 | Train loss: 0.0137 | Valid loss: 0.7477\n",
      "Train ACC: 0.9967 | Valid ACC: 0.8246 | Train f1: 0.9962 | Valid f1: 0.8219 | Train pre: 0.9958 | Valid pre: 0.8422\n"
     ]
    },
    {
     "name": "stderr",
     "output_type": "stream",
     "text": [
      "\r\n",
      " 21%|████████████████████████████████████▍                                                                                                                                         | 419/2000 [06:47<25:39,  1.03it/s]"
     ]
    },
    {
     "name": "stdout",
     "output_type": "stream",
     "text": [
      "Epoch 418 | Train loss: 0.0252 | Valid loss: 0.7567\n",
      "Train ACC: 0.9933 | Valid ACC: 0.8295 | Train f1: 0.9942 | Valid f1: 0.8286 | Train pre: 0.9951 | Valid pre: 0.8495\n"
     ]
    },
    {
     "name": "stderr",
     "output_type": "stream",
     "text": [
      "\r\n",
      " 21%|████████████████████████████████████▌                                                                                                                                         | 420/2000 [06:48<25:28,  1.03it/s]"
     ]
    },
    {
     "name": "stdout",
     "output_type": "stream",
     "text": [
      "Epoch 419 | Train loss: 0.0203 | Valid loss: 0.7658\n",
      "Train ACC: 0.9682 | Valid ACC: 0.8282 | Train f1: 0.9773 | Valid f1: 0.8269 | Train pre: 0.9958 | Valid pre: 0.8476\n"
     ]
    },
    {
     "name": "stderr",
     "output_type": "stream",
     "text": [
      "\r\n",
      " 21%|████████████████████████████████████▋                                                                                                                                         | 421/2000 [06:49<25:06,  1.05it/s]"
     ]
    },
    {
     "name": "stdout",
     "output_type": "stream",
     "text": [
      "Epoch 420 | Train loss: 0.0192 | Valid loss: 0.7719\n",
      "Train ACC: 0.9773 | Valid ACC: 0.8222 | Train f1: 0.9832 | Valid f1: 0.8196 | Train pre: 0.9929 | Valid pre: 0.8464\n"
     ]
    },
    {
     "name": "stderr",
     "output_type": "stream",
     "text": [
      "\r\n",
      " 21%|████████████████████████████████████▋                                                                                                                                         | 422/2000 [06:50<25:49,  1.02it/s]"
     ]
    },
    {
     "name": "stdout",
     "output_type": "stream",
     "text": [
      "Epoch 421 | Train loss: 0.0202 | Valid loss: 0.7639\n",
      "Train ACC: 0.9964 | Valid ACC: 0.8215 | Train f1: 0.9967 | Valid f1: 0.8168 | Train pre: 0.9969 | Valid pre: 0.8294\n"
     ]
    },
    {
     "name": "stderr",
     "output_type": "stream",
     "text": [
      "\r\n",
      " 21%|████████████████████████████████████▊                                                                                                                                         | 423/2000 [06:51<25:12,  1.04it/s]"
     ]
    },
    {
     "name": "stdout",
     "output_type": "stream",
     "text": [
      "Epoch 422 | Train loss: 0.0231 | Valid loss: 0.7499\n",
      "Train ACC: 0.9956 | Valid ACC: 0.8280 | Train f1: 0.9854 | Valid f1: 0.8245 | Train pre: 0.9789 | Valid pre: 0.8346\n"
     ]
    },
    {
     "name": "stderr",
     "output_type": "stream",
     "text": [
      "\r\n",
      " 21%|████████████████████████████████████▉                                                                                                                                         | 424/2000 [06:52<25:45,  1.02it/s]"
     ]
    },
    {
     "name": "stdout",
     "output_type": "stream",
     "text": [
      "Epoch 423 | Train loss: 0.0216 | Valid loss: 0.7411\n",
      "Train ACC: 0.9958 | Valid ACC: 0.8264 | Train f1: 0.9941 | Valid f1: 0.8236 | Train pre: 0.9926 | Valid pre: 0.8341\n"
     ]
    },
    {
     "name": "stderr",
     "output_type": "stream",
     "text": [
      "\r\n",
      " 21%|████████████████████████████████████▉                                                                                                                                         | 425/2000 [06:53<25:15,  1.04it/s]"
     ]
    },
    {
     "name": "stdout",
     "output_type": "stream",
     "text": [
      "Epoch 424 | Train loss: 0.0196 | Valid loss: 0.7448\n",
      "Train ACC: 0.9959 | Valid ACC: 0.8272 | Train f1: 0.9948 | Valid f1: 0.8246 | Train pre: 0.9938 | Valid pre: 0.8357\n"
     ]
    },
    {
     "name": "stderr",
     "output_type": "stream",
     "text": [
      "\r\n",
      " 21%|█████████████████████████████████████                                                                                                                                         | 426/2000 [06:54<25:44,  1.02it/s]"
     ]
    },
    {
     "name": "stdout",
     "output_type": "stream",
     "text": [
      "Epoch 425 | Train loss: 0.0152 | Valid loss: 0.7546\n",
      "Train ACC: 0.9946 | Valid ACC: 0.8298 | Train f1: 0.9947 | Valid f1: 0.8271 | Train pre: 0.9949 | Valid pre: 0.8377\n"
     ]
    },
    {
     "name": "stderr",
     "output_type": "stream",
     "text": [
      "\r\n",
      " 21%|█████████████████████████████████████▏                                                                                                                                        | 427/2000 [06:55<26:17,  1.00s/it]"
     ]
    },
    {
     "name": "stdout",
     "output_type": "stream",
     "text": [
      "Epoch 426 | Train loss: 0.0235 | Valid loss: 0.7536\n",
      "Train ACC: 0.9960 | Valid ACC: 0.8276 | Train f1: 0.9955 | Valid f1: 0.8237 | Train pre: 0.9949 | Valid pre: 0.8334\n"
     ]
    },
    {
     "name": "stderr",
     "output_type": "stream",
     "text": [
      "\r\n",
      " 21%|█████████████████████████████████████▏                                                                                                                                        | 428/2000 [06:56<26:24,  1.01s/it]"
     ]
    },
    {
     "name": "stdout",
     "output_type": "stream",
     "text": [
      "Epoch 427 | Train loss: 0.0159 | Valid loss: 0.7522\n",
      "Train ACC: 0.9925 | Valid ACC: 0.8282 | Train f1: 0.9932 | Valid f1: 0.8238 | Train pre: 0.9939 | Valid pre: 0.8329\n"
     ]
    },
    {
     "name": "stderr",
     "output_type": "stream",
     "text": [
      "\r\n",
      " 21%|█████████████████████████████████████▎                                                                                                                                        | 429/2000 [06:57<25:23,  1.03it/s]"
     ]
    },
    {
     "name": "stdout",
     "output_type": "stream",
     "text": [
      "Epoch 428 | Train loss: 0.0181 | Valid loss: 0.7522\n",
      "Train ACC: 0.9952 | Valid ACC: 0.8289 | Train f1: 0.9958 | Valid f1: 0.8243 | Train pre: 0.9964 | Valid pre: 0.8330\n"
     ]
    },
    {
     "name": "stderr",
     "output_type": "stream",
     "text": [
      "\r\n",
      " 22%|█████████████████████████████████████▍                                                                                                                                        | 430/2000 [06:58<25:22,  1.03it/s]"
     ]
    },
    {
     "name": "stdout",
     "output_type": "stream",
     "text": [
      "Epoch 429 | Train loss: 0.0211 | Valid loss: 0.7580\n",
      "Train ACC: 0.9964 | Valid ACC: 0.8274 | Train f1: 0.9964 | Valid f1: 0.8237 | Train pre: 0.9965 | Valid pre: 0.8332\n"
     ]
    },
    {
     "name": "stderr",
     "output_type": "stream",
     "text": [
      "\r\n",
      " 22%|█████████████████████████████████████▍                                                                                                                                        | 431/2000 [06:59<26:11,  1.00s/it]"
     ]
    },
    {
     "name": "stdout",
     "output_type": "stream",
     "text": [
      "Epoch 430 | Train loss: 0.0224 | Valid loss: 0.7627\n",
      "Train ACC: 0.9965 | Valid ACC: 0.8265 | Train f1: 0.9969 | Valid f1: 0.8227 | Train pre: 0.9974 | Valid pre: 0.8322\n"
     ]
    },
    {
     "name": "stderr",
     "output_type": "stream",
     "text": [
      "\r\n",
      " 22%|█████████████████████████████████████▌                                                                                                                                        | 432/2000 [07:00<25:03,  1.04it/s]"
     ]
    },
    {
     "name": "stdout",
     "output_type": "stream",
     "text": [
      "Epoch 431 | Train loss: 0.0205 | Valid loss: 0.7593\n",
      "Train ACC: 0.9958 | Valid ACC: 0.8274 | Train f1: 0.9959 | Valid f1: 0.8235 | Train pre: 0.9960 | Valid pre: 0.8329\n"
     ]
    },
    {
     "name": "stderr",
     "output_type": "stream",
     "text": [
      "\r\n",
      " 22%|█████████████████████████████████████▋                                                                                                                                        | 433/2000 [07:00<23:50,  1.10it/s]"
     ]
    },
    {
     "name": "stdout",
     "output_type": "stream",
     "text": [
      "Epoch 432 | Train loss: 0.0228 | Valid loss: 0.7652\n",
      "Train ACC: 0.9955 | Valid ACC: 0.8219 | Train f1: 0.9936 | Valid f1: 0.8157 | Train pre: 0.9918 | Valid pre: 0.8241\n"
     ]
    },
    {
     "name": "stderr",
     "output_type": "stream",
     "text": [
      "\r\n",
      " 22%|█████████████████████████████████████▊                                                                                                                                        | 434/2000 [07:01<24:31,  1.06it/s]"
     ]
    },
    {
     "name": "stdout",
     "output_type": "stream",
     "text": [
      "Epoch 433 | Train loss: 0.0152 | Valid loss: 0.7932\n",
      "Train ACC: 0.9956 | Valid ACC: 0.8223 | Train f1: 0.9961 | Valid f1: 0.8189 | Train pre: 0.9967 | Valid pre: 0.8387\n"
     ]
    },
    {
     "name": "stderr",
     "output_type": "stream",
     "text": [
      "\r\n",
      " 22%|█████████████████████████████████████▊                                                                                                                                        | 435/2000 [07:02<24:16,  1.07it/s]"
     ]
    },
    {
     "name": "stdout",
     "output_type": "stream",
     "text": [
      "Epoch 434 | Train loss: 0.0163 | Valid loss: 0.8261\n",
      "Train ACC: 0.9970 | Valid ACC: 0.8196 | Train f1: 0.9964 | Valid f1: 0.8171 | Train pre: 0.9957 | Valid pre: 0.8380\n"
     ]
    },
    {
     "name": "stderr",
     "output_type": "stream",
     "text": [
      "\r\n",
      " 22%|█████████████████████████████████████▉                                                                                                                                        | 436/2000 [07:03<24:32,  1.06it/s]"
     ]
    },
    {
     "name": "stdout",
     "output_type": "stream",
     "text": [
      "Epoch 435 | Train loss: 0.0292 | Valid loss: 0.8243\n",
      "Train ACC: 0.9391 | Valid ACC: 0.8056 | Train f1: 0.9383 | Valid f1: 0.8022 | Train pre: 0.9375 | Valid pre: 0.8311\n"
     ]
    },
    {
     "name": "stderr",
     "output_type": "stream",
     "text": [
      "\r\n",
      " 22%|██████████████████████████████████████                                                                                                                                        | 437/2000 [07:04<24:41,  1.06it/s]"
     ]
    },
    {
     "name": "stdout",
     "output_type": "stream",
     "text": [
      "Epoch 436 | Train loss: 0.0300 | Valid loss: 0.7957\n",
      "Train ACC: 0.9940 | Valid ACC: 0.8065 | Train f1: 0.9946 | Valid f1: 0.8025 | Train pre: 0.9952 | Valid pre: 0.8303\n"
     ]
    },
    {
     "name": "stderr",
     "output_type": "stream",
     "text": [
      "\r\n",
      " 22%|██████████████████████████████████████                                                                                                                                        | 438/2000 [07:05<25:27,  1.02it/s]"
     ]
    },
    {
     "name": "stdout",
     "output_type": "stream",
     "text": [
      "Epoch 437 | Train loss: 0.0154 | Valid loss: 0.7821\n",
      "Train ACC: 0.9946 | Valid ACC: 0.8108 | Train f1: 0.9963 | Valid f1: 0.8067 | Train pre: 0.9981 | Valid pre: 0.8271\n"
     ]
    },
    {
     "name": "stderr",
     "output_type": "stream",
     "text": [
      "\r\n",
      " 22%|██████████████████████████████████████▏                                                                                                                                       | 439/2000 [07:06<26:12,  1.01s/it]"
     ]
    },
    {
     "name": "stdout",
     "output_type": "stream",
     "text": [
      "Epoch 438 | Train loss: 0.0176 | Valid loss: 0.7781\n",
      "Train ACC: 0.9966 | Valid ACC: 0.8130 | Train f1: 0.9972 | Valid f1: 0.8074 | Train pre: 0.9979 | Valid pre: 0.8262\n"
     ]
    },
    {
     "name": "stderr",
     "output_type": "stream",
     "text": [
      "\r\n",
      " 22%|██████████████████████████████████████▎                                                                                                                                       | 440/2000 [07:07<25:59,  1.00it/s]"
     ]
    },
    {
     "name": "stdout",
     "output_type": "stream",
     "text": [
      "Epoch 439 | Train loss: 0.0203 | Valid loss: 0.7738\n",
      "Train ACC: 0.9977 | Valid ACC: 0.8130 | Train f1: 0.9976 | Valid f1: 0.8065 | Train pre: 0.9976 | Valid pre: 0.8246\n"
     ]
    },
    {
     "name": "stderr",
     "output_type": "stream",
     "text": [
      "\r\n",
      " 22%|██████████████████████████████████████▎                                                                                                                                       | 441/2000 [07:08<25:21,  1.02it/s]"
     ]
    },
    {
     "name": "stdout",
     "output_type": "stream",
     "text": [
      "Epoch 440 | Train loss: 0.0177 | Valid loss: 0.7691\n",
      "Train ACC: 0.9958 | Valid ACC: 0.8135 | Train f1: 0.9957 | Valid f1: 0.8070 | Train pre: 0.9957 | Valid pre: 0.8250\n"
     ]
    },
    {
     "name": "stderr",
     "output_type": "stream",
     "text": [
      "\r\n",
      " 22%|██████████████████████████████████████▍                                                                                                                                       | 442/2000 [07:09<25:28,  1.02it/s]"
     ]
    },
    {
     "name": "stdout",
     "output_type": "stream",
     "text": [
      "Epoch 441 | Train loss: 0.0219 | Valid loss: 0.7613\n",
      "Train ACC: 0.9665 | Valid ACC: 0.8128 | Train f1: 0.9758 | Valid f1: 0.8070 | Train pre: 0.9943 | Valid pre: 0.8255\n"
     ]
    },
    {
     "name": "stderr",
     "output_type": "stream",
     "text": [
      "\r\n",
      " 22%|██████████████████████████████████████▌                                                                                                                                       | 443/2000 [07:10<25:39,  1.01it/s]"
     ]
    },
    {
     "name": "stdout",
     "output_type": "stream",
     "text": [
      "Epoch 442 | Train loss: 0.0179 | Valid loss: 0.7638\n",
      "Train ACC: 0.9954 | Valid ACC: 0.8116 | Train f1: 0.9763 | Valid f1: 0.8061 | Train pre: 0.9666 | Valid pre: 0.8249\n"
     ]
    },
    {
     "name": "stderr",
     "output_type": "stream",
     "text": [
      "\r\n",
      " 22%|██████████████████████████████████████▋                                                                                                                                       | 444/2000 [07:11<26:30,  1.02s/it]"
     ]
    },
    {
     "name": "stdout",
     "output_type": "stream",
     "text": [
      "Epoch 443 | Train loss: 0.0166 | Valid loss: 0.7720\n",
      "Train ACC: 0.9961 | Valid ACC: 0.8126 | Train f1: 0.9956 | Valid f1: 0.8072 | Train pre: 0.9952 | Valid pre: 0.8260\n"
     ]
    },
    {
     "name": "stderr",
     "output_type": "stream",
     "text": [
      "\r\n",
      " 22%|██████████████████████████████████████▋                                                                                                                                       | 445/2000 [07:12<25:43,  1.01it/s]"
     ]
    },
    {
     "name": "stdout",
     "output_type": "stream",
     "text": [
      "Epoch 444 | Train loss: 0.0165 | Valid loss: 0.7820\n",
      "Train ACC: 0.9961 | Valid ACC: 0.8144 | Train f1: 0.9963 | Valid f1: 0.8101 | Train pre: 0.9966 | Valid pre: 0.8300\n"
     ]
    },
    {
     "name": "stderr",
     "output_type": "stream",
     "text": [
      "\r\n",
      " 22%|██████████████████████████████████████▊                                                                                                                                       | 446/2000 [07:13<26:36,  1.03s/it]"
     ]
    },
    {
     "name": "stdout",
     "output_type": "stream",
     "text": [
      "Epoch 445 | Train loss: 0.0272 | Valid loss: 0.7981\n",
      "Train ACC: 0.9953 | Valid ACC: 0.8054 | Train f1: 0.9946 | Valid f1: 0.8011 | Train pre: 0.9939 | Valid pre: 0.8287\n"
     ]
    },
    {
     "name": "stderr",
     "output_type": "stream",
     "text": [
      "\r\n",
      " 22%|██████████████████████████████████████▉                                                                                                                                       | 447/2000 [07:14<26:04,  1.01s/it]"
     ]
    },
    {
     "name": "stdout",
     "output_type": "stream",
     "text": [
      "Epoch 446 | Train loss: 0.0258 | Valid loss: 0.8079\n",
      "Train ACC: 0.9948 | Valid ACC: 0.8049 | Train f1: 0.9951 | Valid f1: 0.8005 | Train pre: 0.9955 | Valid pre: 0.8284\n"
     ]
    },
    {
     "name": "stderr",
     "output_type": "stream",
     "text": [
      "\r\n",
      " 22%|██████████████████████████████████████▉                                                                                                                                       | 448/2000 [07:16<26:38,  1.03s/it]"
     ]
    },
    {
     "name": "stdout",
     "output_type": "stream",
     "text": [
      "Epoch 447 | Train loss: 0.0131 | Valid loss: 0.8100\n",
      "Train ACC: 0.9940 | Valid ACC: 0.8074 | Train f1: 0.9951 | Valid f1: 0.8016 | Train pre: 0.9964 | Valid pre: 0.8281\n"
     ]
    },
    {
     "name": "stderr",
     "output_type": "stream",
     "text": [
      "\r\n",
      " 22%|███████████████████████████████████████                                                                                                                                       | 449/2000 [07:16<24:51,  1.04it/s]"
     ]
    },
    {
     "name": "stdout",
     "output_type": "stream",
     "text": [
      "Epoch 448 | Train loss: 0.0254 | Valid loss: 0.7995\n",
      "Train ACC: 0.9940 | Valid ACC: 0.8098 | Train f1: 0.9953 | Valid f1: 0.8037 | Train pre: 0.9965 | Valid pre: 0.8297\n"
     ]
    },
    {
     "name": "stderr",
     "output_type": "stream",
     "text": [
      "\r\n",
      " 22%|███████████████████████████████████████▏                                                                                                                                      | 450/2000 [07:17<24:27,  1.06it/s]"
     ]
    },
    {
     "name": "stdout",
     "output_type": "stream",
     "text": [
      "Epoch 449 | Train loss: 0.0234 | Valid loss: 0.7796\n",
      "Train ACC: 0.9797 | Valid ACC: 0.8164 | Train f1: 0.9868 | Valid f1: 0.8112 | Train pre: 0.9960 | Valid pre: 0.8304\n"
     ]
    },
    {
     "name": "stderr",
     "output_type": "stream",
     "text": [
      "\r\n",
      " 23%|███████████████████████████████████████▏                                                                                                                                      | 451/2000 [07:18<25:29,  1.01it/s]"
     ]
    },
    {
     "name": "stdout",
     "output_type": "stream",
     "text": [
      "Epoch 450 | Train loss: 0.0207 | Valid loss: 0.7656\n",
      "Train ACC: 0.9945 | Valid ACC: 0.8164 | Train f1: 0.9950 | Valid f1: 0.8108 | Train pre: 0.9955 | Valid pre: 0.8295\n"
     ]
    },
    {
     "name": "stderr",
     "output_type": "stream",
     "text": [
      "\r\n",
      " 23%|███████████████████████████████████████▎                                                                                                                                      | 452/2000 [07:19<25:05,  1.03it/s]"
     ]
    },
    {
     "name": "stdout",
     "output_type": "stream",
     "text": [
      "Epoch 451 | Train loss: 0.0152 | Valid loss: 0.7626\n",
      "Train ACC: 0.9970 | Valid ACC: 0.8111 | Train f1: 0.9973 | Valid f1: 0.8056 | Train pre: 0.9976 | Valid pre: 0.8250\n"
     ]
    },
    {
     "name": "stderr",
     "output_type": "stream",
     "text": [
      "\r\n",
      " 23%|███████████████████████████████████████▍                                                                                                                                      | 453/2000 [07:20<24:57,  1.03it/s]"
     ]
    },
    {
     "name": "stdout",
     "output_type": "stream",
     "text": [
      "Epoch 452 | Train loss: 0.0175 | Valid loss: 0.7662\n",
      "Train ACC: 0.9974 | Valid ACC: 0.8061 | Train f1: 0.9966 | Valid f1: 0.7997 | Train pre: 0.9957 | Valid pre: 0.8255\n"
     ]
    },
    {
     "name": "stderr",
     "output_type": "stream",
     "text": [
      "\r\n",
      " 23%|███████████████████████████████████████▍                                                                                                                                      | 454/2000 [07:21<25:42,  1.00it/s]"
     ]
    },
    {
     "name": "stdout",
     "output_type": "stream",
     "text": [
      "Epoch 453 | Train loss: 0.0126 | Valid loss: 0.7816\n",
      "Train ACC: 0.9981 | Valid ACC: 0.8118 | Train f1: 0.9972 | Valid f1: 0.8091 | Train pre: 0.9964 | Valid pre: 0.8369\n"
     ]
    },
    {
     "name": "stderr",
     "output_type": "stream",
     "text": [
      "\r\n",
      " 23%|███████████████████████████████████████▌                                                                                                                                      | 455/2000 [07:22<24:54,  1.03it/s]"
     ]
    },
    {
     "name": "stdout",
     "output_type": "stream",
     "text": [
      "Epoch 454 | Train loss: 0.0193 | Valid loss: 0.7893\n",
      "Train ACC: 0.9965 | Valid ACC: 0.8108 | Train f1: 0.9961 | Valid f1: 0.8077 | Train pre: 0.9957 | Valid pre: 0.8356\n"
     ]
    },
    {
     "name": "stderr",
     "output_type": "stream",
     "text": [
      "\r\n",
      " 23%|███████████████████████████████████████▋                                                                                                                                      | 456/2000 [07:23<25:20,  1.02it/s]"
     ]
    },
    {
     "name": "stdout",
     "output_type": "stream",
     "text": [
      "Epoch 455 | Train loss: 0.0183 | Valid loss: 0.7926\n",
      "Train ACC: 0.9964 | Valid ACC: 0.8075 | Train f1: 0.9969 | Valid f1: 0.8042 | Train pre: 0.9974 | Valid pre: 0.8322\n"
     ]
    },
    {
     "name": "stderr",
     "output_type": "stream",
     "text": [
      "\r\n",
      " 23%|███████████████████████████████████████▊                                                                                                                                      | 457/2000 [07:24<25:31,  1.01it/s]"
     ]
    },
    {
     "name": "stdout",
     "output_type": "stream",
     "text": [
      "Epoch 456 | Train loss: 0.0172 | Valid loss: 0.8014\n",
      "Train ACC: 0.9942 | Valid ACC: 0.8081 | Train f1: 0.9936 | Valid f1: 0.8046 | Train pre: 0.9930 | Valid pre: 0.8326\n"
     ]
    },
    {
     "name": "stderr",
     "output_type": "stream",
     "text": [
      "\r\n",
      " 23%|███████████████████████████████████████▊                                                                                                                                      | 458/2000 [07:25<24:51,  1.03it/s]"
     ]
    },
    {
     "name": "stdout",
     "output_type": "stream",
     "text": [
      "Epoch 457 | Train loss: 0.0173 | Valid loss: 0.8057\n",
      "Train ACC: 0.9965 | Valid ACC: 0.8075 | Train f1: 0.9966 | Valid f1: 0.8040 | Train pre: 0.9967 | Valid pre: 0.8322\n"
     ]
    },
    {
     "name": "stderr",
     "output_type": "stream",
     "text": [
      "\r\n",
      " 23%|███████████████████████████████████████▉                                                                                                                                      | 459/2000 [07:26<25:05,  1.02it/s]"
     ]
    },
    {
     "name": "stdout",
     "output_type": "stream",
     "text": [
      "Epoch 458 | Train loss: 0.0164 | Valid loss: 0.8088\n",
      "Train ACC: 0.9963 | Valid ACC: 0.8090 | Train f1: 0.9963 | Valid f1: 0.8070 | Train pre: 0.9963 | Valid pre: 0.8363\n"
     ]
    },
    {
     "name": "stderr",
     "output_type": "stream",
     "text": [
      "\r\n",
      " 23%|████████████████████████████████████████                                                                                                                                      | 460/2000 [07:27<24:38,  1.04it/s]"
     ]
    },
    {
     "name": "stdout",
     "output_type": "stream",
     "text": [
      "Epoch 459 | Train loss: 0.0129 | Valid loss: 0.8115\n",
      "Train ACC: 0.9966 | Valid ACC: 0.8085 | Train f1: 0.9972 | Valid f1: 0.8065 | Train pre: 0.9979 | Valid pre: 0.8355\n"
     ]
    },
    {
     "name": "stderr",
     "output_type": "stream",
     "text": [
      "\r\n",
      " 23%|████████████████████████████████████████                                                                                                                                      | 461/2000 [07:28<25:16,  1.01it/s]"
     ]
    },
    {
     "name": "stdout",
     "output_type": "stream",
     "text": [
      "Epoch 460 | Train loss: 0.0150 | Valid loss: 0.8129\n",
      "Train ACC: 0.9945 | Valid ACC: 0.8089 | Train f1: 0.9960 | Valid f1: 0.8070 | Train pre: 0.9976 | Valid pre: 0.8361\n"
     ]
    },
    {
     "name": "stderr",
     "output_type": "stream",
     "text": [
      "\r\n",
      " 23%|████████████████████████████████████████▏                                                                                                                                     | 462/2000 [07:29<24:39,  1.04it/s]"
     ]
    },
    {
     "name": "stdout",
     "output_type": "stream",
     "text": [
      "Epoch 461 | Train loss: 0.0188 | Valid loss: 0.8156\n",
      "Train ACC: 0.9938 | Valid ACC: 0.8089 | Train f1: 0.9827 | Valid f1: 0.8070 | Train pre: 0.9755 | Valid pre: 0.8361\n"
     ]
    },
    {
     "name": "stderr",
     "output_type": "stream",
     "text": [
      "\r\n",
      " 23%|████████████████████████████████████████▎                                                                                                                                     | 463/2000 [07:30<25:13,  1.02it/s]"
     ]
    },
    {
     "name": "stdout",
     "output_type": "stream",
     "text": [
      "Epoch 462 | Train loss: 0.0187 | Valid loss: 0.8234\n",
      "Train ACC: 0.9946 | Valid ACC: 0.8113 | Train f1: 0.9945 | Valid f1: 0.8093 | Train pre: 0.9943 | Valid pre: 0.8382\n"
     ]
    },
    {
     "name": "stderr",
     "output_type": "stream",
     "text": [
      "\r\n",
      " 23%|████████████████████████████████████████▎                                                                                                                                     | 464/2000 [07:31<25:07,  1.02it/s]"
     ]
    },
    {
     "name": "stdout",
     "output_type": "stream",
     "text": [
      "Epoch 463 | Train loss: 0.0201 | Valid loss: 0.8274\n",
      "Train ACC: 0.9964 | Valid ACC: 0.8107 | Train f1: 0.9966 | Valid f1: 0.8083 | Train pre: 0.9967 | Valid pre: 0.8367\n"
     ]
    },
    {
     "name": "stderr",
     "output_type": "stream",
     "text": [
      "\r\n",
      " 23%|████████████████████████████████████████▍                                                                                                                                     | 465/2000 [07:32<24:06,  1.06it/s]"
     ]
    },
    {
     "name": "stdout",
     "output_type": "stream",
     "text": [
      "Epoch 464 | Train loss: 0.0113 | Valid loss: 0.8328\n",
      "Train ACC: 0.9962 | Valid ACC: 0.8107 | Train f1: 0.9957 | Valid f1: 0.8083 | Train pre: 0.9954 | Valid pre: 0.8366\n"
     ]
    },
    {
     "name": "stderr",
     "output_type": "stream",
     "text": [
      "\r\n",
      " 23%|████████████████████████████████████████▌                                                                                                                                     | 466/2000 [07:33<24:46,  1.03it/s]"
     ]
    },
    {
     "name": "stdout",
     "output_type": "stream",
     "text": [
      "Epoch 465 | Train loss: 0.0130 | Valid loss: 0.8386\n",
      "Train ACC: 0.9947 | Valid ACC: 0.8164 | Train f1: 0.9945 | Valid f1: 0.8127 | Train pre: 0.9944 | Valid pre: 0.8397\n"
     ]
    },
    {
     "name": "stderr",
     "output_type": "stream",
     "text": [
      "\r\n",
      " 23%|████████████████████████████████████████▋                                                                                                                                     | 467/2000 [07:34<24:37,  1.04it/s]"
     ]
    },
    {
     "name": "stdout",
     "output_type": "stream",
     "text": [
      "Epoch 466 | Train loss: 0.0200 | Valid loss: 0.8418\n",
      "Train ACC: 0.9955 | Valid ACC: 0.8125 | Train f1: 0.9953 | Valid f1: 0.8100 | Train pre: 0.9951 | Valid pre: 0.8381\n"
     ]
    },
    {
     "name": "stderr",
     "output_type": "stream",
     "text": [
      "\r\n",
      " 23%|████████████████████████████████████████▋                                                                                                                                     | 468/2000 [07:35<25:22,  1.01it/s]"
     ]
    },
    {
     "name": "stdout",
     "output_type": "stream",
     "text": [
      "Epoch 467 | Train loss: 0.0190 | Valid loss: 0.8448\n",
      "Train ACC: 0.9948 | Valid ACC: 0.8108 | Train f1: 0.9948 | Valid f1: 0.8090 | Train pre: 0.9947 | Valid pre: 0.8379\n"
     ]
    },
    {
     "name": "stderr",
     "output_type": "stream",
     "text": [
      "\r\n",
      " 23%|████████████████████████████████████████▊                                                                                                                                     | 469/2000 [07:36<24:37,  1.04it/s]"
     ]
    },
    {
     "name": "stdout",
     "output_type": "stream",
     "text": [
      "Epoch 468 | Train loss: 0.0161 | Valid loss: 0.8548\n",
      "Train ACC: 0.9959 | Valid ACC: 0.8041 | Train f1: 0.9963 | Valid f1: 0.8000 | Train pre: 0.9968 | Valid pre: 0.8280\n"
     ]
    },
    {
     "name": "stderr",
     "output_type": "stream",
     "text": [
      "\r\n",
      " 24%|████████████████████████████████████████▉                                                                                                                                     | 470/2000 [07:37<24:30,  1.04it/s]"
     ]
    },
    {
     "name": "stdout",
     "output_type": "stream",
     "text": [
      "Epoch 469 | Train loss: 0.0129 | Valid loss: 0.8660\n",
      "Train ACC: 0.9963 | Valid ACC: 0.8041 | Train f1: 0.9973 | Valid f1: 0.8000 | Train pre: 0.9984 | Valid pre: 0.8280\n"
     ]
    },
    {
     "name": "stderr",
     "output_type": "stream",
     "text": [
      "\r\n",
      " 24%|████████████████████████████████████████▉                                                                                                                                     | 471/2000 [07:38<24:26,  1.04it/s]"
     ]
    },
    {
     "name": "stdout",
     "output_type": "stream",
     "text": [
      "Epoch 470 | Train loss: 0.0209 | Valid loss: 0.8679\n",
      "Train ACC: 0.9911 | Valid ACC: 0.8041 | Train f1: 0.9939 | Valid f1: 0.8000 | Train pre: 0.9968 | Valid pre: 0.8280\n"
     ]
    },
    {
     "name": "stderr",
     "output_type": "stream",
     "text": [
      "\r\n",
      " 24%|█████████████████████████████████████████                                                                                                                                     | 472/2000 [07:39<24:35,  1.04it/s]"
     ]
    },
    {
     "name": "stdout",
     "output_type": "stream",
     "text": [
      "Epoch 471 | Train loss: 0.0255 | Valid loss: 0.8703\n",
      "Train ACC: 0.9942 | Valid ACC: 0.8041 | Train f1: 0.9956 | Valid f1: 0.8002 | Train pre: 0.9970 | Valid pre: 0.8282\n"
     ]
    },
    {
     "name": "stderr",
     "output_type": "stream",
     "text": [
      "\r\n",
      " 24%|█████████████████████████████████████████▏                                                                                                                                    | 473/2000 [07:40<24:20,  1.05it/s]"
     ]
    },
    {
     "name": "stdout",
     "output_type": "stream",
     "text": [
      "Epoch 472 | Train loss: 0.0172 | Valid loss: 0.8723\n",
      "Train ACC: 0.9962 | Valid ACC: 0.8030 | Train f1: 0.9965 | Valid f1: 0.7985 | Train pre: 0.9968 | Valid pre: 0.8260\n"
     ]
    },
    {
     "name": "stderr",
     "output_type": "stream",
     "text": [
      "\r\n",
      " 24%|█████████████████████████████████████████▏                                                                                                                                    | 474/2000 [07:41<25:17,  1.01it/s]"
     ]
    },
    {
     "name": "stdout",
     "output_type": "stream",
     "text": [
      "Epoch 473 | Train loss: 0.0134 | Valid loss: 0.8750\n",
      "Train ACC: 0.9964 | Valid ACC: 0.8070 | Train f1: 0.9954 | Valid f1: 0.7986 | Train pre: 0.9946 | Valid pre: 0.8214\n"
     ]
    },
    {
     "name": "stderr",
     "output_type": "stream",
     "text": [
      "\r\n",
      " 24%|█████████████████████████████████████████▎                                                                                                                                    | 475/2000 [07:42<24:54,  1.02it/s]"
     ]
    },
    {
     "name": "stdout",
     "output_type": "stream",
     "text": [
      "Epoch 474 | Train loss: 0.0188 | Valid loss: 0.8743\n",
      "Train ACC: 0.9947 | Valid ACC: 0.8070 | Train f1: 0.9952 | Valid f1: 0.7985 | Train pre: 0.9958 | Valid pre: 0.8215\n"
     ]
    },
    {
     "name": "stderr",
     "output_type": "stream",
     "text": [
      "\r\n",
      " 24%|█████████████████████████████████████████▍                                                                                                                                    | 476/2000 [07:43<25:40,  1.01s/it]"
     ]
    },
    {
     "name": "stdout",
     "output_type": "stream",
     "text": [
      "Epoch 475 | Train loss: 0.0142 | Valid loss: 0.8765\n",
      "Train ACC: 0.9976 | Valid ACC: 0.8058 | Train f1: 0.9968 | Valid f1: 0.7963 | Train pre: 0.9961 | Valid pre: 0.8183\n"
     ]
    },
    {
     "name": "stderr",
     "output_type": "stream",
     "text": [
      "\r\n",
      " 24%|█████████████████████████████████████████▍                                                                                                                                    | 477/2000 [07:44<25:21,  1.00it/s]"
     ]
    },
    {
     "name": "stdout",
     "output_type": "stream",
     "text": [
      "Epoch 476 | Train loss: 0.0116 | Valid loss: 0.8747\n",
      "Train ACC: 0.9980 | Valid ACC: 0.8128 | Train f1: 0.9975 | Valid f1: 0.8045 | Train pre: 0.9970 | Valid pre: 0.8284\n"
     ]
    },
    {
     "name": "stderr",
     "output_type": "stream",
     "text": [
      "\r\n",
      " 24%|█████████████████████████████████████████▌                                                                                                                                    | 478/2000 [07:45<26:00,  1.03s/it]"
     ]
    },
    {
     "name": "stdout",
     "output_type": "stream",
     "text": [
      "Epoch 477 | Train loss: 0.0160 | Valid loss: 0.8733\n",
      "Train ACC: 0.9964 | Valid ACC: 0.8139 | Train f1: 0.9971 | Valid f1: 0.8039 | Train pre: 0.9979 | Valid pre: 0.8139\n"
     ]
    },
    {
     "name": "stderr",
     "output_type": "stream",
     "text": [
      "\r\n",
      " 24%|█████████████████████████████████████████▋                                                                                                                                    | 479/2000 [07:46<24:35,  1.03it/s]"
     ]
    },
    {
     "name": "stdout",
     "output_type": "stream",
     "text": [
      "Epoch 478 | Train loss: 0.0138 | Valid loss: 0.8776\n",
      "Train ACC: 0.9974 | Valid ACC: 0.8084 | Train f1: 0.9968 | Valid f1: 0.8000 | Train pre: 0.9962 | Valid pre: 0.8114\n"
     ]
    },
    {
     "name": "stderr",
     "output_type": "stream",
     "text": [
      "\r\n",
      " 24%|█████████████████████████████████████████▊                                                                                                                                    | 480/2000 [07:47<24:35,  1.03it/s]"
     ]
    },
    {
     "name": "stdout",
     "output_type": "stream",
     "text": [
      "Epoch 479 | Train loss: 0.0159 | Valid loss: 0.8818\n",
      "Train ACC: 0.9968 | Valid ACC: 0.8084 | Train f1: 0.9969 | Valid f1: 0.8027 | Train pre: 0.9970 | Valid pre: 0.8287\n"
     ]
    },
    {
     "name": "stderr",
     "output_type": "stream",
     "text": [
      "\r\n",
      " 24%|█████████████████████████████████████████▊                                                                                                                                    | 481/2000 [07:48<24:52,  1.02it/s]"
     ]
    },
    {
     "name": "stdout",
     "output_type": "stream",
     "text": [
      "Epoch 480 | Train loss: 0.0171 | Valid loss: 0.8814\n",
      "Train ACC: 0.9960 | Valid ACC: 0.8067 | Train f1: 0.9962 | Valid f1: 0.8008 | Train pre: 0.9964 | Valid pre: 0.8269\n"
     ]
    },
    {
     "name": "stderr",
     "output_type": "stream",
     "text": [
      "\r\n",
      " 24%|█████████████████████████████████████████▉                                                                                                                                    | 482/2000 [07:49<24:18,  1.04it/s]"
     ]
    },
    {
     "name": "stdout",
     "output_type": "stream",
     "text": [
      "Epoch 481 | Train loss: 0.0123 | Valid loss: 0.8836\n",
      "Train ACC: 0.9957 | Valid ACC: 0.8068 | Train f1: 0.9964 | Valid f1: 0.8010 | Train pre: 0.9971 | Valid pre: 0.8271\n"
     ]
    },
    {
     "name": "stderr",
     "output_type": "stream",
     "text": [
      "\r\n",
      " 24%|██████████████████████████████████████████                                                                                                                                    | 483/2000 [07:49<24:09,  1.05it/s]"
     ]
    },
    {
     "name": "stdout",
     "output_type": "stream",
     "text": [
      "Epoch 482 | Train loss: 0.0118 | Valid loss: 0.8857\n",
      "Train ACC: 0.9979 | Valid ACC: 0.8062 | Train f1: 0.9978 | Valid f1: 0.8004 | Train pre: 0.9976 | Valid pre: 0.8266\n"
     ]
    },
    {
     "name": "stderr",
     "output_type": "stream",
     "text": [
      "\r\n",
      " 24%|██████████████████████████████████████████                                                                                                                                    | 484/2000 [07:50<24:28,  1.03it/s]"
     ]
    },
    {
     "name": "stdout",
     "output_type": "stream",
     "text": [
      "Epoch 483 | Train loss: 0.0161 | Valid loss: 0.8830\n",
      "Train ACC: 0.9978 | Valid ACC: 0.8064 | Train f1: 0.9974 | Valid f1: 0.8004 | Train pre: 0.9971 | Valid pre: 0.8262\n"
     ]
    },
    {
     "name": "stderr",
     "output_type": "stream",
     "text": [
      "\r\n",
      " 24%|██████████████████████████████████████████▏                                                                                                                                   | 485/2000 [07:51<24:37,  1.03it/s]"
     ]
    },
    {
     "name": "stdout",
     "output_type": "stream",
     "text": [
      "Epoch 484 | Train loss: 0.0195 | Valid loss: 0.8761\n",
      "Train ACC: 0.9975 | Valid ACC: 0.8095 | Train f1: 0.9970 | Valid f1: 0.8031 | Train pre: 0.9965 | Valid pre: 0.8286\n"
     ]
    },
    {
     "name": "stderr",
     "output_type": "stream",
     "text": [
      "\r\n",
      " 24%|██████████████████████████████████████████▎                                                                                                                                   | 486/2000 [07:52<25:09,  1.00it/s]"
     ]
    },
    {
     "name": "stdout",
     "output_type": "stream",
     "text": [
      "Epoch 485 | Train loss: 0.0140 | Valid loss: 0.8662\n",
      "Train ACC: 0.9961 | Valid ACC: 0.8106 | Train f1: 0.9959 | Valid f1: 0.8041 | Train pre: 0.9956 | Valid pre: 0.8294\n"
     ]
    },
    {
     "name": "stderr",
     "output_type": "stream",
     "text": [
      "\r\n",
      " 24%|██████████████████████████████████████████▎                                                                                                                                   | 487/2000 [07:53<24:26,  1.03it/s]"
     ]
    },
    {
     "name": "stdout",
     "output_type": "stream",
     "text": [
      "Epoch 486 | Train loss: 0.0143 | Valid loss: 0.8572\n",
      "Train ACC: 0.9959 | Valid ACC: 0.8065 | Train f1: 0.9968 | Valid f1: 0.8012 | Train pre: 0.9977 | Valid pre: 0.8279\n"
     ]
    },
    {
     "name": "stderr",
     "output_type": "stream",
     "text": [
      "\r\n",
      " 24%|██████████████████████████████████████████▍                                                                                                                                   | 488/2000 [07:54<24:12,  1.04it/s]"
     ]
    },
    {
     "name": "stdout",
     "output_type": "stream",
     "text": [
      "Epoch 487 | Train loss: 0.0202 | Valid loss: 0.8440\n",
      "Train ACC: 0.9952 | Valid ACC: 0.8028 | Train f1: 0.9955 | Valid f1: 0.7980 | Train pre: 0.9957 | Valid pre: 0.8253\n"
     ]
    },
    {
     "name": "stderr",
     "output_type": "stream",
     "text": [
      "\r\n",
      " 24%|██████████████████████████████████████████▌                                                                                                                                   | 489/2000 [07:55<24:24,  1.03it/s]"
     ]
    },
    {
     "name": "stdout",
     "output_type": "stream",
     "text": [
      "Epoch 488 | Train loss: 0.0195 | Valid loss: 0.8287\n",
      "Train ACC: 0.9964 | Valid ACC: 0.8045 | Train f1: 0.9962 | Valid f1: 0.7994 | Train pre: 0.9961 | Valid pre: 0.8265\n"
     ]
    },
    {
     "name": "stderr",
     "output_type": "stream",
     "text": [
      "\r\n",
      " 24%|██████████████████████████████████████████▋                                                                                                                                   | 490/2000 [07:56<24:04,  1.05it/s]"
     ]
    },
    {
     "name": "stdout",
     "output_type": "stream",
     "text": [
      "Epoch 489 | Train loss: 0.0247 | Valid loss: 0.8101\n",
      "Train ACC: 0.9949 | Valid ACC: 0.8044 | Train f1: 0.9953 | Valid f1: 0.7995 | Train pre: 0.9957 | Valid pre: 0.8266\n"
     ]
    },
    {
     "name": "stderr",
     "output_type": "stream",
     "text": [
      "\r\n",
      " 25%|██████████████████████████████████████████▋                                                                                                                                   | 491/2000 [07:57<24:13,  1.04it/s]"
     ]
    },
    {
     "name": "stdout",
     "output_type": "stream",
     "text": [
      "Epoch 490 | Train loss: 0.0207 | Valid loss: 0.7853\n",
      "Train ACC: 0.9678 | Valid ACC: 0.8055 | Train f1: 0.9763 | Valid f1: 0.8005 | Train pre: 0.9942 | Valid pre: 0.8273\n"
     ]
    },
    {
     "name": "stderr",
     "output_type": "stream",
     "text": [
      "\r\n",
      " 25%|██████████████████████████████████████████▊                                                                                                                                   | 492/2000 [07:58<23:54,  1.05it/s]"
     ]
    },
    {
     "name": "stdout",
     "output_type": "stream",
     "text": [
      "Epoch 491 | Train loss: 0.0133 | Valid loss: 0.7699\n",
      "Train ACC: 0.9963 | Valid ACC: 0.8050 | Train f1: 0.9970 | Valid f1: 0.8006 | Train pre: 0.9977 | Valid pre: 0.8281\n"
     ]
    },
    {
     "name": "stderr",
     "output_type": "stream",
     "text": [
      "\r\n",
      " 25%|██████████████████████████████████████████▉                                                                                                                                   | 493/2000 [07:59<24:28,  1.03it/s]"
     ]
    },
    {
     "name": "stdout",
     "output_type": "stream",
     "text": [
      "Epoch 492 | Train loss: 0.0116 | Valid loss: 0.7621\n",
      "Train ACC: 0.9970 | Valid ACC: 0.8057 | Train f1: 0.9964 | Valid f1: 0.8016 | Train pre: 0.9959 | Valid pre: 0.8292\n"
     ]
    },
    {
     "name": "stderr",
     "output_type": "stream",
     "text": [
      "\r\n",
      " 25%|██████████████████████████████████████████▉                                                                                                                                   | 494/2000 [08:00<23:46,  1.06it/s]"
     ]
    },
    {
     "name": "stdout",
     "output_type": "stream",
     "text": [
      "Epoch 493 | Train loss: 0.0132 | Valid loss: 0.7600\n",
      "Train ACC: 0.9970 | Valid ACC: 0.8118 | Train f1: 0.9971 | Valid f1: 0.8064 | Train pre: 0.9973 | Valid pre: 0.8324\n"
     ]
    },
    {
     "name": "stderr",
     "output_type": "stream",
     "text": [
      "\r\n",
      " 25%|███████████████████████████████████████████                                                                                                                                   | 495/2000 [08:01<23:33,  1.06it/s]"
     ]
    },
    {
     "name": "stdout",
     "output_type": "stream",
     "text": [
      "Epoch 494 | Train loss: 0.0135 | Valid loss: 0.7649\n",
      "Train ACC: 0.9981 | Valid ACC: 0.8101 | Train f1: 0.9980 | Valid f1: 0.8043 | Train pre: 0.9980 | Valid pre: 0.8299\n"
     ]
    },
    {
     "name": "stderr",
     "output_type": "stream",
     "text": [
      "\r\n",
      " 25%|███████████████████████████████████████████▏                                                                                                                                  | 496/2000 [08:02<23:56,  1.05it/s]"
     ]
    },
    {
     "name": "stdout",
     "output_type": "stream",
     "text": [
      "Epoch 495 | Train loss: 0.0153 | Valid loss: 0.7720\n",
      "Train ACC: 0.9970 | Valid ACC: 0.8123 | Train f1: 0.9974 | Valid f1: 0.8061 | Train pre: 0.9979 | Valid pre: 0.8315\n"
     ]
    },
    {
     "name": "stderr",
     "output_type": "stream",
     "text": [
      "\r\n",
      " 25%|███████████████████████████████████████████▏                                                                                                                                  | 497/2000 [08:03<23:48,  1.05it/s]"
     ]
    },
    {
     "name": "stdout",
     "output_type": "stream",
     "text": [
      "Epoch 496 | Train loss: 0.0186 | Valid loss: 0.7822\n",
      "Train ACC: 0.9907 | Valid ACC: 0.8116 | Train f1: 0.9922 | Valid f1: 0.8055 | Train pre: 0.9939 | Valid pre: 0.8312\n"
     ]
    },
    {
     "name": "stderr",
     "output_type": "stream",
     "text": [
      "\r\n",
      " 25%|███████████████████████████████████████████▎                                                                                                                                  | 498/2000 [08:04<23:44,  1.05it/s]"
     ]
    },
    {
     "name": "stdout",
     "output_type": "stream",
     "text": [
      "Epoch 497 | Train loss: 0.0149 | Valid loss: 0.7908\n",
      "Train ACC: 0.9971 | Valid ACC: 0.8182 | Train f1: 0.9974 | Valid f1: 0.8154 | Train pre: 0.9978 | Valid pre: 0.8434\n"
     ]
    },
    {
     "name": "stderr",
     "output_type": "stream",
     "text": [
      "\r\n",
      " 25%|███████████████████████████████████████████▍                                                                                                                                  | 499/2000 [08:05<24:24,  1.02it/s]"
     ]
    },
    {
     "name": "stdout",
     "output_type": "stream",
     "text": [
      "Epoch 498 | Train loss: 0.0203 | Valid loss: 0.7934\n",
      "Train ACC: 0.9969 | Valid ACC: 0.8168 | Train f1: 0.9964 | Valid f1: 0.8143 | Train pre: 0.9959 | Valid pre: 0.8426\n"
     ]
    },
    {
     "name": "stderr",
     "output_type": "stream",
     "text": [
      "\r\n",
      " 25%|███████████████████████████████████████████▌                                                                                                                                  | 500/2000 [08:06<25:04,  1.00s/it]"
     ]
    },
    {
     "name": "stdout",
     "output_type": "stream",
     "text": [
      "Epoch 499 | Train loss: 0.0144 | Valid loss: 0.7941\n",
      "Train ACC: 0.9969 | Valid ACC: 0.8162 | Train f1: 0.9975 | Valid f1: 0.8138 | Train pre: 0.9982 | Valid pre: 0.8422\n"
     ]
    },
    {
     "name": "stderr",
     "output_type": "stream",
     "text": [
      "\r\n",
      " 25%|███████████████████████████████████████████▌                                                                                                                                  | 501/2000 [08:07<23:50,  1.05it/s]"
     ]
    },
    {
     "name": "stdout",
     "output_type": "stream",
     "text": [
      "Epoch 500 | Train loss: 0.0139 | Valid loss: 0.7942\n",
      "Train ACC: 0.9980 | Valid ACC: 0.8159 | Train f1: 0.9975 | Valid f1: 0.8137 | Train pre: 0.9971 | Valid pre: 0.8421\n"
     ]
    },
    {
     "name": "stderr",
     "output_type": "stream",
     "text": [
      "\r\n",
      " 25%|███████████████████████████████████████████▋                                                                                                                                  | 502/2000 [08:08<23:53,  1.05it/s]"
     ]
    },
    {
     "name": "stdout",
     "output_type": "stream",
     "text": [
      "Epoch 501 | Train loss: 0.0148 | Valid loss: 0.7987\n",
      "Train ACC: 0.9978 | Valid ACC: 0.8144 | Train f1: 0.9973 | Valid f1: 0.8121 | Train pre: 0.9968 | Valid pre: 0.8404\n"
     ]
    },
    {
     "name": "stderr",
     "output_type": "stream",
     "text": [
      "\r\n",
      " 25%|███████████████████████████████████████████▊                                                                                                                                  | 503/2000 [08:09<24:16,  1.03it/s]"
     ]
    },
    {
     "name": "stdout",
     "output_type": "stream",
     "text": [
      "Epoch 502 | Train loss: 0.0147 | Valid loss: 0.8062\n",
      "Train ACC: 0.9980 | Valid ACC: 0.8155 | Train f1: 0.9975 | Valid f1: 0.8131 | Train pre: 0.9970 | Valid pre: 0.8412\n"
     ]
    },
    {
     "name": "stderr",
     "output_type": "stream",
     "text": [
      "\r\n",
      " 25%|███████████████████████████████████████████▊                                                                                                                                  | 504/2000 [08:10<24:06,  1.03it/s]"
     ]
    },
    {
     "name": "stdout",
     "output_type": "stream",
     "text": [
      "Epoch 503 | Train loss: 0.0199 | Valid loss: 0.8229\n",
      "Train ACC: 0.9940 | Valid ACC: 0.8136 | Train f1: 0.9946 | Valid f1: 0.8116 | Train pre: 0.9952 | Valid pre: 0.8402\n"
     ]
    },
    {
     "name": "stderr",
     "output_type": "stream",
     "text": [
      "\r\n",
      " 25%|███████████████████████████████████████████▉                                                                                                                                  | 505/2000 [08:11<24:50,  1.00it/s]"
     ]
    },
    {
     "name": "stdout",
     "output_type": "stream",
     "text": [
      "Epoch 504 | Train loss: 0.0107 | Valid loss: 0.8410\n",
      "Train ACC: 0.9961 | Valid ACC: 0.8133 | Train f1: 0.9960 | Valid f1: 0.8108 | Train pre: 0.9960 | Valid pre: 0.8390\n"
     ]
    },
    {
     "name": "stderr",
     "output_type": "stream",
     "text": [
      "\r\n",
      " 25%|████████████████████████████████████████████                                                                                                                                  | 506/2000 [08:12<24:34,  1.01it/s]"
     ]
    },
    {
     "name": "stdout",
     "output_type": "stream",
     "text": [
      "Epoch 505 | Train loss: 0.0114 | Valid loss: 0.8527\n",
      "Train ACC: 0.9955 | Valid ACC: 0.8126 | Train f1: 0.9956 | Valid f1: 0.8092 | Train pre: 0.9958 | Valid pre: 0.8363\n"
     ]
    },
    {
     "name": "stderr",
     "output_type": "stream",
     "text": [
      "\r\n",
      " 25%|████████████████████████████████████████████                                                                                                                                  | 507/2000 [08:13<25:25,  1.02s/it]"
     ]
    },
    {
     "name": "stdout",
     "output_type": "stream",
     "text": [
      "Epoch 506 | Train loss: 0.0111 | Valid loss: 0.8654\n",
      "Train ACC: 0.9971 | Valid ACC: 0.8145 | Train f1: 0.9967 | Valid f1: 0.8105 | Train pre: 0.9962 | Valid pre: 0.8371\n"
     ]
    },
    {
     "name": "stderr",
     "output_type": "stream",
     "text": [
      "\r\n",
      " 25%|████████████████████████████████████████████▏                                                                                                                                 | 508/2000 [08:14<24:03,  1.03it/s]"
     ]
    },
    {
     "name": "stdout",
     "output_type": "stream",
     "text": [
      "Epoch 507 | Train loss: 0.0126 | Valid loss: 0.8726\n",
      "Train ACC: 0.9966 | Valid ACC: 0.8146 | Train f1: 0.9965 | Valid f1: 0.8105 | Train pre: 0.9964 | Valid pre: 0.8371\n"
     ]
    },
    {
     "name": "stderr",
     "output_type": "stream",
     "text": [
      "\r\n",
      " 25%|████████████████████████████████████████████▎                                                                                                                                 | 509/2000 [08:15<23:30,  1.06it/s]"
     ]
    },
    {
     "name": "stdout",
     "output_type": "stream",
     "text": [
      "Epoch 508 | Train loss: 0.0134 | Valid loss: 0.8742\n",
      "Train ACC: 0.9965 | Valid ACC: 0.8124 | Train f1: 0.9968 | Valid f1: 0.8089 | Train pre: 0.9972 | Valid pre: 0.8361\n"
     ]
    },
    {
     "name": "stderr",
     "output_type": "stream",
     "text": [
      "\r\n",
      " 26%|████████████████████████████████████████████▎                                                                                                                                 | 510/2000 [08:16<23:11,  1.07it/s]"
     ]
    },
    {
     "name": "stdout",
     "output_type": "stream",
     "text": [
      "Epoch 509 | Train loss: 0.0104 | Valid loss: 0.8767\n",
      "Train ACC: 0.9951 | Valid ACC: 0.8150 | Train f1: 0.9949 | Valid f1: 0.8117 | Train pre: 0.9948 | Valid pre: 0.8391\n"
     ]
    },
    {
     "name": "stderr",
     "output_type": "stream",
     "text": [
      "\r\n",
      " 26%|████████████████████████████████████████████▍                                                                                                                                 | 511/2000 [08:17<23:59,  1.03it/s]"
     ]
    },
    {
     "name": "stdout",
     "output_type": "stream",
     "text": [
      "Epoch 510 | Train loss: 0.0133 | Valid loss: 0.8727\n",
      "Train ACC: 0.9942 | Valid ACC: 0.8159 | Train f1: 0.9959 | Valid f1: 0.8127 | Train pre: 0.9977 | Valid pre: 0.8402\n"
     ]
    },
    {
     "name": "stderr",
     "output_type": "stream",
     "text": [
      "\r\n",
      " 26%|████████████████████████████████████████████▌                                                                                                                                 | 512/2000 [08:17<23:26,  1.06it/s]"
     ]
    },
    {
     "name": "stdout",
     "output_type": "stream",
     "text": [
      "Epoch 511 | Train loss: 0.0162 | Valid loss: 0.8653\n",
      "Train ACC: 0.9976 | Valid ACC: 0.8166 | Train f1: 0.9977 | Valid f1: 0.8135 | Train pre: 0.9978 | Valid pre: 0.8412\n"
     ]
    },
    {
     "name": "stderr",
     "output_type": "stream",
     "text": [
      "\r\n",
      " 26%|████████████████████████████████████████████▋                                                                                                                                 | 513/2000 [08:18<23:52,  1.04it/s]"
     ]
    },
    {
     "name": "stdout",
     "output_type": "stream",
     "text": [
      "Epoch 512 | Train loss: 0.0166 | Valid loss: 0.8624\n",
      "Train ACC: 0.9977 | Valid ACC: 0.8165 | Train f1: 0.9953 | Valid f1: 0.8129 | Train pre: 0.9931 | Valid pre: 0.8398\n"
     ]
    },
    {
     "name": "stderr",
     "output_type": "stream",
     "text": [
      "\r\n",
      " 26%|████████████████████████████████████████████▋                                                                                                                                 | 514/2000 [08:19<23:32,  1.05it/s]"
     ]
    },
    {
     "name": "stdout",
     "output_type": "stream",
     "text": [
      "Epoch 513 | Train loss: 0.0137 | Valid loss: 0.8617\n",
      "Train ACC: 0.9976 | Valid ACC: 0.8152 | Train f1: 0.9970 | Valid f1: 0.8119 | Train pre: 0.9965 | Valid pre: 0.8391\n"
     ]
    },
    {
     "name": "stderr",
     "output_type": "stream",
     "text": [
      "\r\n",
      " 26%|████████████████████████████████████████████▊                                                                                                                                 | 515/2000 [08:20<24:06,  1.03it/s]"
     ]
    },
    {
     "name": "stdout",
     "output_type": "stream",
     "text": [
      "Epoch 514 | Train loss: 0.0160 | Valid loss: 0.8563\n",
      "Train ACC: 0.9952 | Valid ACC: 0.8155 | Train f1: 0.9963 | Valid f1: 0.8123 | Train pre: 0.9974 | Valid pre: 0.8397\n"
     ]
    },
    {
     "name": "stderr",
     "output_type": "stream",
     "text": [
      "\r\n",
      " 26%|████████████████████████████████████████████▉                                                                                                                                 | 516/2000 [08:21<24:52,  1.01s/it]"
     ]
    },
    {
     "name": "stdout",
     "output_type": "stream",
     "text": [
      "Epoch 515 | Train loss: 0.0169 | Valid loss: 0.8426\n",
      "Train ACC: 0.9970 | Valid ACC: 0.8231 | Train f1: 0.9972 | Valid f1: 0.8197 | Train pre: 0.9973 | Valid pre: 0.8456\n"
     ]
    },
    {
     "name": "stderr",
     "output_type": "stream",
     "text": [
      "\r\n",
      " 26%|████████████████████████████████████████████▉                                                                                                                                 | 517/2000 [08:22<23:54,  1.03it/s]"
     ]
    },
    {
     "name": "stdout",
     "output_type": "stream",
     "text": [
      "Epoch 516 | Train loss: 0.0207 | Valid loss: 0.8242\n",
      "Train ACC: 0.9947 | Valid ACC: 0.8222 | Train f1: 0.9958 | Valid f1: 0.8191 | Train pre: 0.9969 | Valid pre: 0.8453\n"
     ]
    },
    {
     "name": "stderr",
     "output_type": "stream",
     "text": [
      "\r\n",
      " 26%|█████████████████████████████████████████████                                                                                                                                 | 518/2000 [08:23<23:29,  1.05it/s]"
     ]
    },
    {
     "name": "stdout",
     "output_type": "stream",
     "text": [
      "Epoch 517 | Train loss: 0.0123 | Valid loss: 0.8179\n",
      "Train ACC: 0.9981 | Valid ACC: 0.8222 | Train f1: 0.9967 | Valid f1: 0.8188 | Train pre: 0.9955 | Valid pre: 0.8447\n"
     ]
    },
    {
     "name": "stderr",
     "output_type": "stream",
     "text": [
      "\r\n",
      " 26%|█████████████████████████████████████████████▏                                                                                                                                | 519/2000 [08:24<24:32,  1.01it/s]"
     ]
    },
    {
     "name": "stdout",
     "output_type": "stream",
     "text": [
      "Epoch 518 | Train loss: 0.0108 | Valid loss: 0.8167\n",
      "Train ACC: 0.9976 | Valid ACC: 0.8169 | Train f1: 0.9976 | Valid f1: 0.8147 | Train pre: 0.9977 | Valid pre: 0.8418\n"
     ]
    },
    {
     "name": "stderr",
     "output_type": "stream",
     "text": [
      "\r\n",
      " 26%|█████████████████████████████████████████████▏                                                                                                                                | 520/2000 [08:25<24:38,  1.00it/s]"
     ]
    },
    {
     "name": "stdout",
     "output_type": "stream",
     "text": [
      "Epoch 519 | Train loss: 0.0111 | Valid loss: 0.8200\n",
      "Train ACC: 0.9987 | Valid ACC: 0.8174 | Train f1: 0.9987 | Valid f1: 0.8148 | Train pre: 0.9986 | Valid pre: 0.8418\n"
     ]
    },
    {
     "name": "stderr",
     "output_type": "stream",
     "text": [
      "\r\n",
      " 26%|█████████████████████████████████████████████▎                                                                                                                                | 521/2000 [08:26<24:19,  1.01it/s]"
     ]
    },
    {
     "name": "stdout",
     "output_type": "stream",
     "text": [
      "Epoch 520 | Train loss: 0.0157 | Valid loss: 0.8248\n",
      "Train ACC: 0.9950 | Valid ACC: 0.8164 | Train f1: 0.9963 | Valid f1: 0.8138 | Train pre: 0.9977 | Valid pre: 0.8410\n"
     ]
    },
    {
     "name": "stderr",
     "output_type": "stream",
     "text": [
      "\r\n",
      " 26%|█████████████████████████████████████████████▍                                                                                                                                | 522/2000 [08:27<23:12,  1.06it/s]"
     ]
    },
    {
     "name": "stdout",
     "output_type": "stream",
     "text": [
      "Epoch 521 | Train loss: 0.0213 | Valid loss: 0.8191\n",
      "Train ACC: 0.9972 | Valid ACC: 0.8162 | Train f1: 0.9968 | Valid f1: 0.8138 | Train pre: 0.9963 | Valid pre: 0.8412\n"
     ]
    },
    {
     "name": "stderr",
     "output_type": "stream",
     "text": [
      "\r\n",
      " 26%|█████████████████████████████████████████████▌                                                                                                                                | 523/2000 [08:28<24:03,  1.02it/s]"
     ]
    },
    {
     "name": "stdout",
     "output_type": "stream",
     "text": [
      "Epoch 522 | Train loss: 0.0138 | Valid loss: 0.8172\n",
      "Train ACC: 0.9962 | Valid ACC: 0.8170 | Train f1: 0.9964 | Valid f1: 0.8145 | Train pre: 0.9966 | Valid pre: 0.8416\n"
     ]
    },
    {
     "name": "stderr",
     "output_type": "stream",
     "text": [
      "\r\n",
      " 26%|█████████████████████████████████████████████▌                                                                                                                                | 524/2000 [08:29<23:42,  1.04it/s]"
     ]
    },
    {
     "name": "stdout",
     "output_type": "stream",
     "text": [
      "Epoch 523 | Train loss: 0.0163 | Valid loss: 0.8210\n",
      "Train ACC: 0.9960 | Valid ACC: 0.8159 | Train f1: 0.9957 | Valid f1: 0.8145 | Train pre: 0.9953 | Valid pre: 0.8426\n"
     ]
    },
    {
     "name": "stderr",
     "output_type": "stream",
     "text": [
      "\r\n",
      " 26%|█████████████████████████████████████████████▋                                                                                                                                | 525/2000 [08:30<24:20,  1.01it/s]"
     ]
    },
    {
     "name": "stdout",
     "output_type": "stream",
     "text": [
      "Epoch 524 | Train loss: 0.0200 | Valid loss: 0.8140\n",
      "Train ACC: 0.9962 | Valid ACC: 0.8164 | Train f1: 0.9962 | Valid f1: 0.8154 | Train pre: 0.9962 | Valid pre: 0.8437\n"
     ]
    },
    {
     "name": "stderr",
     "output_type": "stream",
     "text": [
      "\r\n",
      " 26%|█████████████████████████████████████████████▊                                                                                                                                | 526/2000 [08:31<23:48,  1.03it/s]"
     ]
    },
    {
     "name": "stdout",
     "output_type": "stream",
     "text": [
      "Epoch 525 | Train loss: 0.0144 | Valid loss: 0.8039\n",
      "Train ACC: 0.9945 | Valid ACC: 0.8164 | Train f1: 0.9959 | Valid f1: 0.8154 | Train pre: 0.9974 | Valid pre: 0.8437\n"
     ]
    },
    {
     "name": "stderr",
     "output_type": "stream",
     "text": [
      "\r\n",
      " 26%|█████████████████████████████████████████████▊                                                                                                                                | 527/2000 [08:32<23:05,  1.06it/s]"
     ]
    },
    {
     "name": "stdout",
     "output_type": "stream",
     "text": [
      "Epoch 526 | Train loss: 0.0170 | Valid loss: 0.7976\n",
      "Train ACC: 0.9964 | Valid ACC: 0.8224 | Train f1: 0.9971 | Valid f1: 0.8199 | Train pre: 0.9979 | Valid pre: 0.8465\n"
     ]
    },
    {
     "name": "stderr",
     "output_type": "stream",
     "text": [
      "\r\n",
      " 26%|█████████████████████████████████████████████▉                                                                                                                                | 528/2000 [08:33<23:48,  1.03it/s]"
     ]
    },
    {
     "name": "stdout",
     "output_type": "stream",
     "text": [
      "Epoch 527 | Train loss: 0.0158 | Valid loss: 0.7981\n",
      "Train ACC: 0.9952 | Valid ACC: 0.8142 | Train f1: 0.9940 | Valid f1: 0.8125 | Train pre: 0.9929 | Valid pre: 0.8413\n"
     ]
    },
    {
     "name": "stderr",
     "output_type": "stream",
     "text": [
      "\r\n",
      " 26%|██████████████████████████████████████████████                                                                                                                                | 529/2000 [08:34<22:51,  1.07it/s]"
     ]
    },
    {
     "name": "stdout",
     "output_type": "stream",
     "text": [
      "Epoch 528 | Train loss: 0.0143 | Valid loss: 0.8046\n",
      "Train ACC: 0.9967 | Valid ACC: 0.8117 | Train f1: 0.9967 | Valid f1: 0.8104 | Train pre: 0.9969 | Valid pre: 0.8397\n"
     ]
    },
    {
     "name": "stderr",
     "output_type": "stream",
     "text": [
      "\r\n",
      " 26%|██████████████████████████████████████████████                                                                                                                                | 530/2000 [08:35<23:42,  1.03it/s]"
     ]
    },
    {
     "name": "stdout",
     "output_type": "stream",
     "text": [
      "Epoch 529 | Train loss: 0.0163 | Valid loss: 0.8142\n",
      "Train ACC: 0.9953 | Valid ACC: 0.8141 | Train f1: 0.9964 | Valid f1: 0.8118 | Train pre: 0.9975 | Valid pre: 0.8400\n"
     ]
    },
    {
     "name": "stderr",
     "output_type": "stream",
     "text": [
      "\r\n",
      " 27%|██████████████████████████████████████████████▏                                                                                                                               | 531/2000 [08:36<23:14,  1.05it/s]"
     ]
    },
    {
     "name": "stdout",
     "output_type": "stream",
     "text": [
      "Epoch 530 | Train loss: 0.0150 | Valid loss: 0.8255\n",
      "Train ACC: 0.9986 | Valid ACC: 0.8196 | Train f1: 0.9983 | Valid f1: 0.8158 | Train pre: 0.9980 | Valid pre: 0.8429\n"
     ]
    },
    {
     "name": "stderr",
     "output_type": "stream",
     "text": [
      "\r\n",
      " 27%|██████████████████████████████████████████████▎                                                                                                                               | 532/2000 [08:37<23:50,  1.03it/s]"
     ]
    },
    {
     "name": "stdout",
     "output_type": "stream",
     "text": [
      "Epoch 531 | Train loss: 0.0120 | Valid loss: 0.8387\n",
      "Train ACC: 0.9981 | Valid ACC: 0.8193 | Train f1: 0.9980 | Valid f1: 0.8154 | Train pre: 0.9979 | Valid pre: 0.8424\n"
     ]
    },
    {
     "name": "stderr",
     "output_type": "stream",
     "text": [
      "\r\n",
      " 27%|██████████████████████████████████████████████▎                                                                                                                               | 533/2000 [08:38<23:27,  1.04it/s]"
     ]
    },
    {
     "name": "stdout",
     "output_type": "stream",
     "text": [
      "Epoch 532 | Train loss: 0.0132 | Valid loss: 0.8437\n",
      "Train ACC: 0.9970 | Valid ACC: 0.8191 | Train f1: 0.9967 | Valid f1: 0.8153 | Train pre: 0.9965 | Valid pre: 0.8423\n"
     ]
    },
    {
     "name": "stderr",
     "output_type": "stream",
     "text": [
      "\r\n",
      " 27%|██████████████████████████████████████████████▍                                                                                                                               | 534/2000 [08:39<24:04,  1.02it/s]"
     ]
    },
    {
     "name": "stdout",
     "output_type": "stream",
     "text": [
      "Epoch 533 | Train loss: 0.0131 | Valid loss: 0.8395\n",
      "Train ACC: 0.9971 | Valid ACC: 0.8146 | Train f1: 0.9975 | Valid f1: 0.8105 | Train pre: 0.9978 | Valid pre: 0.8250\n"
     ]
    },
    {
     "name": "stderr",
     "output_type": "stream",
     "text": [
      "\r\n",
      " 27%|██████████████████████████████████████████████▌                                                                                                                               | 535/2000 [08:40<24:01,  1.02it/s]"
     ]
    },
    {
     "name": "stdout",
     "output_type": "stream",
     "text": [
      "Epoch 534 | Train loss: 0.0176 | Valid loss: 0.8252\n",
      "Train ACC: 0.9956 | Valid ACC: 0.8147 | Train f1: 0.9958 | Valid f1: 0.8109 | Train pre: 0.9959 | Valid pre: 0.8256\n"
     ]
    },
    {
     "name": "stderr",
     "output_type": "stream",
     "text": [
      "\r\n",
      " 27%|██████████████████████████████████████████████▋                                                                                                                               | 536/2000 [08:41<23:27,  1.04it/s]"
     ]
    },
    {
     "name": "stdout",
     "output_type": "stream",
     "text": [
      "Epoch 535 | Train loss: 0.0114 | Valid loss: 0.8137\n",
      "Train ACC: 0.9956 | Valid ACC: 0.8150 | Train f1: 0.9968 | Valid f1: 0.8114 | Train pre: 0.9979 | Valid pre: 0.8261\n"
     ]
    },
    {
     "name": "stderr",
     "output_type": "stream",
     "text": [
      "\r\n",
      " 27%|██████████████████████████████████████████████▋                                                                                                                               | 537/2000 [08:42<24:24,  1.00s/it]"
     ]
    },
    {
     "name": "stdout",
     "output_type": "stream",
     "text": [
      "Epoch 536 | Train loss: 0.0148 | Valid loss: 0.8057\n",
      "Train ACC: 0.9971 | Valid ACC: 0.8217 | Train f1: 0.9971 | Valid f1: 0.8187 | Train pre: 0.9971 | Valid pre: 0.8303\n"
     ]
    },
    {
     "name": "stderr",
     "output_type": "stream",
     "text": [
      "\r\n",
      " 27%|██████████████████████████████████████████████▊                                                                                                                               | 538/2000 [08:43<23:40,  1.03it/s]"
     ]
    },
    {
     "name": "stdout",
     "output_type": "stream",
     "text": [
      "Epoch 537 | Train loss: 0.0087 | Valid loss: 0.8040\n",
      "Train ACC: 0.9985 | Valid ACC: 0.8219 | Train f1: 0.9981 | Valid f1: 0.8185 | Train pre: 0.9978 | Valid pre: 0.8295\n"
     ]
    },
    {
     "name": "stderr",
     "output_type": "stream",
     "text": [
      "\r\n",
      " 27%|██████████████████████████████████████████████▉                                                                                                                               | 539/2000 [08:44<23:14,  1.05it/s]"
     ]
    },
    {
     "name": "stdout",
     "output_type": "stream",
     "text": [
      "Epoch 538 | Train loss: 0.0126 | Valid loss: 0.8089\n",
      "Train ACC: 0.9979 | Valid ACC: 0.8219 | Train f1: 0.9978 | Valid f1: 0.8185 | Train pre: 0.9977 | Valid pre: 0.8295\n"
     ]
    },
    {
     "name": "stderr",
     "output_type": "stream",
     "text": [
      "\r\n",
      " 27%|██████████████████████████████████████████████▉                                                                                                                               | 540/2000 [08:45<23:27,  1.04it/s]"
     ]
    },
    {
     "name": "stdout",
     "output_type": "stream",
     "text": [
      "Epoch 539 | Train loss: 0.0118 | Valid loss: 0.8123\n",
      "Train ACC: 0.9971 | Valid ACC: 0.8221 | Train f1: 0.9973 | Valid f1: 0.8190 | Train pre: 0.9976 | Valid pre: 0.8304\n"
     ]
    },
    {
     "name": "stderr",
     "output_type": "stream",
     "text": [
      "\r\n",
      " 27%|███████████████████████████████████████████████                                                                                                                               | 541/2000 [08:46<22:57,  1.06it/s]"
     ]
    },
    {
     "name": "stdout",
     "output_type": "stream",
     "text": [
      "Epoch 540 | Train loss: 0.0135 | Valid loss: 0.8183\n",
      "Train ACC: 0.9977 | Valid ACC: 0.8177 | Train f1: 0.9972 | Valid f1: 0.8137 | Train pre: 0.9966 | Valid pre: 0.8279\n"
     ]
    },
    {
     "name": "stderr",
     "output_type": "stream",
     "text": [
      "\r\n",
      " 27%|███████████████████████████████████████████████▏                                                                                                                              | 542/2000 [08:47<23:10,  1.05it/s]"
     ]
    },
    {
     "name": "stdout",
     "output_type": "stream",
     "text": [
      "Epoch 541 | Train loss: 0.0141 | Valid loss: 0.8269\n",
      "Train ACC: 0.9942 | Valid ACC: 0.8161 | Train f1: 0.9938 | Valid f1: 0.8111 | Train pre: 0.9936 | Valid pre: 0.8244\n"
     ]
    },
    {
     "name": "stderr",
     "output_type": "stream",
     "text": [
      "\r\n",
      " 27%|███████████████████████████████████████████████▏                                                                                                                              | 543/2000 [08:47<23:04,  1.05it/s]"
     ]
    },
    {
     "name": "stdout",
     "output_type": "stream",
     "text": [
      "Epoch 542 | Train loss: 0.0124 | Valid loss: 0.8304\n",
      "Train ACC: 0.9967 | Valid ACC: 0.8090 | Train f1: 0.9971 | Valid f1: 0.8052 | Train pre: 0.9976 | Valid pre: 0.8200\n"
     ]
    },
    {
     "name": "stderr",
     "output_type": "stream",
     "text": [
      "\r\n",
      " 27%|███████████████████████████████████████████████▎                                                                                                                              | 544/2000 [08:48<23:27,  1.03it/s]"
     ]
    },
    {
     "name": "stdout",
     "output_type": "stream",
     "text": [
      "Epoch 543 | Train loss: 0.0126 | Valid loss: 0.8371\n",
      "Train ACC: 0.9965 | Valid ACC: 0.8075 | Train f1: 0.9970 | Valid f1: 0.8039 | Train pre: 0.9976 | Valid pre: 0.8191\n"
     ]
    },
    {
     "name": "stderr",
     "output_type": "stream",
     "text": [
      "\r\n",
      " 27%|███████████████████████████████████████████████▍                                                                                                                              | 545/2000 [08:49<22:33,  1.07it/s]"
     ]
    },
    {
     "name": "stdout",
     "output_type": "stream",
     "text": [
      "Epoch 544 | Train loss: 0.0122 | Valid loss: 0.8459\n",
      "Train ACC: 0.9966 | Valid ACC: 0.8018 | Train f1: 0.9961 | Valid f1: 0.7962 | Train pre: 0.9956 | Valid pre: 0.8233\n"
     ]
    },
    {
     "name": "stderr",
     "output_type": "stream",
     "text": [
      "\r\n",
      " 27%|███████████████████████████████████████████████▌                                                                                                                              | 546/2000 [08:50<22:55,  1.06it/s]"
     ]
    },
    {
     "name": "stdout",
     "output_type": "stream",
     "text": [
      "Epoch 545 | Train loss: 0.0157 | Valid loss: 0.8467\n",
      "Train ACC: 0.9938 | Valid ACC: 0.8018 | Train f1: 0.9954 | Valid f1: 0.7946 | Train pre: 0.9970 | Valid pre: 0.8081\n"
     ]
    },
    {
     "name": "stderr",
     "output_type": "stream",
     "text": [
      "\r\n",
      " 27%|███████████████████████████████████████████████▌                                                                                                                              | 547/2000 [08:51<23:41,  1.02it/s]"
     ]
    },
    {
     "name": "stdout",
     "output_type": "stream",
     "text": [
      "Epoch 546 | Train loss: 0.0178 | Valid loss: 0.8363\n",
      "Train ACC: 0.9938 | Valid ACC: 0.8028 | Train f1: 0.9948 | Valid f1: 0.7957 | Train pre: 0.9959 | Valid pre: 0.8089\n"
     ]
    },
    {
     "name": "stderr",
     "output_type": "stream",
     "text": [
      "\r\n",
      " 27%|███████████████████████████████████████████████▋                                                                                                                              | 548/2000 [08:52<22:57,  1.05it/s]"
     ]
    },
    {
     "name": "stdout",
     "output_type": "stream",
     "text": [
      "Epoch 547 | Train loss: 0.0111 | Valid loss: 0.8252\n",
      "Train ACC: 0.9973 | Valid ACC: 0.8039 | Train f1: 0.9981 | Valid f1: 0.7966 | Train pre: 0.9989 | Valid pre: 0.8098\n"
     ]
    },
    {
     "name": "stderr",
     "output_type": "stream",
     "text": [
      "\r\n",
      " 27%|███████████████████████████████████████████████▊                                                                                                                              | 549/2000 [08:53<23:10,  1.04it/s]"
     ]
    },
    {
     "name": "stdout",
     "output_type": "stream",
     "text": [
      "Epoch 548 | Train loss: 0.0126 | Valid loss: 0.8204\n",
      "Train ACC: 0.9966 | Valid ACC: 0.8036 | Train f1: 0.9959 | Valid f1: 0.7965 | Train pre: 0.9951 | Valid pre: 0.8097\n"
     ]
    },
    {
     "name": "stderr",
     "output_type": "stream",
     "text": [
      "\r\n",
      " 28%|███████████████████████████████████████████████▊                                                                                                                              | 550/2000 [08:54<23:30,  1.03it/s]"
     ]
    },
    {
     "name": "stdout",
     "output_type": "stream",
     "text": [
      "Epoch 549 | Train loss: 0.0132 | Valid loss: 0.8251\n",
      "Train ACC: 0.9982 | Valid ACC: 0.8030 | Train f1: 0.9977 | Valid f1: 0.7961 | Train pre: 0.9972 | Valid pre: 0.8093\n"
     ]
    },
    {
     "name": "stderr",
     "output_type": "stream",
     "text": [
      "\r\n",
      " 28%|███████████████████████████████████████████████▉                                                                                                                              | 551/2000 [08:55<23:15,  1.04it/s]"
     ]
    },
    {
     "name": "stdout",
     "output_type": "stream",
     "text": [
      "Epoch 550 | Train loss: 0.0113 | Valid loss: 0.8314\n",
      "Train ACC: 0.9977 | Valid ACC: 0.7988 | Train f1: 0.9979 | Valid f1: 0.7929 | Train pre: 0.9981 | Valid pre: 0.8073\n"
     ]
    },
    {
     "name": "stderr",
     "output_type": "stream",
     "text": [
      "\r\n",
      " 28%|████████████████████████████████████████████████                                                                                                                              | 552/2000 [08:56<23:54,  1.01it/s]"
     ]
    },
    {
     "name": "stdout",
     "output_type": "stream",
     "text": [
      "Epoch 551 | Train loss: 0.0154 | Valid loss: 0.8397\n",
      "Train ACC: 0.9955 | Valid ACC: 0.7990 | Train f1: 0.9963 | Valid f1: 0.7939 | Train pre: 0.9971 | Valid pre: 0.8091\n"
     ]
    },
    {
     "name": "stderr",
     "output_type": "stream",
     "text": [
      "\r\n",
      " 28%|████████████████████████████████████████████████                                                                                                                              | 553/2000 [08:57<23:38,  1.02it/s]"
     ]
    },
    {
     "name": "stdout",
     "output_type": "stream",
     "text": [
      "Epoch 552 | Train loss: 0.0163 | Valid loss: 0.8561\n",
      "Train ACC: 0.9956 | Valid ACC: 0.7980 | Train f1: 0.9951 | Valid f1: 0.7926 | Train pre: 0.9947 | Valid pre: 0.8076\n"
     ]
    },
    {
     "name": "stderr",
     "output_type": "stream",
     "text": [
      "\r\n",
      " 28%|████████████████████████████████████████████████▏                                                                                                                             | 554/2000 [08:58<22:50,  1.06it/s]"
     ]
    },
    {
     "name": "stdout",
     "output_type": "stream",
     "text": [
      "Epoch 553 | Train loss: 0.0136 | Valid loss: 0.8712\n",
      "Train ACC: 0.9958 | Valid ACC: 0.8028 | Train f1: 0.9956 | Valid f1: 0.7980 | Train pre: 0.9955 | Valid pre: 0.8257\n"
     ]
    },
    {
     "name": "stderr",
     "output_type": "stream",
     "text": [
      "\r\n",
      " 28%|████████████████████████████████████████████████▎                                                                                                                             | 555/2000 [08:59<23:54,  1.01it/s]"
     ]
    },
    {
     "name": "stdout",
     "output_type": "stream",
     "text": [
      "Epoch 554 | Train loss: 0.0168 | Valid loss: 0.8788\n",
      "Train ACC: 0.9962 | Valid ACC: 0.8020 | Train f1: 0.9957 | Valid f1: 0.7975 | Train pre: 0.9953 | Valid pre: 0.8254\n"
     ]
    },
    {
     "name": "stderr",
     "output_type": "stream",
     "text": [
      "\r\n",
      " 28%|████████████████████████████████████████████████▎                                                                                                                             | 556/2000 [09:00<23:21,  1.03it/s]"
     ]
    },
    {
     "name": "stdout",
     "output_type": "stream",
     "text": [
      "Epoch 555 | Train loss: 0.0155 | Valid loss: 0.8822\n",
      "Train ACC: 0.9968 | Valid ACC: 0.8024 | Train f1: 0.9960 | Valid f1: 0.7979 | Train pre: 0.9953 | Valid pre: 0.8260\n"
     ]
    },
    {
     "name": "stderr",
     "output_type": "stream",
     "text": [
      "\r\n",
      " 28%|████████████████████████████████████████████████▍                                                                                                                             | 557/2000 [09:01<22:47,  1.06it/s]"
     ]
    },
    {
     "name": "stdout",
     "output_type": "stream",
     "text": [
      "Epoch 556 | Train loss: 0.0160 | Valid loss: 0.8811\n",
      "Train ACC: 0.9975 | Valid ACC: 0.8005 | Train f1: 0.9973 | Valid f1: 0.7960 | Train pre: 0.9971 | Valid pre: 0.8241\n"
     ]
    },
    {
     "name": "stderr",
     "output_type": "stream",
     "text": [
      "\r\n",
      " 28%|████████████████████████████████████████████████▌                                                                                                                             | 558/2000 [09:02<23:12,  1.04it/s]"
     ]
    },
    {
     "name": "stdout",
     "output_type": "stream",
     "text": [
      "Epoch 557 | Train loss: 0.0109 | Valid loss: 0.8839\n",
      "Train ACC: 0.9980 | Valid ACC: 0.8002 | Train f1: 0.9983 | Valid f1: 0.7954 | Train pre: 0.9986 | Valid pre: 0.8230\n"
     ]
    },
    {
     "name": "stderr",
     "output_type": "stream",
     "text": [
      "\r\n",
      " 28%|████████████████████████████████████████████████▋                                                                                                                             | 559/2000 [09:03<23:24,  1.03it/s]"
     ]
    },
    {
     "name": "stdout",
     "output_type": "stream",
     "text": [
      "Epoch 558 | Train loss: 0.0136 | Valid loss: 0.8828\n",
      "Train ACC: 0.9967 | Valid ACC: 0.7998 | Train f1: 0.9972 | Valid f1: 0.7949 | Train pre: 0.9978 | Valid pre: 0.8225\n"
     ]
    },
    {
     "name": "stderr",
     "output_type": "stream",
     "text": [
      "\r\n",
      " 28%|████████████████████████████████████████████████▋                                                                                                                             | 560/2000 [09:04<23:11,  1.03it/s]"
     ]
    },
    {
     "name": "stdout",
     "output_type": "stream",
     "text": [
      "Epoch 559 | Train loss: 0.0170 | Valid loss: 0.8774\n",
      "Train ACC: 0.9970 | Valid ACC: 0.7998 | Train f1: 0.9969 | Valid f1: 0.7949 | Train pre: 0.9968 | Valid pre: 0.8225\n"
     ]
    },
    {
     "name": "stderr",
     "output_type": "stream",
     "text": [
      "\r\n",
      " 28%|████████████████████████████████████████████████▊                                                                                                                             | 561/2000 [09:05<23:43,  1.01it/s]"
     ]
    },
    {
     "name": "stdout",
     "output_type": "stream",
     "text": [
      "Epoch 560 | Train loss: 0.0147 | Valid loss: 0.8741\n",
      "Train ACC: 0.9969 | Valid ACC: 0.8015 | Train f1: 0.9976 | Valid f1: 0.7968 | Train pre: 0.9984 | Valid pre: 0.8245\n"
     ]
    },
    {
     "name": "stderr",
     "output_type": "stream",
     "text": [
      "\r\n",
      " 28%|████████████████████████████████████████████████▉                                                                                                                             | 562/2000 [09:06<24:11,  1.01s/it]"
     ]
    },
    {
     "name": "stdout",
     "output_type": "stream",
     "text": [
      "Epoch 561 | Train loss: 0.0162 | Valid loss: 0.8680\n",
      "Train ACC: 0.9973 | Valid ACC: 0.8004 | Train f1: 0.9975 | Valid f1: 0.7991 | Train pre: 0.9977 | Valid pre: 0.8320\n"
     ]
    },
    {
     "name": "stderr",
     "output_type": "stream",
     "text": [
      "\r\n",
      " 28%|████████████████████████████████████████████████▉                                                                                                                             | 563/2000 [09:07<23:15,  1.03it/s]"
     ]
    },
    {
     "name": "stdout",
     "output_type": "stream",
     "text": [
      "Epoch 562 | Train loss: 0.0171 | Valid loss: 0.8604\n",
      "Train ACC: 0.9955 | Valid ACC: 0.8007 | Train f1: 0.9965 | Valid f1: 0.7993 | Train pre: 0.9976 | Valid pre: 0.8320\n"
     ]
    },
    {
     "name": "stderr",
     "output_type": "stream",
     "text": [
      "\r\n",
      " 28%|█████████████████████████████████████████████████                                                                                                                             | 564/2000 [09:08<23:23,  1.02it/s]"
     ]
    },
    {
     "name": "stdout",
     "output_type": "stream",
     "text": [
      "Epoch 563 | Train loss: 0.0150 | Valid loss: 0.8535\n",
      "Train ACC: 0.9971 | Valid ACC: 0.8003 | Train f1: 0.9976 | Valid f1: 0.7988 | Train pre: 0.9982 | Valid pre: 0.8315\n"
     ]
    },
    {
     "name": "stderr",
     "output_type": "stream",
     "text": [
      "\r\n",
      " 28%|█████████████████████████████████████████████████▏                                                                                                                            | 565/2000 [09:09<23:12,  1.03it/s]"
     ]
    },
    {
     "name": "stdout",
     "output_type": "stream",
     "text": [
      "Epoch 564 | Train loss: 0.0178 | Valid loss: 0.8415\n",
      "Train ACC: 0.9974 | Valid ACC: 0.7985 | Train f1: 0.9972 | Valid f1: 0.7969 | Train pre: 0.9970 | Valid pre: 0.8298\n"
     ]
    },
    {
     "name": "stderr",
     "output_type": "stream",
     "text": [
      "\r\n",
      " 28%|█████████████████████████████████████████████████▏                                                                                                                            | 566/2000 [09:10<22:52,  1.04it/s]"
     ]
    },
    {
     "name": "stdout",
     "output_type": "stream",
     "text": [
      "Epoch 565 | Train loss: 0.0143 | Valid loss: 0.8306\n",
      "Train ACC: 0.9971 | Valid ACC: 0.8030 | Train f1: 0.9972 | Valid f1: 0.8002 | Train pre: 0.9973 | Valid pre: 0.8316\n"
     ]
    },
    {
     "name": "stderr",
     "output_type": "stream",
     "text": [
      "\r\n",
      " 28%|█████████████████████████████████████████████████▎                                                                                                                            | 567/2000 [09:11<24:01,  1.01s/it]"
     ]
    },
    {
     "name": "stdout",
     "output_type": "stream",
     "text": [
      "Epoch 566 | Train loss: 0.0133 | Valid loss: 0.8200\n",
      "Train ACC: 0.9944 | Valid ACC: 0.8012 | Train f1: 0.9955 | Valid f1: 0.7977 | Train pre: 0.9966 | Valid pre: 0.8286\n"
     ]
    },
    {
     "name": "stderr",
     "output_type": "stream",
     "text": [
      "\r\n",
      " 28%|█████████████████████████████████████████████████▍                                                                                                                            | 568/2000 [09:12<23:28,  1.02it/s]"
     ]
    },
    {
     "name": "stdout",
     "output_type": "stream",
     "text": [
      "Epoch 567 | Train loss: 0.0125 | Valid loss: 0.8108\n",
      "Train ACC: 0.9928 | Valid ACC: 0.8177 | Train f1: 0.9953 | Valid f1: 0.8161 | Train pre: 0.9979 | Valid pre: 0.8307\n"
     ]
    },
    {
     "name": "stderr",
     "output_type": "stream",
     "text": [
      "\r\n",
      " 28%|█████████████████████████████████████████████████▌                                                                                                                            | 569/2000 [09:13<23:56,  1.00s/it]"
     ]
    },
    {
     "name": "stdout",
     "output_type": "stream",
     "text": [
      "Epoch 568 | Train loss: 0.0147 | Valid loss: 0.8026\n",
      "Train ACC: 0.9983 | Valid ACC: 0.8234 | Train f1: 0.9974 | Valid f1: 0.8169 | Train pre: 0.9966 | Valid pre: 0.8256\n"
     ]
    },
    {
     "name": "stderr",
     "output_type": "stream",
     "text": [
      "\r\n",
      " 28%|█████████████████████████████████████████████████▌                                                                                                                            | 570/2000 [09:14<23:32,  1.01it/s]"
     ]
    },
    {
     "name": "stdout",
     "output_type": "stream",
     "text": [
      "Epoch 569 | Train loss: 0.0137 | Valid loss: 0.7938\n",
      "Train ACC: 0.9977 | Valid ACC: 0.8234 | Train f1: 0.9980 | Valid f1: 0.8169 | Train pre: 0.9983 | Valid pre: 0.8256\n"
     ]
    },
    {
     "name": "stderr",
     "output_type": "stream",
     "text": [
      "\r\n",
      " 29%|█████████████████████████████████████████████████▋                                                                                                                            | 571/2000 [09:15<24:03,  1.01s/it]"
     ]
    },
    {
     "name": "stdout",
     "output_type": "stream",
     "text": [
      "Epoch 570 | Train loss: 0.0097 | Valid loss: 0.7900\n",
      "Train ACC: 0.9697 | Valid ACC: 0.8236 | Train f1: 0.9788 | Valid f1: 0.8167 | Train pre: 0.9972 | Valid pre: 0.8248\n"
     ]
    },
    {
     "name": "stderr",
     "output_type": "stream",
     "text": [
      "\r\n",
      " 29%|█████████████████████████████████████████████████▊                                                                                                                            | 572/2000 [09:16<23:46,  1.00it/s]"
     ]
    },
    {
     "name": "stdout",
     "output_type": "stream",
     "text": [
      "Epoch 571 | Train loss: 0.0167 | Valid loss: 0.7854\n",
      "Train ACC: 0.9974 | Valid ACC: 0.8231 | Train f1: 0.9969 | Valid f1: 0.8163 | Train pre: 0.9964 | Valid pre: 0.8245\n"
     ]
    },
    {
     "name": "stderr",
     "output_type": "stream",
     "text": [
      "\r\n",
      " 29%|█████████████████████████████████████████████████▊                                                                                                                            | 573/2000 [09:17<23:59,  1.01s/it]"
     ]
    },
    {
     "name": "stdout",
     "output_type": "stream",
     "text": [
      "Epoch 572 | Train loss: 0.0180 | Valid loss: 0.7758\n",
      "Train ACC: 0.9970 | Valid ACC: 0.8241 | Train f1: 0.9970 | Valid f1: 0.8176 | Train pre: 0.9970 | Valid pre: 0.8260\n"
     ]
    },
    {
     "name": "stderr",
     "output_type": "stream",
     "text": [
      "\r\n",
      " 29%|█████████████████████████████████████████████████▉                                                                                                                            | 574/2000 [09:18<23:11,  1.02it/s]"
     ]
    },
    {
     "name": "stdout",
     "output_type": "stream",
     "text": [
      "Epoch 573 | Train loss: 0.0206 | Valid loss: 0.7652\n",
      "Train ACC: 0.9939 | Valid ACC: 0.8238 | Train f1: 0.9950 | Valid f1: 0.8178 | Train pre: 0.9962 | Valid pre: 0.8268\n"
     ]
    },
    {
     "name": "stderr",
     "output_type": "stream",
     "text": [
      "\r\n",
      " 29%|██████████████████████████████████████████████████                                                                                                                            | 575/2000 [09:19<22:04,  1.08it/s]"
     ]
    },
    {
     "name": "stdout",
     "output_type": "stream",
     "text": [
      "Epoch 574 | Train loss: 0.0146 | Valid loss: 0.7682\n",
      "Train ACC: 0.9969 | Valid ACC: 0.8248 | Train f1: 0.9961 | Valid f1: 0.8196 | Train pre: 0.9952 | Valid pre: 0.8294\n"
     ]
    },
    {
     "name": "stderr",
     "output_type": "stream",
     "text": [
      "\r\n",
      " 29%|██████████████████████████████████████████████████                                                                                                                            | 576/2000 [09:20<22:15,  1.07it/s]"
     ]
    },
    {
     "name": "stdout",
     "output_type": "stream",
     "text": [
      "Epoch 575 | Train loss: 0.0144 | Valid loss: 0.7735\n",
      "Train ACC: 0.9694 | Valid ACC: 0.8248 | Train f1: 0.9788 | Valid f1: 0.8196 | Train pre: 0.9974 | Valid pre: 0.8294\n"
     ]
    },
    {
     "name": "stderr",
     "output_type": "stream",
     "text": [
      "\r\n",
      " 29%|██████████████████████████████████████████████████▏                                                                                                                           | 577/2000 [09:20<21:59,  1.08it/s]"
     ]
    },
    {
     "name": "stdout",
     "output_type": "stream",
     "text": [
      "Epoch 576 | Train loss: 0.0151 | Valid loss: 0.7763\n",
      "Train ACC: 0.9972 | Valid ACC: 0.8239 | Train f1: 0.9970 | Valid f1: 0.8194 | Train pre: 0.9968 | Valid pre: 0.8298\n"
     ]
    },
    {
     "name": "stderr",
     "output_type": "stream",
     "text": [
      "\r\n",
      " 29%|██████████████████████████████████████████████████▎                                                                                                                           | 578/2000 [09:22<22:54,  1.03it/s]"
     ]
    },
    {
     "name": "stdout",
     "output_type": "stream",
     "text": [
      "Epoch 577 | Train loss: 0.0148 | Valid loss: 0.7804\n",
      "Train ACC: 0.9963 | Valid ACC: 0.8211 | Train f1: 0.9967 | Valid f1: 0.8177 | Train pre: 0.9972 | Valid pre: 0.8293\n"
     ]
    },
    {
     "name": "stderr",
     "output_type": "stream",
     "text": [
      "\r\n",
      " 29%|██████████████████████████████████████████████████▎                                                                                                                           | 579/2000 [09:23<23:11,  1.02it/s]"
     ]
    },
    {
     "name": "stdout",
     "output_type": "stream",
     "text": [
      "Epoch 578 | Train loss: 0.0174 | Valid loss: 0.7832\n",
      "Train ACC: 0.9974 | Valid ACC: 0.8178 | Train f1: 0.9967 | Valid f1: 0.8154 | Train pre: 0.9961 | Valid pre: 0.8282\n"
     ]
    },
    {
     "name": "stderr",
     "output_type": "stream",
     "text": [
      "\r\n",
      " 29%|██████████████████████████████████████████████████▍                                                                                                                           | 580/2000 [09:23<22:10,  1.07it/s]"
     ]
    },
    {
     "name": "stdout",
     "output_type": "stream",
     "text": [
      "Epoch 579 | Train loss: 0.0181 | Valid loss: 0.7739\n",
      "Train ACC: 0.9957 | Valid ACC: 0.8174 | Train f1: 0.9962 | Valid f1: 0.8149 | Train pre: 0.9968 | Valid pre: 0.8276\n"
     ]
    },
    {
     "name": "stderr",
     "output_type": "stream",
     "text": [
      "\r\n",
      " 29%|██████████████████████████████████████████████████▌                                                                                                                           | 581/2000 [09:24<22:32,  1.05it/s]"
     ]
    },
    {
     "name": "stdout",
     "output_type": "stream",
     "text": [
      "Epoch 580 | Train loss: 0.0100 | Valid loss: 0.7687\n",
      "Train ACC: 0.9984 | Valid ACC: 0.8176 | Train f1: 0.9986 | Valid f1: 0.8153 | Train pre: 0.9987 | Valid pre: 0.8281\n"
     ]
    },
    {
     "name": "stderr",
     "output_type": "stream",
     "text": [
      "\r\n",
      " 29%|██████████████████████████████████████████████████▋                                                                                                                           | 582/2000 [09:25<22:59,  1.03it/s]"
     ]
    },
    {
     "name": "stdout",
     "output_type": "stream",
     "text": [
      "Epoch 581 | Train loss: 0.0183 | Valid loss: 0.7694\n",
      "Train ACC: 0.9973 | Valid ACC: 0.8251 | Train f1: 0.9969 | Valid f1: 0.8220 | Train pre: 0.9965 | Valid pre: 0.8324\n"
     ]
    },
    {
     "name": "stderr",
     "output_type": "stream",
     "text": [
      "\r\n",
      " 29%|██████████████████████████████████████████████████▋                                                                                                                           | 582/2000 [09:26<23:01,  1.03it/s]"
     ]
    },
    {
     "name": "stdout",
     "output_type": "stream",
     "text": [
      "Epoch 582 | Train loss: 0.0153 | Valid loss: 0.7673\n",
      "Train ACC: 0.9979 | Valid ACC: 0.8263 | Train f1: 0.9978 | Valid f1: 0.8234 | Train pre: 0.9978 | Valid pre: 0.8339\n",
      "Early stopped. Best validation performance achieved at epoch 382.\n"
     ]
    },
    {
     "name": "stderr",
     "output_type": "stream",
     "text": [
      "\n"
     ]
    },
    {
     "data": {
      "text/plain": [
       "<CellPLM.pipeline.cell_type_annotation.CellTypeAnnotationPipeline at 0x7f23772c6a60>"
      ]
     },
     "execution_count": 6,
     "metadata": {},
     "output_type": "execute_result"
    }
   ],
   "source": [
    "pipeline.fit(data, # An AnnData object\n",
    "            pipeline_config, # The config dictionary we created previously, optional\n",
    "            split_field = 'split', #  Specify a column in .obs that contains split information\n",
    "            train_split = 'train',\n",
    "            valid_split = 'valid',\n",
    "            label_fields = ['celltype']) # Specify a column in .obs that contains cell type labels"
   ]
  },
  {
   "cell_type": "markdown",
   "id": "172f80ee",
   "metadata": {},
   "source": [
    "## Inference and evaluation\n",
    "Once the pipeline has been fitted to the downstream datasets, performing inference or evaluation on new datasets can be easily accomplished using the built-in `predict` and `score` functions."
   ]
  },
  {
   "cell_type": "code",
   "execution_count": 7,
   "id": "99af1706",
   "metadata": {},
   "outputs": [
    {
     "name": "stdout",
     "output_type": "stream",
     "text": [
      "After filtering, 2763 genes remain.\n"
     ]
    },
    {
     "data": {
      "text/plain": [
       "tensor([13,  0, 13,  ...,  3,  8,  6], device='cuda:3')"
      ]
     },
     "execution_count": 7,
     "metadata": {},
     "output_type": "execute_result"
    }
   ],
   "source": [
    "pipeline.predict(\n",
    "                data, # An AnnData object\n",
    "                pipeline_config, # The config dictionary we created previously, optional\n",
    "            )"
   ]
  },
  {
   "cell_type": "code",
   "execution_count": 8,
   "id": "f773fa50",
   "metadata": {},
   "outputs": [
    {
     "name": "stdout",
     "output_type": "stream",
     "text": [
      "After filtering, 2763 genes remain.\n"
     ]
    },
    {
     "data": {
      "text/plain": [
       "{'acc': 0.7798228859901428,\n",
       " 'f1_score': 0.7818055152893066,\n",
       " 'precision': 0.8037915825843811,\n",
       " 'recall': 0.7798228859901428}"
      ]
     },
     "execution_count": 8,
     "metadata": {},
     "output_type": "execute_result"
    }
   ],
   "source": [
    "pipeline.score(data, # An AnnData object\n",
    "                pipeline_config, # The config dictionary we created previously, optional\n",
    "                split_field = 'split', # Specify a column in .obs to specify train and valid split, optional\n",
    "                target_split = 'test', # Specify a target split to predict, optional\n",
    "                label_fields = ['celltype'])  # Specify a column in .obs that contains cell type labels"
   ]
  },
  {
   "cell_type": "code",
   "execution_count": null,
   "id": "f62de0f9",
   "metadata": {},
   "outputs": [],
   "source": []
  }
 ],
 "metadata": {
  "kernelspec": {
   "display_name": "cellplm",
   "language": "python",
   "name": "cellplm"
  },
  "language_info": {
   "codemirror_mode": {
    "name": "ipython",
    "version": 3
   },
   "file_extension": ".py",
   "mimetype": "text/x-python",
   "name": "python",
   "nbconvert_exporter": "python",
   "pygments_lexer": "ipython3",
   "version": "3.9.18"
  }
 },
 "nbformat": 4,
 "nbformat_minor": 5
}
